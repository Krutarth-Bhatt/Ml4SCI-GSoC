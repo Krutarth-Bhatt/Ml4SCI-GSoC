{
  "nbformat": 4,
  "nbformat_minor": 0,
  "metadata": {
    "colab": {
      "name": "Task1 and Vision Transformer.ipynb",
      "provenance": [],
      "collapsed_sections": [
        "yqwE2S3BqNzs",
        "EzZf2tU5Qa6D",
        "kEcHKWrNRBKm",
        "ztPmrT4bVEso",
        "8PRVwcP3GHf5",
        "GAIIiZz3BO6s"
      ]
    },
    "kernelspec": {
      "name": "python3",
      "display_name": "Python 3"
    },
    "language_info": {
      "name": "python"
    },
    "accelerator": "GPU"
  },
  "cells": [
    {
      "cell_type": "markdown",
      "source": [
        "<h3> <b> Submission Details:\n",
        "<ul>\n",
        "<li> Name : Krutarth Bhatt\n",
        "<li> Current Occupation : MS in Computer Science Student at Arizona State University. \n",
        "<li> Submitted with title: Vision Transformers with Capsule Networks for End-to-End Particle Reconstruction for CMS Experiment\n",
        "<li> My <a href='https://www.linkedin.com/in/krutarth-bhatt/'>LinkedIn<a> "
      ],
      "metadata": {
        "id": "jFUaH3U3rQ2D"
      }
    },
    {
      "cell_type": "markdown",
      "source": [
        "<h3> <b> My Further Plan for this project:\n",
        "<ul>\n",
        "<li> Moving further, I plan to make use of Capsule Networks proposed by Dr. Hinton along with vision transformers to gain SoTA results on high enery particle classification.\n",
        "<li> The reason for this choosing this kind of architecture is because, Capsule Networks are rotationally and translationally invariant and can learn spacial relationships between features of an image. Combining such a powerful network with ViT will lead to very high performance. \n",
        "<li> Implementation plan as of now is to use Capsule Network in the beginnig and then use the feature capsules extracted by the network as an input to ViT. \n",
        "<li> My research paper on using capsule networks for facial emotion recognition can be found here. (<a href='https://link.springer.com/chapter/10.1007/978-3-030-63820-7_45'> EmptionCaps </a>)  \n",
        "</ul>\n",
        "<h3> <b> Please Note that this plan is based on my thoughts of how to move forward with the project. Not moving forward with this or any changes from the community or mentors are appreciated.   "
      ],
      "metadata": {
        "id": "X9GUSVZS_j8t"
      }
    },
    {
      "cell_type": "markdown",
      "source": [
        "<h3> <b> This NoteBook Contains The Implemenmtation of:\n",
        "<ol>\n",
        "<li> Task 1 : CNN trained to perform Electron/Proton classification. Implementation done in both Tensorflow and PyTorch. \n",
        "<li> Project Spcific Task: Vision Transformer trained to perform Electron/Proton classification.   "
      ],
      "metadata": {
        "id": "Os7vFxmYpIvd"
      }
    },
    {
      "cell_type": "markdown",
      "source": [
        "#Loading Contents from Google Drive and Python Libraries"
      ],
      "metadata": {
        "id": "yqwE2S3BqNzs"
      }
    },
    {
      "cell_type": "code",
      "source": [
        "from google.colab import drive\n",
        "drive.mount('/content/drive')"
      ],
      "metadata": {
        "colab": {
          "base_uri": "https://localhost:8080/"
        },
        "id": "W1P9T1-3Ndfz",
        "outputId": "7f701ab5-8167-4838-8616-18598c45b6c8"
      },
      "execution_count": null,
      "outputs": [
        {
          "output_type": "stream",
          "name": "stdout",
          "text": [
            "Drive already mounted at /content/drive; to attempt to forcibly remount, call drive.mount(\"/content/drive\", force_remount=True).\n"
          ]
        }
      ]
    },
    {
      "cell_type": "code",
      "source": [
        "cd /content/drive/MyDrive/ML4Sci/Task1"
      ],
      "metadata": {
        "colab": {
          "base_uri": "https://localhost:8080/"
        },
        "id": "A5YOyvBSNlOA",
        "outputId": "1788e72f-f91e-4e5a-e64f-7ac6910d00f1"
      },
      "execution_count": null,
      "outputs": [
        {
          "output_type": "stream",
          "name": "stdout",
          "text": [
            "/content/drive/MyDrive/ML4Sci/Task1\n"
          ]
        }
      ]
    },
    {
      "cell_type": "code",
      "source": [
        "import h5py    \n",
        "import numpy as np \n",
        "import pandas as pd\n",
        "from sklearn.utils import shuffle\n",
        "import cv2\n",
        "from google.colab.patches import cv2_imshow\n",
        "import matplotlib.pyplot as plt \n",
        "import pickle "
      ],
      "metadata": {
        "id": "z1bPzkiIOtfT"
      },
      "execution_count": null,
      "outputs": []
    },
    {
      "cell_type": "markdown",
      "source": [
        "#Loading Data From Provided hdf5 files"
      ],
      "metadata": {
        "id": "EzZf2tU5Qa6D"
      }
    },
    {
      "cell_type": "code",
      "execution_count": null,
      "metadata": {
        "id": "74FySqb6NRnE"
      },
      "outputs": [],
      "source": [
        "f1 = h5py.File(\"SingleElectronPt50_IMGCROPS_n249k_RHv1.hdf5\",'r+')   \n",
        "x_elec = np.array(f1.get('X'))\n",
        "y_elec = np.array(f1.get('y'))"
      ]
    },
    {
      "cell_type": "code",
      "source": [
        "print(x_elec.shape)\n",
        "print(y_elec.shape)"
      ],
      "metadata": {
        "colab": {
          "base_uri": "https://localhost:8080/"
        },
        "id": "GceFuHIdQjVa",
        "outputId": "bbb4a13d-d93c-48ee-b42d-585a161bb3b2"
      },
      "execution_count": null,
      "outputs": [
        {
          "output_type": "stream",
          "name": "stdout",
          "text": [
            "(249000, 32, 32, 2)\n",
            "(249000,)\n"
          ]
        }
      ]
    },
    {
      "cell_type": "code",
      "source": [
        "f1 = h5py.File(\"SinglePhotonPt50_IMGCROPS_n249k_RHv1.hdf5\",'r+')   \n",
        "x_prot = np.array(f1.get('X'))\n",
        "y_prot = np.array(f1.get('y'))"
      ],
      "metadata": {
        "id": "pzzkaU5LNxfZ"
      },
      "execution_count": null,
      "outputs": []
    },
    {
      "cell_type": "code",
      "source": [
        "print(x_elec.shape)\n",
        "print(y_elec.shape)"
      ],
      "metadata": {
        "colab": {
          "base_uri": "https://localhost:8080/"
        },
        "id": "jOWyd3xwQv3g",
        "outputId": "575f51e7-9dd6-4ea3-f2e4-415b39bc4a0a"
      },
      "execution_count": null,
      "outputs": [
        {
          "output_type": "stream",
          "name": "stdout",
          "text": [
            "(249000, 32, 32, 2)\n",
            "(249000,)\n"
          ]
        }
      ]
    },
    {
      "cell_type": "markdown",
      "source": [
        "#Splitting Training and Testing Data "
      ],
      "metadata": {
        "id": "kEcHKWrNRBKm"
      }
    },
    {
      "cell_type": "code",
      "source": [
        "def ran_shuffle_unison(X, y):\n",
        "  X, y = shuffle(X, y, random_state=0)\n",
        "  return X , y"
      ],
      "metadata": {
        "id": "rzrhTnTZQyLf"
      },
      "execution_count": null,
      "outputs": []
    },
    {
      "cell_type": "code",
      "source": [
        "x_elec , y_elec = ran_shuffle_unison(x_elec, y_elec)\n",
        "x_prot , y_prot = ran_shuffle_unison(x_prot, y_prot)"
      ],
      "metadata": {
        "id": "45fnGynOSRpl"
      },
      "execution_count": null,
      "outputs": []
    },
    {
      "cell_type": "code",
      "source": [
        "x_elec.shape"
      ],
      "metadata": {
        "colab": {
          "base_uri": "https://localhost:8080/"
        },
        "id": "mDzNlz5xSzXK",
        "outputId": "98c73993-1678-4cfc-f4ad-614f795a1ad6"
      },
      "execution_count": null,
      "outputs": [
        {
          "output_type": "execute_result",
          "data": {
            "text/plain": [
              "(249000, 32, 32, 2)"
            ]
          },
          "metadata": {},
          "execution_count": 11
        }
      ]
    },
    {
      "cell_type": "code",
      "source": [
        "# Split Train and Test for Electron \n",
        "x_elec_train = x_elec[:199200]\n",
        "y_elec_train = y_elec[:199200]\n",
        "\n",
        "x_elec_test = x_elec[199200:]\n",
        "y_elec_test = y_elec[199200:]"
      ],
      "metadata": {
        "id": "YqhmHlo4S50X"
      },
      "execution_count": null,
      "outputs": []
    },
    {
      "cell_type": "code",
      "source": [
        "# Split Train and Test for Proton \n",
        "x_prot_train = x_prot[:199200]\n",
        "y_prot_train = y_prot[:199200]\n",
        "\n",
        "x_prot_test = x_prot[199200:]\n",
        "y_prot_test = y_prot[199200:]"
      ],
      "metadata": {
        "id": "snYjxqxdTehx"
      },
      "execution_count": null,
      "outputs": []
    },
    {
      "cell_type": "code",
      "source": [
        "train_x = np.concatenate((x_elec_train, x_prot_train))\n",
        "train_y = np.concatenate((y_elec_train, y_prot_train)) \n",
        "\n",
        "test_x = np.concatenate((x_elec_test, x_prot_test))\n",
        "test_y = np.concatenate((y_elec_test, y_prot_test)) "
      ],
      "metadata": {
        "id": "3Evyj847UDoG"
      },
      "execution_count": null,
      "outputs": []
    },
    {
      "cell_type": "code",
      "source": [
        "train_x , train_y = ran_shuffle_unison(train_x, train_y)\n",
        "test_x , test_y = ran_shuffle_unison(test_x, test_y)"
      ],
      "metadata": {
        "id": "8_qgEuy71iMD"
      },
      "execution_count": null,
      "outputs": []
    },
    {
      "cell_type": "code",
      "source": [
        "print(\"Training Samples : \" + str(train_x.shape[0]))\n",
        "print(\"Testing Samples : \" + str(test_x.shape[0]))"
      ],
      "metadata": {
        "colab": {
          "base_uri": "https://localhost:8080/"
        },
        "id": "RjMKnhWUVPSL",
        "outputId": "e935a876-cb45-45d7-c2ed-0c62151a0560"
      },
      "execution_count": null,
      "outputs": [
        {
          "output_type": "stream",
          "name": "stdout",
          "text": [
            "Training Samples : 398400\n",
            "Testing Samples : 99600\n"
          ]
        }
      ]
    },
    {
      "cell_type": "code",
      "source": [
        "del x_elec\n",
        "del y_elec\n",
        "del x_prot\n",
        "del y_prot\n",
        "\n",
        "\n",
        "del x_elec_train\n",
        "del y_elec_train\n",
        "del x_elec_test\n",
        "del y_elec_test\n",
        "\n",
        "del x_prot_train\n",
        "del y_prot_train\n",
        "del x_prot_test\n",
        "del y_prot_test"
      ],
      "metadata": {
        "id": "uH1FQbgO6G5r"
      },
      "execution_count": null,
      "outputs": []
    },
    {
      "cell_type": "code",
      "source": [
        "#Saving the Train-Test Split Dataset\n",
        "\n",
        "# train_dic = {'Images':train_x, 'Lables':train_y}\n",
        "# test_dic = {'Images':test_x, 'Lables':test_y}"
      ],
      "metadata": {
        "id": "9m79AeCeJZmS"
      },
      "execution_count": null,
      "outputs": []
    },
    {
      "cell_type": "code",
      "source": [
        "# with open('train_task1.pkl', 'wb') as f:\n",
        "#     pickle.dump(train_dic, f)\n",
        "\n",
        "# with open('test_task1.pkl', 'wb') as f:\n",
        "#     pickle.dump(test_dic, f)\n"
      ],
      "metadata": {
        "id": "n6H04IuuKnzg"
      },
      "execution_count": null,
      "outputs": []
    },
    {
      "cell_type": "markdown",
      "source": [
        "#Tensorflow Implementation"
      ],
      "metadata": {
        "id": "ztPmrT4bVEso"
      }
    },
    {
      "cell_type": "code",
      "source": [
        "import tensorflow as tf\n",
        "\n",
        "from tensorflow.keras.layers import Dense, Flatten, Conv2D\n",
        "from tensorflow.keras import Model"
      ],
      "metadata": {
        "id": "2XOflAjQU41z"
      },
      "execution_count": null,
      "outputs": []
    },
    {
      "cell_type": "code",
      "source": [
        "#Simple CNN \n",
        "class CNN_Model(Model):\n",
        "  def __init__(self):\n",
        "    super(CNN_Model, self).__init__()\n",
        "    \n",
        "    self.bn1 = tf.keras.layers.BatchNormalization()\n",
        "    \n",
        "    self.conv1 = Conv2D(1, 3, activation='relu', input_shape = (32, 32, 2))\n",
        "    self.bn2 = tf.keras.layers.BatchNormalization()\n",
        "    \n",
        "    self.conv2 = Conv2D(1, 3, activation='relu', input_shape = (30, 30, 1))\n",
        "    self.bn3 = tf.keras.layers.BatchNormalization()\n",
        "\n",
        "    self.flatten = Flatten()\n",
        "    \n",
        "    self.d1 = Dense(512, activation='relu')\n",
        "    self.bn_dense1 = tf.keras.layers.BatchNormalization()\n",
        "    self.d2 = Dense(256, activation='relu')\n",
        "    self.bn_dense2 = tf.keras.layers.BatchNormalization()\n",
        "\n",
        "    self.d3 = Dense(1, activation='sigmoid')\n",
        "\n",
        "    \n",
        "\n",
        "  def call(self, x):\n",
        "    x = self.bn1(x)\n",
        "    x = self.conv1(x)\n",
        "    x = self.bn2(x)\n",
        "    x = self.conv2(x)\n",
        "    x = self.bn3(x)\n",
        "    \n",
        "\n",
        "    x = self.flatten(x)\n",
        "    x = self.d1(x)\n",
        "    x = self.bn_dense1(x)\n",
        "    x = self.d2(x)\n",
        "    x = self.bn_dense2(x)\n",
        "\n",
        "    x = self.d3(x)\n",
        "\n",
        "    return x\n",
        "\n",
        "# Create an instance of the model\n",
        "model = CNN_Model()"
      ],
      "metadata": {
        "id": "cyX6h3ogWLAu"
      },
      "execution_count": null,
      "outputs": []
    },
    {
      "cell_type": "code",
      "source": [
        "#Custom Metric to Get auc_roc during training \n",
        "from sklearn.metrics import roc_auc_score\n",
        "def auroc(y_true, y_pred):\n",
        "    return tf.py_function(roc_auc_score, (y_true, y_pred), tf.double)"
      ],
      "metadata": {
        "id": "Dc3dlOjuoz0F"
      },
      "execution_count": null,
      "outputs": []
    },
    {
      "cell_type": "code",
      "source": [
        "#Custom Data Generator \n",
        "class CustomDataGen(tf.keras.utils.Sequence):\n",
        "    \n",
        "    def __init__(self, x, y,\n",
        "                 batch_size,\n",
        "                 input_size=(32, 32, 2),\n",
        "                 shuffle=True):\n",
        "      \n",
        "      self.x = train_x \n",
        "      self.y = train_y \n",
        "\n",
        "      self.batch_size = batch_size\n",
        "      self.shuffle = shuffle\n",
        "\n",
        "      self.input_size = input_size\n",
        "\n",
        "\n",
        "    def __getitem__(self, index):\n",
        "      return self.x[index*self.batch_size : (index+1)*self.batch_size], self.y[index*self.batch_size : (index+1)*self.batch_size]\n",
        "\n",
        "    def __len__(self):\n",
        "      return len(self.x) // self.batch_size\n",
        "\n",
        "\n",
        "    def on_epoch_end(self):\n",
        "      'Updates indexes after each epoch'\n",
        "      self.indexes = np.arange(len(self.x))\n",
        "      if self.shuffle == True:\n",
        "          np.random.shuffle(self.indexes)"
      ],
      "metadata": {
        "id": "N8l0jCpgy6KU"
      },
      "execution_count": null,
      "outputs": []
    },
    {
      "cell_type": "code",
      "source": [
        "train_gen = CustomDataGen(train_x, train_y, 2048)\n",
        "val_gen = CustomDataGen(test_x, test_y, 2048)"
      ],
      "metadata": {
        "id": "tjClt5AO2SYz"
      },
      "execution_count": null,
      "outputs": []
    },
    {
      "cell_type": "markdown",
      "source": [
        "##Training Normal CNN Model "
      ],
      "metadata": {
        "id": "6l9DEnCLyuyy"
      }
    },
    {
      "cell_type": "code",
      "source": [
        "model.compile(optimizer=tf.keras.optimizers.Adam(learning_rate=0.0008),\n",
        "              loss=tf.keras.losses.BinaryCrossentropy(),\n",
        "              metrics=['accuracy', auroc])"
      ],
      "metadata": {
        "id": "faPoSvuQYjxy"
      },
      "execution_count": null,
      "outputs": []
    },
    {
      "cell_type": "code",
      "source": [
        "checkpoint_callback = tf.keras.callbacks.ModelCheckpoint(\n",
        "    filepath = 'models/task1_tf_model.ckpt',\n",
        "    monitor='val_auroc',\n",
        "    verbose=0,\n",
        "    save_best_only=True,\n",
        "    save_weights_only=False,\n",
        "    mode='max',\n",
        "    save_freq='epoch',\n",
        "    options=None,\n",
        "    initial_value_threshold=None,\n",
        ")"
      ],
      "metadata": {
        "id": "OQHuiuBnMXa_"
      },
      "execution_count": null,
      "outputs": []
    },
    {
      "cell_type": "code",
      "source": [
        "history = model.fit(train_gen, validation_data = val_gen, epochs = 50, callbacks=[checkpoint_callback])"
      ],
      "metadata": {
        "colab": {
          "base_uri": "https://localhost:8080/"
        },
        "id": "usmb4J4Dwrwa",
        "outputId": "25c16f90-7a2d-437f-e404-42fd98d853ef"
      },
      "execution_count": null,
      "outputs": [
        {
          "output_type": "stream",
          "name": "stdout",
          "text": [
            "Epoch 1/50\n",
            "192/194 [============================>.] - ETA: 0s - loss: 0.6877 - accuracy: 0.5826 - auroc: 0.6145INFO:tensorflow:Assets written to: models/task1_tf_model.ckpt/assets\n",
            "194/194 [==============================] - 14s 52ms/step - loss: 0.6874 - accuracy: 0.5829 - auroc: 0.6148 - val_loss: 0.6932 - val_accuracy: 0.5036 - val_auroc: 0.5126\n",
            "Epoch 2/50\n",
            "194/194 [==============================] - ETA: 0s - loss: 0.6453 - accuracy: 0.6246 - auroc: 0.6713INFO:tensorflow:Assets written to: models/task1_tf_model.ckpt/assets\n",
            "194/194 [==============================] - 10s 50ms/step - loss: 0.6453 - accuracy: 0.6246 - auroc: 0.6713 - val_loss: 0.7210 - val_accuracy: 0.5015 - val_auroc: 0.5284\n",
            "Epoch 3/50\n",
            "192/194 [============================>.] - ETA: 0s - loss: 0.6307 - accuracy: 0.6413 - auroc: 0.6959INFO:tensorflow:Assets written to: models/task1_tf_model.ckpt/assets\n",
            "194/194 [==============================] - 10s 50ms/step - loss: 0.6307 - accuracy: 0.6413 - auroc: 0.6958 - val_loss: 0.6809 - val_accuracy: 0.5548 - val_auroc: 0.6454\n",
            "Epoch 4/50\n",
            "192/194 [============================>.] - ETA: 0s - loss: 0.6160 - accuracy: 0.6580 - auroc: 0.7174INFO:tensorflow:Assets written to: models/task1_tf_model.ckpt/assets\n",
            "194/194 [==============================] - 10s 50ms/step - loss: 0.6160 - accuracy: 0.6579 - auroc: 0.7174 - val_loss: 0.6051 - val_accuracy: 0.6739 - val_auroc: 0.7411\n",
            "Epoch 5/50\n",
            "194/194 [==============================] - ETA: 0s - loss: 0.6011 - accuracy: 0.6723 - auroc: 0.7369INFO:tensorflow:Assets written to: models/task1_tf_model.ckpt/assets\n",
            "194/194 [==============================] - 10s 51ms/step - loss: 0.6011 - accuracy: 0.6723 - auroc: 0.7369 - val_loss: 0.5808 - val_accuracy: 0.6868 - val_auroc: 0.7649\n",
            "Epoch 6/50\n",
            "193/194 [============================>.] - ETA: 0s - loss: 0.5828 - accuracy: 0.6880 - auroc: 0.7583INFO:tensorflow:Assets written to: models/task1_tf_model.ckpt/assets\n",
            "194/194 [==============================] - 10s 50ms/step - loss: 0.5828 - accuracy: 0.6879 - auroc: 0.7582 - val_loss: 0.5586 - val_accuracy: 0.7128 - val_auroc: 0.7914\n",
            "Epoch 7/50\n",
            "194/194 [==============================] - ETA: 0s - loss: 0.5629 - accuracy: 0.7047 - auroc: 0.7790INFO:tensorflow:Assets written to: models/task1_tf_model.ckpt/assets\n",
            "194/194 [==============================] - 10s 50ms/step - loss: 0.5629 - accuracy: 0.7047 - auroc: 0.7790 - val_loss: 0.5315 - val_accuracy: 0.7312 - val_auroc: 0.8108\n",
            "Epoch 8/50\n",
            "194/194 [==============================] - ETA: 0s - loss: 0.5411 - accuracy: 0.7204 - auroc: 0.7994INFO:tensorflow:Assets written to: models/task1_tf_model.ckpt/assets\n",
            "194/194 [==============================] - 10s 51ms/step - loss: 0.5411 - accuracy: 0.7204 - auroc: 0.7994 - val_loss: 0.5104 - val_accuracy: 0.7445 - val_auroc: 0.8293\n",
            "Epoch 9/50\n",
            "193/194 [============================>.] - ETA: 0s - loss: 0.5191 - accuracy: 0.7368 - auroc: 0.8185INFO:tensorflow:Assets written to: models/task1_tf_model.ckpt/assets\n",
            "194/194 [==============================] - 10s 51ms/step - loss: 0.5192 - accuracy: 0.7367 - auroc: 0.8184 - val_loss: 0.4874 - val_accuracy: 0.7581 - val_auroc: 0.8472\n",
            "Epoch 10/50\n",
            "194/194 [==============================] - 8s 40ms/step - loss: 0.4950 - accuracy: 0.7530 - auroc: 0.8375 - val_loss: 0.4868 - val_accuracy: 0.7557 - val_auroc: 0.8436\n",
            "Epoch 11/50\n",
            "194/194 [==============================] - ETA: 0s - loss: 0.4720 - accuracy: 0.7681 - auroc: 0.8544INFO:tensorflow:Assets written to: models/task1_tf_model.ckpt/assets\n",
            "194/194 [==============================] - 9s 49ms/step - loss: 0.4720 - accuracy: 0.7681 - auroc: 0.8544 - val_loss: 0.4376 - val_accuracy: 0.7899 - val_auroc: 0.8809\n",
            "Epoch 12/50\n",
            "193/194 [============================>.] - ETA: 0s - loss: 0.4479 - accuracy: 0.7828 - auroc: 0.8704INFO:tensorflow:Assets written to: models/task1_tf_model.ckpt/assets\n",
            "194/194 [==============================] - 10s 50ms/step - loss: 0.4480 - accuracy: 0.7827 - auroc: 0.8703 - val_loss: 0.4107 - val_accuracy: 0.8086 - val_auroc: 0.8956\n",
            "Epoch 13/50\n",
            "193/194 [============================>.] - ETA: 0s - loss: 0.4254 - accuracy: 0.7979 - auroc: 0.8845INFO:tensorflow:Assets written to: models/task1_tf_model.ckpt/assets\n",
            "194/194 [==============================] - 10s 49ms/step - loss: 0.4255 - accuracy: 0.7977 - auroc: 0.8844 - val_loss: 0.3991 - val_accuracy: 0.8115 - val_auroc: 0.8996\n",
            "Epoch 14/50\n",
            "194/194 [==============================] - ETA: 0s - loss: 0.4039 - accuracy: 0.8097 - auroc: 0.8969INFO:tensorflow:Assets written to: models/task1_tf_model.ckpt/assets\n",
            "194/194 [==============================] - 10s 50ms/step - loss: 0.4039 - accuracy: 0.8097 - auroc: 0.8969 - val_loss: 0.3763 - val_accuracy: 0.8257 - val_auroc: 0.9151\n",
            "Epoch 15/50\n",
            "192/194 [============================>.] - ETA: 0s - loss: 0.3834 - accuracy: 0.8216 - auroc: 0.9078INFO:tensorflow:Assets written to: models/task1_tf_model.ckpt/assets\n",
            "194/194 [==============================] - 10s 49ms/step - loss: 0.3837 - accuracy: 0.8213 - auroc: 0.9076 - val_loss: 0.3567 - val_accuracy: 0.8363 - val_auroc: 0.9210\n",
            "Epoch 16/50\n",
            "194/194 [==============================] - ETA: 0s - loss: 0.3649 - accuracy: 0.8314 - auroc: 0.9169INFO:tensorflow:Assets written to: models/task1_tf_model.ckpt/assets\n",
            "194/194 [==============================] - 10s 49ms/step - loss: 0.3649 - accuracy: 0.8314 - auroc: 0.9169 - val_loss: 0.3326 - val_accuracy: 0.8516 - val_auroc: 0.9336\n",
            "Epoch 17/50\n",
            "194/194 [==============================] - ETA: 0s - loss: 0.3451 - accuracy: 0.8436 - auroc: 0.9264INFO:tensorflow:Assets written to: models/task1_tf_model.ckpt/assets\n",
            "194/194 [==============================] - 10s 51ms/step - loss: 0.3451 - accuracy: 0.8436 - auroc: 0.9264 - val_loss: 0.3256 - val_accuracy: 0.8555 - val_auroc: 0.9360\n",
            "Epoch 18/50\n",
            "193/194 [============================>.] - ETA: 0s - loss: 0.3274 - accuracy: 0.8523 - auroc: 0.9342INFO:tensorflow:Assets written to: models/task1_tf_model.ckpt/assets\n",
            "194/194 [==============================] - 10s 49ms/step - loss: 0.3276 - accuracy: 0.8522 - auroc: 0.9341 - val_loss: 0.2998 - val_accuracy: 0.8690 - val_auroc: 0.9465\n",
            "Epoch 19/50\n",
            "193/194 [============================>.] - ETA: 0s - loss: 0.3114 - accuracy: 0.8609 - auroc: 0.9407INFO:tensorflow:Assets written to: models/task1_tf_model.ckpt/assets\n",
            "194/194 [==============================] - 10s 50ms/step - loss: 0.3116 - accuracy: 0.8607 - auroc: 0.9406 - val_loss: 0.2897 - val_accuracy: 0.8731 - val_auroc: 0.9499\n",
            "Epoch 20/50\n",
            "193/194 [============================>.] - ETA: 0s - loss: 0.2962 - accuracy: 0.8686 - auroc: 0.9467INFO:tensorflow:Assets written to: models/task1_tf_model.ckpt/assets\n",
            "194/194 [==============================] - 10s 51ms/step - loss: 0.2964 - accuracy: 0.8684 - auroc: 0.9466 - val_loss: 0.2762 - val_accuracy: 0.8791 - val_auroc: 0.9541\n",
            "Epoch 21/50\n",
            "193/194 [============================>.] - ETA: 0s - loss: 0.2827 - accuracy: 0.8760 - auroc: 0.9517INFO:tensorflow:Assets written to: models/task1_tf_model.ckpt/assets\n",
            "194/194 [==============================] - 10s 49ms/step - loss: 0.2828 - accuracy: 0.8760 - auroc: 0.9516 - val_loss: 0.2633 - val_accuracy: 0.8863 - val_auroc: 0.9591\n",
            "Epoch 22/50\n",
            "192/194 [============================>.] - ETA: 0s - loss: 0.2675 - accuracy: 0.8839 - auroc: 0.9569INFO:tensorflow:Assets written to: models/task1_tf_model.ckpt/assets\n",
            "194/194 [==============================] - 10s 50ms/step - loss: 0.2679 - accuracy: 0.8837 - auroc: 0.9568 - val_loss: 0.2582 - val_accuracy: 0.8886 - val_auroc: 0.9597\n",
            "Epoch 23/50\n",
            "194/194 [==============================] - ETA: 0s - loss: 0.2559 - accuracy: 0.8896 - auroc: 0.9608INFO:tensorflow:Assets written to: models/task1_tf_model.ckpt/assets\n",
            "194/194 [==============================] - 10s 50ms/step - loss: 0.2559 - accuracy: 0.8896 - auroc: 0.9608 - val_loss: 0.2384 - val_accuracy: 0.8980 - val_auroc: 0.9676\n",
            "Epoch 24/50\n",
            "193/194 [============================>.] - ETA: 0s - loss: 0.2427 - accuracy: 0.8963 - auroc: 0.9648INFO:tensorflow:Assets written to: models/task1_tf_model.ckpt/assets\n",
            "194/194 [==============================] - 10s 49ms/step - loss: 0.2429 - accuracy: 0.8962 - auroc: 0.9648 - val_loss: 0.2275 - val_accuracy: 0.9038 - val_auroc: 0.9704\n",
            "Epoch 25/50\n",
            "194/194 [==============================] - 8s 40ms/step - loss: 0.2313 - accuracy: 0.9015 - auroc: 0.9682 - val_loss: 0.2318 - val_accuracy: 0.8994 - val_auroc: 0.9680\n",
            "Epoch 26/50\n",
            "194/194 [==============================] - ETA: 0s - loss: 0.2201 - accuracy: 0.9071 - auroc: 0.9713INFO:tensorflow:Assets written to: models/task1_tf_model.ckpt/assets\n",
            "194/194 [==============================] - 10s 50ms/step - loss: 0.2201 - accuracy: 0.9071 - auroc: 0.9713 - val_loss: 0.2084 - val_accuracy: 0.9126 - val_auroc: 0.9744\n",
            "Epoch 27/50\n",
            "193/194 [============================>.] - ETA: 0s - loss: 0.2127 - accuracy: 0.9107 - auroc: 0.9732INFO:tensorflow:Assets written to: models/task1_tf_model.ckpt/assets\n",
            "194/194 [==============================] - 9s 49ms/step - loss: 0.2128 - accuracy: 0.9106 - auroc: 0.9731 - val_loss: 0.2006 - val_accuracy: 0.9177 - val_auroc: 0.9771\n",
            "Epoch 28/50\n",
            "194/194 [==============================] - 8s 40ms/step - loss: 0.2006 - accuracy: 0.9169 - auroc: 0.9763 - val_loss: 0.2003 - val_accuracy: 0.9156 - val_auroc: 0.9759\n",
            "Epoch 29/50\n",
            "192/194 [============================>.] - ETA: 0s - loss: 0.1938 - accuracy: 0.9196 - auroc: 0.9779INFO:tensorflow:Assets written to: models/task1_tf_model.ckpt/assets\n",
            "194/194 [==============================] - 10s 50ms/step - loss: 0.1941 - accuracy: 0.9195 - auroc: 0.9778 - val_loss: 0.1948 - val_accuracy: 0.9185 - val_auroc: 0.9773\n",
            "Epoch 30/50\n",
            "194/194 [==============================] - ETA: 0s - loss: 0.1859 - accuracy: 0.9233 - auroc: 0.9797INFO:tensorflow:Assets written to: models/task1_tf_model.ckpt/assets\n",
            "194/194 [==============================] - 10s 51ms/step - loss: 0.1859 - accuracy: 0.9233 - auroc: 0.9797 - val_loss: 0.1970 - val_accuracy: 0.9162 - val_auroc: 0.9774\n",
            "Epoch 31/50\n",
            "194/194 [==============================] - ETA: 0s - loss: 0.1769 - accuracy: 0.9276 - auroc: 0.9817INFO:tensorflow:Assets written to: models/task1_tf_model.ckpt/assets\n",
            "194/194 [==============================] - 10s 50ms/step - loss: 0.1769 - accuracy: 0.9276 - auroc: 0.9817 - val_loss: 0.1739 - val_accuracy: 0.9286 - val_auroc: 0.9823\n",
            "Epoch 32/50\n",
            "194/194 [==============================] - 8s 40ms/step - loss: 0.1697 - accuracy: 0.9308 - auroc: 0.9832 - val_loss: 0.1763 - val_accuracy: 0.9268 - val_auroc: 0.9814\n",
            "Epoch 33/50\n",
            "194/194 [==============================] - 8s 40ms/step - loss: 0.1642 - accuracy: 0.9338 - auroc: 0.9842 - val_loss: 0.1762 - val_accuracy: 0.9260 - val_auroc: 0.9814\n",
            "Epoch 34/50\n",
            "194/194 [==============================] - ETA: 0s - loss: 0.1585 - accuracy: 0.9358 - auroc: 0.9853INFO:tensorflow:Assets written to: models/task1_tf_model.ckpt/assets\n",
            "194/194 [==============================] - 10s 51ms/step - loss: 0.1585 - accuracy: 0.9358 - auroc: 0.9853 - val_loss: 0.1617 - val_accuracy: 0.9339 - val_auroc: 0.9854\n",
            "Epoch 35/50\n",
            "192/194 [============================>.] - ETA: 0s - loss: 0.1530 - accuracy: 0.9387 - auroc: 0.9864INFO:tensorflow:Assets written to: models/task1_tf_model.ckpt/assets\n",
            "194/194 [==============================] - 10s 49ms/step - loss: 0.1533 - accuracy: 0.9386 - auroc: 0.9863 - val_loss: 0.1499 - val_accuracy: 0.9403 - val_auroc: 0.9869\n",
            "Epoch 36/50\n",
            "194/194 [==============================] - 8s 40ms/step - loss: 0.1454 - accuracy: 0.9425 - auroc: 0.9878 - val_loss: 0.1566 - val_accuracy: 0.9356 - val_auroc: 0.9854\n",
            "Epoch 37/50\n",
            "193/194 [============================>.] - ETA: 0s - loss: 0.1396 - accuracy: 0.9447 - auroc: 0.9888INFO:tensorflow:Assets written to: models/task1_tf_model.ckpt/assets\n",
            "194/194 [==============================] - 10s 50ms/step - loss: 0.1397 - accuracy: 0.9446 - auroc: 0.9888 - val_loss: 0.1456 - val_accuracy: 0.9411 - val_auroc: 0.9879\n",
            "Epoch 38/50\n",
            "194/194 [==============================] - 8s 40ms/step - loss: 0.1337 - accuracy: 0.9476 - auroc: 0.9898 - val_loss: 0.1452 - val_accuracy: 0.9414 - val_auroc: 0.9877\n",
            "Epoch 39/50\n",
            "192/194 [============================>.] - ETA: 0s - loss: 0.1298 - accuracy: 0.9491 - auroc: 0.9903INFO:tensorflow:Assets written to: models/task1_tf_model.ckpt/assets\n",
            "194/194 [==============================] - 9s 49ms/step - loss: 0.1300 - accuracy: 0.9491 - auroc: 0.9902 - val_loss: 0.1431 - val_accuracy: 0.9422 - val_auroc: 0.9885\n",
            "Epoch 40/50\n",
            "192/194 [============================>.] - ETA: 0s - loss: 0.1259 - accuracy: 0.9511 - auroc: 0.9908INFO:tensorflow:Assets written to: models/task1_tf_model.ckpt/assets\n",
            "194/194 [==============================] - 10s 49ms/step - loss: 0.1261 - accuracy: 0.9510 - auroc: 0.9908 - val_loss: 0.1338 - val_accuracy: 0.9466 - val_auroc: 0.9893\n",
            "Epoch 41/50\n",
            "194/194 [==============================] - ETA: 0s - loss: 0.1228 - accuracy: 0.9519 - auroc: 0.9913INFO:tensorflow:Assets written to: models/task1_tf_model.ckpt/assets\n",
            "194/194 [==============================] - 10s 52ms/step - loss: 0.1228 - accuracy: 0.9519 - auroc: 0.9913 - val_loss: 0.1322 - val_accuracy: 0.9468 - val_auroc: 0.9897\n",
            "Epoch 42/50\n",
            "193/194 [============================>.] - ETA: 0s - loss: 0.1167 - accuracy: 0.9546 - auroc: 0.9922INFO:tensorflow:Assets written to: models/task1_tf_model.ckpt/assets\n",
            "194/194 [==============================] - 10s 50ms/step - loss: 0.1168 - accuracy: 0.9546 - auroc: 0.9922 - val_loss: 0.1261 - val_accuracy: 0.9498 - val_auroc: 0.9905\n",
            "Epoch 43/50\n",
            "193/194 [============================>.] - ETA: 0s - loss: 0.1161 - accuracy: 0.9551 - auroc: 0.9922INFO:tensorflow:Assets written to: models/task1_tf_model.ckpt/assets\n",
            "194/194 [==============================] - 10s 50ms/step - loss: 0.1162 - accuracy: 0.9550 - auroc: 0.9922 - val_loss: 0.1204 - val_accuracy: 0.9526 - val_auroc: 0.9915\n",
            "Epoch 44/50\n",
            "194/194 [==============================] - 8s 40ms/step - loss: 0.1123 - accuracy: 0.9564 - auroc: 0.9927 - val_loss: 0.1246 - val_accuracy: 0.9503 - val_auroc: 0.9907\n",
            "Epoch 45/50\n",
            "193/194 [============================>.] - ETA: 0s - loss: 0.1087 - accuracy: 0.9581 - auroc: 0.9932INFO:tensorflow:Assets written to: models/task1_tf_model.ckpt/assets\n",
            "194/194 [==============================] - 10s 50ms/step - loss: 0.1088 - accuracy: 0.9581 - auroc: 0.9932 - val_loss: 0.1173 - val_accuracy: 0.9538 - val_auroc: 0.9919\n",
            "Epoch 46/50\n",
            "194/194 [==============================] - 8s 40ms/step - loss: 0.1052 - accuracy: 0.9597 - auroc: 0.9936 - val_loss: 0.1379 - val_accuracy: 0.9430 - val_auroc: 0.9895\n",
            "Epoch 47/50\n",
            "193/194 [============================>.] - ETA: 0s - loss: 0.1004 - accuracy: 0.9618 - auroc: 0.9943INFO:tensorflow:Assets written to: models/task1_tf_model.ckpt/assets\n",
            "194/194 [==============================] - 10s 50ms/step - loss: 0.1005 - accuracy: 0.9617 - auroc: 0.9942 - val_loss: 0.1110 - val_accuracy: 0.9566 - val_auroc: 0.9927\n",
            "Epoch 48/50\n",
            "193/194 [============================>.] - ETA: 0s - loss: 0.1004 - accuracy: 0.9614 - auroc: 0.9942INFO:tensorflow:Assets written to: models/task1_tf_model.ckpt/assets\n",
            "194/194 [==============================] - 10s 51ms/step - loss: 0.1005 - accuracy: 0.9613 - auroc: 0.9941 - val_loss: 0.1077 - val_accuracy: 0.9584 - val_auroc: 0.9933\n",
            "Epoch 49/50\n",
            "194/194 [==============================] - 8s 39ms/step - loss: 0.0988 - accuracy: 0.9623 - auroc: 0.9944 - val_loss: 0.1094 - val_accuracy: 0.9572 - val_auroc: 0.9928\n",
            "Epoch 50/50\n",
            "194/194 [==============================] - 8s 39ms/step - loss: 0.0939 - accuracy: 0.9645 - auroc: 0.9949 - val_loss: 0.1153 - val_accuracy: 0.9538 - val_auroc: 0.9924\n"
          ]
        }
      ]
    },
    {
      "cell_type": "code",
      "source": [
        "#For Accuracy \n",
        "plt.plot(history.history['accuracy'])\n",
        "plt.plot(history.history['val_accuracy'])\n",
        "plt.title('model accuracy')\n",
        "plt.ylabel('accuracy')\n",
        "plt.xlabel('epoch')\n",
        "plt.legend(['train', 'test'], loc='upper left')\n",
        "plt.show()\n",
        "\n",
        "#For AUROC\n",
        "plt.plot(history.history['auroc'])\n",
        "plt.plot(history.history['val_auroc'])\n",
        "plt.title('model auroc')\n",
        "plt.ylabel('auroc')\n",
        "plt.xlabel('epoch')\n",
        "plt.legend(['train', 'test'], loc='upper left')\n",
        "plt.show()"
      ],
      "metadata": {
        "colab": {
          "base_uri": "https://localhost:8080/",
          "height": 573
        },
        "id": "anG7zL6GQaw-",
        "outputId": "98283995-0613-434f-a3cb-74bcce19ba9b"
      },
      "execution_count": null,
      "outputs": [
        {
          "output_type": "display_data",
          "data": {
            "text/plain": [
              "<Figure size 432x288 with 1 Axes>"
            ],
            "image/png": "[encoded data removed]"
          },
          "metadata": {
            "needs_background": "light"
          }
        },
        {
          "output_type": "display_data",
          "data": {
            "text/plain": [
              "<Figure size 432x288 with 1 Axes>"
            ],
            "image/png": "[encoded data removed]"
          },
          "metadata": {
            "needs_background": "light"
          }
        }
      ]
    },
    {
      "cell_type": "markdown",
      "source": [
        "#Pytorch Implementation (Same Model)"
      ],
      "metadata": {
        "id": "8PRVwcP3GHf5"
      }
    },
    {
      "cell_type": "code",
      "source": [
        "import torch\n",
        "import torch.nn as nn\n",
        "import torch.nn.functional as F\n",
        "from torch.utils.data import DataLoader, TensorDataset, Dataset\n",
        "from sklearn.metrics import accuracy_score, roc_auc_score"
      ],
      "metadata": {
        "id": "EdrRG5Ag5Ied"
      },
      "execution_count": null,
      "outputs": []
    },
    {
      "cell_type": "code",
      "source": [
        "torch.manual_seed(0)\n",
        "device = torch.device(\"cuda:0\" if torch.cuda.is_available() else \"cpu\")\n",
        "print(device)"
      ],
      "metadata": {
        "colab": {
          "base_uri": "https://localhost:8080/"
        },
        "id": "yqJPbEYeO5z6",
        "outputId": "af79e7dd-07d9-40ef-ee75-3e3b374725c9"
      },
      "execution_count": null,
      "outputs": [
        {
          "output_type": "stream",
          "name": "stdout",
          "text": [
            "cuda:0\n"
          ]
        }
      ]
    },
    {
      "cell_type": "code",
      "source": [
        "#Custom Data Generator For PyTorch\n",
        "class CustomDataGen_torch(Dataset):\n",
        "\n",
        "    def __init__(self, x, y,\n",
        "                 batch_size,\n",
        "                 input_size=(32, 32, 3),\n",
        "                 shuffle=True):\n",
        "      \n",
        "        self.x = train_x \n",
        "        self.y = train_y \n",
        "\n",
        "        self.batch_size = batch_size\n",
        "        self.shuffle = shuffle\n",
        "\n",
        "        self.input_size = input_size\n",
        "\n",
        "    def __len__(self):\n",
        "        return len(self.x) // self.batch_size\n",
        "\n",
        "    def __getitem__(self, idx):\n",
        "       x = torch.tensor(self.x[idx*self.batch_size : (idx+1)*self.batch_size], dtype=torch.float)\n",
        "       x = x.view(-1, 2, 32, 32)\n",
        "       y = torch.tensor(self.y[idx*self.batch_size : (idx+1)*self.batch_size], dtype=torch.float)\n",
        "       y = y.type(torch.cuda.FloatTensor)\n",
        "       return x, y"
      ],
      "metadata": {
        "id": "Rrz-DB4SSkGo"
      },
      "execution_count": null,
      "outputs": []
    },
    {
      "cell_type": "code",
      "source": [
        "train_gen_torch = CustomDataGen_torch(train_x, train_y, 2048)\n",
        "val_gen_torch = CustomDataGen_torch(test_x, test_y, 2048)"
      ],
      "metadata": {
        "id": "cBqnaIe3ZyCy"
      },
      "execution_count": null,
      "outputs": []
    },
    {
      "cell_type": "code",
      "source": [
        "#Defining PyTorch Model\n",
        "class CNN_Model(nn.Module):\n",
        "    def __init__(self):\n",
        "        super().__init__()\n",
        "        self.bn1 = m = nn.BatchNorm2d(2)\n",
        "        self.conv1 = nn.Conv2d(2, 1, 3)\n",
        "        self.bn2 = m = nn.BatchNorm2d(1)\n",
        "        self.conv2 = nn.Conv2d(1, 1, 3)\n",
        "        self.bn3 = m = nn.BatchNorm2d(1)\n",
        "\n",
        "        self.flatten = nn.Flatten()\n",
        "\n",
        "        self.d1 = nn.Linear(784, 512)\n",
        "        self.bn_dense1 = nn.BatchNorm1d(512)\n",
        "        self.drop_out1 = nn.Dropout(0.2)\n",
        "        self.d2 = nn.Linear(512, 256)\n",
        "        self.bn_dense2 = nn.BatchNorm1d(256)\n",
        "        self.d3 = nn.Linear(256, 1)\n",
        "\n",
        "\n",
        "    def forward(self, x):\n",
        "        x = self.bn1(x)\n",
        "        x = F.relu(self.conv1(x))\n",
        "        x = self.bn2(x)\n",
        "        x = F.relu(self.conv2(x))\n",
        "        x = self.bn3(x)\n",
        "\n",
        "        x = self.flatten(x)\n",
        "        x = F.relu(self.d1(x))\n",
        "        x = self.bn_dense1(x)\n",
        "        x = self.drop_out1(x)\n",
        "        x = F.relu(self.d2(x))\n",
        "        x = self.bn_dense2(x)\n",
        "       \n",
        "\n",
        "        x = torch.sigmoid(self.d3(x))\n",
        "        \n",
        "        return x\n",
        "\n",
        "    def binary_cross_entropy(yhat: np.ndarray, y: np.ndarray):\n",
        "        return -(y * np.log(yhat) + (1 - y) * np.log(1 - yhat)).mean()"
      ],
      "metadata": {
        "id": "K5kwzTQVzLze"
      },
      "execution_count": null,
      "outputs": []
    },
    {
      "cell_type": "code",
      "source": [
        "model_torch = CNN_Model()\n",
        "model_torch.to(device)"
      ],
      "metadata": {
        "colab": {
          "base_uri": "https://localhost:8080/"
        },
        "id": "gTV9D9WFPJhv",
        "outputId": "5043c956-8bb2-475b-a83d-a4486daf8d11"
      },
      "execution_count": null,
      "outputs": [
        {
          "output_type": "execute_result",
          "data": {
            "text/plain": [
              "CNN_Model(\n",
              "  (bn1): BatchNorm2d(2, eps=1e-05, momentum=0.1, affine=True, track_running_stats=True)\n",
              "  (conv1): Conv2d(2, 1, kernel_size=(3, 3), stride=(1, 1))\n",
              "  (bn2): BatchNorm2d(1, eps=1e-05, momentum=0.1, affine=True, track_running_stats=True)\n",
              "  (conv2): Conv2d(1, 1, kernel_size=(3, 3), stride=(1, 1))\n",
              "  (bn3): BatchNorm2d(1, eps=1e-05, momentum=0.1, affine=True, track_running_stats=True)\n",
              "  (flatten): Flatten(start_dim=1, end_dim=-1)\n",
              "  (d1): Linear(in_features=784, out_features=512, bias=True)\n",
              "  (bn_dense1): BatchNorm1d(512, eps=1e-05, momentum=0.1, affine=True, track_running_stats=True)\n",
              "  (drop_out1): Dropout(p=0.2, inplace=False)\n",
              "  (d2): Linear(in_features=512, out_features=256, bias=True)\n",
              "  (bn_dense2): BatchNorm1d(256, eps=1e-05, momentum=0.1, affine=True, track_running_stats=True)\n",
              "  (d3): Linear(in_features=256, out_features=1, bias=True)\n",
              ")"
            ]
          },
          "metadata": {},
          "execution_count": 39
        }
      ]
    },
    {
      "cell_type": "code",
      "source": [
        "optimizer = torch.optim.Adam(model_torch.parameters(), lr = 0.0008, eps=1e-07)\n",
        "epochs = 50\n",
        "loss_func = nn.BCELoss()"
      ],
      "metadata": {
        "id": "UEQ4rkalObkM"
      },
      "execution_count": null,
      "outputs": []
    },
    {
      "cell_type": "code",
      "source": [
        "#Training Loops For the Model\n",
        "\n",
        "print('Training....\\n')\n",
        "last_auroc = -1\n",
        "\n",
        "train_acc = []\n",
        "test_acc = []\n",
        "\n",
        "train_auroc = []\n",
        "test_auroc = []\n",
        "\n",
        "for i in range(epochs):\n",
        "  \n",
        "  model_torch.train()\n",
        "  predictions_train, actuals_train = list(), list() \n",
        "\n",
        "  for batch_id in range(train_gen_torch.__len__()):\n",
        "    \n",
        "    data, target = train_gen_torch[batch_id]\n",
        "\n",
        "    optimizer.zero_grad()\n",
        "     \n",
        "    input_Tensor = data.to(device)\n",
        "    target = target.to(device)\n",
        "    \n",
        "    y_pred  = model_torch.forward(input_Tensor)\n",
        "    y_pred = y_pred.type(torch.cuda.FloatTensor)\n",
        "    y_pred = y_pred.view(-1)\n",
        "    \n",
        "    actuals_train.extend(target.cpu().detach().numpy())\n",
        "    predictions_train.extend(y_pred.cpu().detach().numpy())\n",
        "\n",
        "    l = loss_func(y_pred, target)\n",
        "\n",
        "    print(\"\\repoch: {} iteration: {}  Loss: {:.5f}\".format( i+1, batch_id+1, l.item()),end=\"\")\n",
        "    \n",
        "    l.backward(retain_graph = True)\n",
        "      \n",
        "    optimizer.step()\n",
        "    \n",
        "  # actuals_train = [x[0] for x in actuals_train]\n",
        "  predictions_train = [int(x>0.5) for x in predictions_train]\n",
        "  \n",
        "  model_torch.eval()  \n",
        "  predictions, actuals = list(), list()  \n",
        "    \n",
        "  for j in range(val_gen_torch.__len__()):\n",
        "    \n",
        "    data, target = train_gen_torch[j]\n",
        "    \n",
        "    inp = data.to(device)\n",
        "    target = target.to(device)\n",
        "    target = target.view(-1,1)\n",
        "\n",
        "    y_pred  = model_torch.forward(inp)\n",
        "\n",
        "    actuals.extend(target.cpu().detach().numpy())\n",
        "    predictions.extend(y_pred.cpu().detach().numpy())\n",
        "\n",
        "\n",
        "  actuals = [x[0] for x in actuals]\n",
        "  predictions = [int(x[0]>0.5) for x in predictions]\n",
        "\n",
        "  train_acc.append(accuracy_score(actuals_train, predictions_train))\n",
        "  train_auroc.append(roc_auc_score(actuals_train, predictions_train))\n",
        "\n",
        "  test_acc.append(accuracy_score(actuals, predictions))\n",
        "  test_auroc.append(roc_auc_score(actuals, predictions))\n",
        "  \n",
        "  if(last_auroc<test_auroc[-1]):\n",
        "    last_auroc = test_auroc[-1]\n",
        "    torch.save(model_torch, 'models/task1_pytorch_model.pt')\n",
        "    \n",
        "  print('\\n|After Epoch: ' + str(i+1) + '|\\n' + 'Train Accuracy: '+str(accuracy_score(actuals_train, predictions_train)) + '| Train auc_roc: '+str(roc_auc_score(actuals_train, predictions_train))+'\\n' + 'Validation Accuracy: '+str(accuracy_score(actuals, predictions)) + '| Validation auc_roc: '+str(roc_auc_score(actuals, predictions))+'\\n')    "
      ],
      "metadata": {
        "id": "FYHgjiqUP75q",
        "colab": {
          "base_uri": "https://localhost:8080/"
        },
        "outputId": "ae6453fd-3cc5-4202-aed2-32beac9be537"
      },
      "execution_count": null,
      "outputs": [
        {
          "output_type": "stream",
          "name": "stdout",
          "text": [
            "Training....\n",
            "\n",
            "epoch: 1 iteration: 194  Loss: 0.68226\n",
            "|After Epoch: 1|\n",
            "Train Accuracy: 0.5507132933311856| Train auc_roc: 0.550710524423239\n",
            "Validation Accuracy: 0.5764437016752577| Validation auc_roc: 0.5764404978832764\n",
            "\n",
            "epoch: 2 iteration: 194  Loss: 0.67193\n",
            "|After Epoch: 2|\n",
            "Train Accuracy: 0.5767734173646907| Train auc_roc: 0.5767713369203018\n",
            "Validation Accuracy: 0.5931308392396907| Validation auc_roc: 0.5931292324662214\n",
            "\n",
            "epoch: 3 iteration: 194  Loss: 0.65900\n",
            "|After Epoch: 3|\n",
            "Train Accuracy: 0.5918975515463918| Train auc_roc: 0.5918965754183456\n",
            "Validation Accuracy: 0.6077415230347938| Validation auc_roc: 0.6077435506669957\n",
            "\n",
            "epoch: 4 iteration: 194  Loss: 0.64207\n",
            "|After Epoch: 4|\n",
            "Train Accuracy: 0.6094479904961341| Train auc_roc: 0.6094488367061006\n",
            "Validation Accuracy: 0.6251006765463918| Validation auc_roc: 0.6251022561044859\n",
            "\n",
            "epoch: 5 iteration: 194  Loss: 0.63511\n",
            "|After Epoch: 5|\n",
            "Train Accuracy: 0.6261326111469072| Train auc_roc: 0.6261338308869459\n",
            "Validation Accuracy: 0.6377506846005154| Validation auc_roc: 0.6377508471988964\n",
            "\n",
            "epoch: 6 iteration: 194  Loss: 0.61466\n",
            "|After Epoch: 6|\n",
            "Train Accuracy: 0.639001590689433| Train auc_roc: 0.6390025143845873\n",
            "Validation Accuracy: 0.6488628584085051| Validation auc_roc: 0.6488627944905142\n",
            "\n",
            "epoch: 7 iteration: 194  Loss: 0.60691\n",
            "|After Epoch: 7|\n",
            "Train Accuracy: 0.6512539263853093| Train auc_roc: 0.6512545958952969\n",
            "Validation Accuracy: 0.6584950869845361| Validation auc_roc: 0.6584947028932862\n",
            "\n",
            "epoch: 8 iteration: 194  Loss: 0.59806\n",
            "|After Epoch: 8|\n",
            "Train Accuracy: 0.6630179808311856| Train auc_roc: 0.6630184573752474\n",
            "Validation Accuracy: 0.667981334568299| Validation auc_roc: 0.6679824877842154\n",
            "\n",
            "epoch: 9 iteration: 194  Loss: 0.57458\n",
            "|After Epoch: 9|\n",
            "Train Accuracy: 0.6735135107925257| Train auc_roc: 0.673513866737981\n",
            "Validation Accuracy: 0.6791488804768041| Validation auc_roc: 0.6791500925996375\n",
            "\n",
            "epoch: 10 iteration: 194  Loss: 0.56221\n",
            "|After Epoch: 10|\n",
            "Train Accuracy: 0.6824460373711341| Train auc_roc: 0.6824463044403987\n",
            "Validation Accuracy: 0.6901251409471649| Validation auc_roc: 0.6901259031611015\n",
            "\n",
            "epoch: 11 iteration: 194  Loss: 0.55541\n",
            "|After Epoch: 11|\n",
            "Train Accuracy: 0.6899690923002577| Train auc_roc: 0.6899693158992821\n",
            "Validation Accuracy: 0.6971221609213918| Validation auc_roc: 0.6971213975110251\n",
            "\n",
            "epoch: 12 iteration: 194  Loss: 0.54455\n",
            "|After Epoch: 12|\n",
            "Train Accuracy: 0.6972907941365979| Train auc_roc: 0.6972909321002648\n",
            "Validation Accuracy: 0.7103938466494846| Validation auc_roc: 0.7103935427149592\n",
            "\n",
            "epoch: 13 iteration: 194  Loss: 0.53028\n",
            "|After Epoch: 13|\n",
            "Train Accuracy: 0.7037038901417526| Train auc_roc: 0.7037040410896016\n",
            "Validation Accuracy: 0.721581527867268| Validation auc_roc: 0.7215816163064271\n",
            "\n",
            "epoch: 14 iteration: 194  Loss: 0.53319\n",
            "|After Epoch: 14|\n",
            "Train Accuracy: 0.7094625885953608| Train auc_roc: 0.7094627766494562\n",
            "Validation Accuracy: 0.7332826594716495| Validation auc_roc: 0.7332829904786891\n",
            "\n",
            "epoch: 15 iteration: 194  Loss: 0.51939\n",
            "|After Epoch: 15|\n",
            "Train Accuracy: 0.7150551707474226| Train auc_roc: 0.7150553063073144\n",
            "Validation Accuracy: 0.7419282578930413| Validation auc_roc: 0.7419291918908811\n",
            "\n",
            "epoch: 16 iteration: 194  Loss: 0.51697\n",
            "|After Epoch: 16|\n",
            "Train Accuracy: 0.7198071037371134| Train auc_roc: 0.7198072356558354\n",
            "Validation Accuracy: 0.7500100676546392| Validation auc_roc: 0.7500112535393958\n",
            "\n",
            "epoch: 17 iteration: 194  Loss: 0.50808\n",
            "|After Epoch: 17|\n",
            "Train Accuracy: 0.7255381161404639| Train auc_roc: 0.7255382343851946\n",
            "Validation Accuracy: 0.7521771303157216| Validation auc_roc: 0.7521772820516845\n",
            "\n",
            "epoch: 18 iteration: 194  Loss: 0.50636\n",
            "|After Epoch: 18|\n",
            "Train Accuracy: 0.731432727931701| Train auc_roc: 0.7314328098999452\n",
            "Validation Accuracy: 0.7659647833440721| Validation auc_roc: 0.765966794407495\n",
            "\n",
            "epoch: 19 iteration: 194  Loss: 0.49497\n",
            "|After Epoch: 19|\n",
            "Train Accuracy: 0.735998409310567| Train auc_roc: 0.7359984355394968\n",
            "Validation Accuracy: 0.7711773115335051| Validation auc_roc: 0.7711778021389721\n",
            "\n",
            "epoch: 20 iteration: 194  Loss: 0.49959\n",
            "|After Epoch: 20|\n",
            "Train Accuracy: 0.7414374597293815| Train auc_roc: 0.7414375114079071\n",
            "Validation Accuracy: 0.7764854824420103| Validation auc_roc: 0.7764855423873455\n",
            "\n",
            "epoch: 21 iteration: 194  Loss: 0.48767\n",
            "|After Epoch: 21|\n",
            "Train Accuracy: 0.7463102045747423| Train auc_roc: 0.7463102274755918\n",
            "Validation Accuracy: 0.7819270497744846| Validation auc_roc: 0.7819268401172419\n",
            "\n",
            "epoch: 22 iteration: 194  Loss: 0.47422\n",
            "|After Epoch: 22|\n",
            "Train Accuracy: 0.7511074420103093| Train auc_roc: 0.7511074132265269\n",
            "Validation Accuracy: 0.7698383134664949| Validation auc_roc: 0.7698381255815467\n",
            "\n",
            "epoch: 23 iteration: 194  Loss: 0.45494\n",
            "|After Epoch: 23|\n",
            "Train Accuracy: 0.7540220280283505| Train auc_roc: 0.7540219830320676\n",
            "Validation Accuracy: 0.7891631765463918| Validation auc_roc: 0.7891630495073854\n",
            "\n",
            "epoch: 24 iteration: 194  Loss: 0.45661\n",
            "|After Epoch: 24|\n",
            "Train Accuracy: 0.7594333923969072| Train auc_roc: 0.7594333644374887\n",
            "Validation Accuracy: 0.8031748348904639| Validation auc_roc: 0.8031752326028385\n",
            "\n",
            "epoch: 25 iteration: 194  Loss: 0.45804\n",
            "|After Epoch: 25|\n",
            "Train Accuracy: 0.7639915230347938| Train auc_roc: 0.7639914619388092\n",
            "Validation Accuracy: 0.7951257450064433| Validation auc_roc: 0.7951286054944325\n",
            "\n",
            "epoch: 26 iteration: 194  Loss: 0.43993\n",
            "|After Epoch: 26|\n",
            "Train Accuracy: 0.7677190721649485| Train auc_roc: 0.7677190069193442\n",
            "Validation Accuracy: 0.8129278753221649| Validation auc_roc: 0.8129281296292531\n",
            "\n",
            "epoch: 27 iteration: 194  Loss: 0.45188\n",
            "|After Epoch: 27|\n",
            "Train Accuracy: 0.7715045103092784| Train auc_roc: 0.7715044572327335\n",
            "Validation Accuracy: 0.794544337951031| Validation auc_roc: 0.794548037578228\n",
            "\n",
            "epoch: 28 iteration: 194  Loss: 0.43244\n",
            "|After Epoch: 28|\n",
            "Train Accuracy: 0.7759267276095361| Train auc_roc: 0.7759266695736371\n",
            "Validation Accuracy: 0.804528934439433| Validation auc_roc: 0.8045319763729012\n",
            "\n",
            "epoch: 29 iteration: 194  Loss: 0.44960\n",
            "|After Epoch: 29|\n",
            "Train Accuracy: 0.7778018282860825| Train auc_roc: 0.7778017756251809\n",
            "Validation Accuracy: 0.8221297116623711| Validation auc_roc: 0.8221313973573993\n",
            "\n",
            "epoch: 30 iteration: 194  Loss: 0.42125\n",
            "|After Epoch: 30|\n",
            "Train Accuracy: 0.7814639376610825| Train auc_roc: 0.7814638601734907\n",
            "Validation Accuracy: 0.8207126892719072| Validation auc_roc: 0.8207147902270118\n",
            "\n",
            "epoch: 31 iteration: 194  Loss: 0.43393\n",
            "|After Epoch: 31|\n",
            "Train Accuracy: 0.7838273195876289| Train auc_roc: 0.7838272067300429\n",
            "Validation Accuracy: 0.7648397229381443| Validation auc_roc: 0.7648445826570608\n",
            "\n",
            "epoch: 32 iteration: 194  Loss: 0.41904\n",
            "|After Epoch: 32|\n",
            "Train Accuracy: 0.7872880758698454| Train auc_roc: 0.7872880095410424\n",
            "Validation Accuracy: 0.8298742549935567| Validation auc_roc: 0.829876099325898\n",
            "\n",
            "epoch: 33 iteration: 194  Loss: 0.42111\n",
            "|After Epoch: 33|\n",
            "Train Accuracy: 0.7890197124677835| Train auc_roc: 0.789019606409582\n",
            "Validation Accuracy: 0.8147350193298969| Validation auc_roc: 0.8147377719037683\n",
            "\n",
            "epoch: 34 iteration: 194  Loss: 0.41581\n",
            "|After Epoch: 34|\n",
            "Train Accuracy: 0.7915768967461341| Train auc_roc: 0.7915768229238187\n",
            "Validation Accuracy: 0.8311956346649485| Validation auc_roc: 0.8311978774364338\n",
            "\n",
            "epoch: 35 iteration: 194  Loss: 0.41099\n",
            "|After Epoch: 35|\n",
            "Train Accuracy: 0.7959085051546392| Train auc_roc: 0.7959084058985733\n",
            "Validation Accuracy: 0.8266299532860825| Validation auc_roc: 0.8266327172313033\n",
            "\n",
            "epoch: 36 iteration: 194  Loss: 0.39533\n",
            "|After Epoch: 36|\n",
            "Train Accuracy: 0.7967743234536082| Train auc_roc: 0.7967742294695455\n",
            "Validation Accuracy: 0.8438859133376289| Validation auc_roc: 0.8438874397336821\n",
            "\n",
            "epoch: 37 iteration: 194  Loss: 0.40188\n",
            "|After Epoch: 37|\n",
            "Train Accuracy: 0.7988658787048969| Train auc_roc: 0.7988657789468389\n",
            "Validation Accuracy: 0.8099226804123711| Validation auc_roc: 0.8099259790935648\n",
            "\n",
            "epoch: 38 iteration: 194  Loss: 0.40658\n",
            "|After Epoch: 38|\n",
            "Train Accuracy: 0.8017301264497423| Train auc_roc: 0.801730014736124\n",
            "Validation Accuracy: 0.834948352931701| Validation auc_roc: 0.8349508498129513\n",
            "\n",
            "epoch: 39 iteration: 194  Loss: 0.39163\n",
            "|After Epoch: 39|\n",
            "Train Accuracy: 0.8032528592139175| Train auc_roc: 0.8032527806467269\n",
            "Validation Accuracy: 0.85986328125| Validation auc_roc: 0.8598640168794222\n",
            "\n",
            "epoch: 40 iteration: 194  Loss: 0.38097\n",
            "|After Epoch: 40|\n",
            "Train Accuracy: 0.8051984334729382| Train auc_roc: 0.805198306561294\n",
            "Validation Accuracy: 0.8174130154639175| Validation auc_roc: 0.8174162063126974\n",
            "\n",
            "epoch: 41 iteration: 194  Loss: 0.37992\n",
            "|After Epoch: 41|\n",
            "Train Accuracy: 0.8072195151417526| Train auc_roc: 0.8072193970515035\n",
            "Validation Accuracy: 0.8630698292525774| Validation auc_roc: 0.8630709163955994\n",
            "\n",
            "epoch: 42 iteration: 194  Loss: 0.37592\n",
            "|After Epoch: 42|\n",
            "Train Accuracy: 0.8090669297680413| Train auc_roc: 0.8090668072210506\n",
            "Validation Accuracy: 0.8334080017719072| Validation auc_roc: 0.8334108163055974\n",
            "\n",
            "epoch: 43 iteration: 194  Loss: 0.39586\n",
            "|After Epoch: 43|\n",
            "Train Accuracy: 0.8094092300257731| Train auc_roc: 0.80940913565677\n",
            "Validation Accuracy: 0.8477971971649485| Validation auc_roc: 0.8477996021356291\n",
            "\n",
            "epoch: 44 iteration: 194  Loss: 0.39231\n",
            "|After Epoch: 44|\n",
            "Train Accuracy: 0.8112893645296392| Train auc_roc: 0.8112892181672002\n",
            "Validation Accuracy: 0.862463253060567| Validation auc_roc: 0.8624653960454547\n",
            "\n",
            "epoch: 45 iteration: 194  Loss: 0.39407\n",
            "|After Epoch: 45|\n",
            "Train Accuracy: 0.8146469273518041| Train auc_roc: 0.8146468170781409\n",
            "Validation Accuracy: 0.8095526941043815| Validation auc_roc: 0.8095568282762496\n",
            "\n",
            "epoch: 46 iteration: 194  Loss: 0.39324\n",
            "|After Epoch: 46|\n",
            "Train Accuracy: 0.8147778068621134| Train auc_roc: 0.8147776730736828\n",
            "Validation Accuracy: 0.8395417203608248| Validation auc_roc: 0.8395449471261064\n",
            "\n",
            "epoch: 47 iteration: 194  Loss: 0.37504\n",
            "|After Epoch: 47|\n",
            "Train Accuracy: 0.8168693621134021| Train auc_roc: 0.816869232484028\n",
            "Validation Accuracy: 0.7925232562822165| Validation auc_roc: 0.7925282955504617\n",
            "\n",
            "epoch: 48 iteration: 194  Loss: 0.36158\n",
            "|After Epoch: 48|\n",
            "Train Accuracy: 0.8180523115335051| Train auc_roc: 0.8180521796761806\n",
            "Validation Accuracy: 0.8717506644652062| Validation auc_roc: 0.8717527324604797\n",
            "\n",
            "epoch: 49 iteration: 194  Loss: 0.37698\n",
            "|After Epoch: 49|\n",
            "Train Accuracy: 0.8207076554445877| Train auc_roc: 0.820707509300138\n",
            "Validation Accuracy: 0.8190590769974226| Validation auc_roc: 0.8190634425842684\n",
            "\n",
            "epoch: 50 iteration: 194  Loss: 0.37058\n",
            "|After Epoch: 50|\n",
            "Train Accuracy: 0.8217446238724226| Train auc_roc: 0.8217444763106472\n",
            "Validation Accuracy: 0.7689070554123711| Validation auc_roc: 0.7689126850507456\n",
            "\n"
          ]
        }
      ]
    },
    {
      "cell_type": "code",
      "source": [
        "#For Accuracy \n",
        "plt.plot(train_acc)\n",
        "plt.plot(test_acc)\n",
        "plt.title('model accuracy')\n",
        "plt.ylabel('accuracy')\n",
        "plt.xlabel('epoch')\n",
        "plt.legend(['train', 'test'], loc='upper left')\n",
        "plt.show()\n",
        "\n",
        "#For AUROC\n",
        "plt.plot(train_auroc)\n",
        "plt.plot(test_auroc)\n",
        "plt.title('model auroc')\n",
        "plt.ylabel('auroc')\n",
        "plt.xlabel('epoch')\n",
        "plt.legend(['train', 'test'], loc='upper left')\n",
        "plt.show()"
      ],
      "metadata": {
        "colab": {
          "base_uri": "https://localhost:8080/",
          "height": 573
        },
        "id": "ilxexA09aV_B",
        "outputId": "071a8f9f-68dc-45c0-e9a5-c89815c44b62"
      },
      "execution_count": null,
      "outputs": [
        {
          "output_type": "display_data",
          "data": {
            "text/plain": [
              "<Figure size 432x288 with 1 Axes>"
            ],
            "image/png": "[encoded data removed]"
          },
          "metadata": {
            "needs_background": "light"
          }
        },
        {
          "output_type": "display_data",
          "data": {
            "text/plain": [
              "<Figure size 432x288 with 1 Axes>"
            ],
            "image/png": "[encoded data removed]"
          },
          "metadata": {
            "needs_background": "light"
          }
        }
      ]
    },
    {
      "cell_type": "markdown",
      "source": [
        "#Tensorflow ViT"
      ],
      "metadata": {
        "id": "GAIIiZz3BO6s"
      }
    },
    {
      "cell_type": "code",
      "source": [
        "pip install -U tensorflow-addons"
      ],
      "metadata": {
        "colab": {
          "base_uri": "https://localhost:8080/"
        },
        "id": "rYsg_S7SBQy3",
        "outputId": "639e15da-0cd6-47bb-f3eb-8e2ceef85a85"
      },
      "execution_count": null,
      "outputs": [
        {
          "output_type": "stream",
          "name": "stdout",
          "text": [
            "Collecting tensorflow-addons\n",
            "  Downloading tensorflow_addons-0.16.1-cp37-cp37m-manylinux_2_12_x86_64.manylinux2010_x86_64.whl (1.1 MB)\n",
            "\u001b[?25l\r\u001b[K     |▎                               | 10 kB 32.1 MB/s eta 0:00:01\r\u001b[K     |▋                               | 20 kB 35.1 MB/s eta 0:00:01\r\u001b[K     |▉                               | 30 kB 22.2 MB/s eta 0:00:01\r\u001b[K     |█▏                              | 40 kB 13.1 MB/s eta 0:00:01\r\u001b[K     |█▌                              | 51 kB 11.5 MB/s eta 0:00:01\r\u001b[K     |█▊                              | 61 kB 13.3 MB/s eta 0:00:01\r\u001b[K     |██                              | 71 kB 13.0 MB/s eta 0:00:01\r\u001b[K     |██▍                             | 81 kB 13.2 MB/s eta 0:00:01\r\u001b[K     |██▋                             | 92 kB 14.2 MB/s eta 0:00:01\r\u001b[K     |███                             | 102 kB 13.1 MB/s eta 0:00:01\r\u001b[K     |███▏                            | 112 kB 13.1 MB/s eta 0:00:01\r\u001b[K     |███▌                            | 122 kB 13.1 MB/s eta 0:00:01\r\u001b[K     |███▉                            | 133 kB 13.1 MB/s eta 0:00:01\r\u001b[K     |████                            | 143 kB 13.1 MB/s eta 0:00:01\r\u001b[K     |████▍                           | 153 kB 13.1 MB/s eta 0:00:01\r\u001b[K     |████▊                           | 163 kB 13.1 MB/s eta 0:00:01\r\u001b[K     |█████                           | 174 kB 13.1 MB/s eta 0:00:01\r\u001b[K     |█████▎                          | 184 kB 13.1 MB/s eta 0:00:01\r\u001b[K     |█████▌                          | 194 kB 13.1 MB/s eta 0:00:01\r\u001b[K     |█████▉                          | 204 kB 13.1 MB/s eta 0:00:01\r\u001b[K     |██████▏                         | 215 kB 13.1 MB/s eta 0:00:01\r\u001b[K     |██████▍                         | 225 kB 13.1 MB/s eta 0:00:01\r\u001b[K     |██████▊                         | 235 kB 13.1 MB/s eta 0:00:01\r\u001b[K     |███████                         | 245 kB 13.1 MB/s eta 0:00:01\r\u001b[K     |███████▎                        | 256 kB 13.1 MB/s eta 0:00:01\r\u001b[K     |███████▋                        | 266 kB 13.1 MB/s eta 0:00:01\r\u001b[K     |███████▉                        | 276 kB 13.1 MB/s eta 0:00:01\r\u001b[K     |████████▏                       | 286 kB 13.1 MB/s eta 0:00:01\r\u001b[K     |████████▌                       | 296 kB 13.1 MB/s eta 0:00:01\r\u001b[K     |████████▊                       | 307 kB 13.1 MB/s eta 0:00:01\r\u001b[K     |█████████                       | 317 kB 13.1 MB/s eta 0:00:01\r\u001b[K     |█████████▍                      | 327 kB 13.1 MB/s eta 0:00:01\r\u001b[K     |█████████▋                      | 337 kB 13.1 MB/s eta 0:00:01\r\u001b[K     |██████████                      | 348 kB 13.1 MB/s eta 0:00:01\r\u001b[K     |██████████▏                     | 358 kB 13.1 MB/s eta 0:00:01\r\u001b[K     |██████████▌                     | 368 kB 13.1 MB/s eta 0:00:01\r\u001b[K     |██████████▉                     | 378 kB 13.1 MB/s eta 0:00:01\r\u001b[K     |███████████                     | 389 kB 13.1 MB/s eta 0:00:01\r\u001b[K     |███████████▍                    | 399 kB 13.1 MB/s eta 0:00:01\r\u001b[K     |███████████▊                    | 409 kB 13.1 MB/s eta 0:00:01\r\u001b[K     |████████████                    | 419 kB 13.1 MB/s eta 0:00:01\r\u001b[K     |████████████▎                   | 430 kB 13.1 MB/s eta 0:00:01\r\u001b[K     |████████████▌                   | 440 kB 13.1 MB/s eta 0:00:01\r\u001b[K     |████████████▉                   | 450 kB 13.1 MB/s eta 0:00:01\r\u001b[K     |█████████████▏                  | 460 kB 13.1 MB/s eta 0:00:01\r\u001b[K     |█████████████▍                  | 471 kB 13.1 MB/s eta 0:00:01\r\u001b[K     |█████████████▊                  | 481 kB 13.1 MB/s eta 0:00:01\r\u001b[K     |██████████████                  | 491 kB 13.1 MB/s eta 0:00:01\r\u001b[K     |██████████████▎                 | 501 kB 13.1 MB/s eta 0:00:01\r\u001b[K     |██████████████▋                 | 512 kB 13.1 MB/s eta 0:00:01\r\u001b[K     |██████████████▉                 | 522 kB 13.1 MB/s eta 0:00:01\r\u001b[K     |███████████████▏                | 532 kB 13.1 MB/s eta 0:00:01\r\u001b[K     |███████████████▌                | 542 kB 13.1 MB/s eta 0:00:01\r\u001b[K     |███████████████▊                | 552 kB 13.1 MB/s eta 0:00:01\r\u001b[K     |████████████████                | 563 kB 13.1 MB/s eta 0:00:01\r\u001b[K     |████████████████▍               | 573 kB 13.1 MB/s eta 0:00:01\r\u001b[K     |████████████████▋               | 583 kB 13.1 MB/s eta 0:00:01\r\u001b[K     |█████████████████               | 593 kB 13.1 MB/s eta 0:00:01\r\u001b[K     |█████████████████▏              | 604 kB 13.1 MB/s eta 0:00:01\r\u001b[K     |█████████████████▌              | 614 kB 13.1 MB/s eta 0:00:01\r\u001b[K     |█████████████████▉              | 624 kB 13.1 MB/s eta 0:00:01\r\u001b[K     |██████████████████              | 634 kB 13.1 MB/s eta 0:00:01\r\u001b[K     |██████████████████▍             | 645 kB 13.1 MB/s eta 0:00:01\r\u001b[K     |██████████████████▊             | 655 kB 13.1 MB/s eta 0:00:01\r\u001b[K     |███████████████████             | 665 kB 13.1 MB/s eta 0:00:01\r\u001b[K     |███████████████████▎            | 675 kB 13.1 MB/s eta 0:00:01\r\u001b[K     |███████████████████▌            | 686 kB 13.1 MB/s eta 0:00:01\r\u001b[K     |███████████████████▉            | 696 kB 13.1 MB/s eta 0:00:01\r\u001b[K     |████████████████████▏           | 706 kB 13.1 MB/s eta 0:00:01\r\u001b[K     |████████████████████▍           | 716 kB 13.1 MB/s eta 0:00:01\r\u001b[K     |████████████████████▊           | 727 kB 13.1 MB/s eta 0:00:01\r\u001b[K     |█████████████████████           | 737 kB 13.1 MB/s eta 0:00:01\r\u001b[K     |█████████████████████▎          | 747 kB 13.1 MB/s eta 0:00:01\r\u001b[K     |█████████████████████▋          | 757 kB 13.1 MB/s eta 0:00:01\r\u001b[K     |█████████████████████▉          | 768 kB 13.1 MB/s eta 0:00:01\r\u001b[K     |██████████████████████▏         | 778 kB 13.1 MB/s eta 0:00:01\r\u001b[K     |██████████████████████▌         | 788 kB 13.1 MB/s eta 0:00:01\r\u001b[K     |██████████████████████▊         | 798 kB 13.1 MB/s eta 0:00:01\r\u001b[K     |███████████████████████         | 808 kB 13.1 MB/s eta 0:00:01\r\u001b[K     |███████████████████████▍        | 819 kB 13.1 MB/s eta 0:00:01\r\u001b[K     |███████████████████████▋        | 829 kB 13.1 MB/s eta 0:00:01\r\u001b[K     |████████████████████████        | 839 kB 13.1 MB/s eta 0:00:01\r\u001b[K     |████████████████████████▏       | 849 kB 13.1 MB/s eta 0:00:01\r\u001b[K     |████████████████████████▌       | 860 kB 13.1 MB/s eta 0:00:01\r\u001b[K     |████████████████████████▉       | 870 kB 13.1 MB/s eta 0:00:01\r\u001b[K     |█████████████████████████       | 880 kB 13.1 MB/s eta 0:00:01\r\u001b[K     |█████████████████████████▍      | 890 kB 13.1 MB/s eta 0:00:01\r\u001b[K     |█████████████████████████▊      | 901 kB 13.1 MB/s eta 0:00:01\r\u001b[K     |██████████████████████████      | 911 kB 13.1 MB/s eta 0:00:01\r\u001b[K     |██████████████████████████▎     | 921 kB 13.1 MB/s eta 0:00:01\r\u001b[K     |██████████████████████████▌     | 931 kB 13.1 MB/s eta 0:00:01\r\u001b[K     |██████████████████████████▉     | 942 kB 13.1 MB/s eta 0:00:01\r\u001b[K     |███████████████████████████▏    | 952 kB 13.1 MB/s eta 0:00:01\r\u001b[K     |███████████████████████████▍    | 962 kB 13.1 MB/s eta 0:00:01\r\u001b[K     |███████████████████████████▊    | 972 kB 13.1 MB/s eta 0:00:01\r\u001b[K     |████████████████████████████    | 983 kB 13.1 MB/s eta 0:00:01\r\u001b[K     |████████████████████████████▎   | 993 kB 13.1 MB/s eta 0:00:01\r\u001b[K     |████████████████████████████▋   | 1.0 MB 13.1 MB/s eta 0:00:01\r\u001b[K     |████████████████████████████▉   | 1.0 MB 13.1 MB/s eta 0:00:01\r\u001b[K     |█████████████████████████████▏  | 1.0 MB 13.1 MB/s eta 0:00:01\r\u001b[K     |█████████████████████████████▌  | 1.0 MB 13.1 MB/s eta 0:00:01\r\u001b[K     |█████████████████████████████▊  | 1.0 MB 13.1 MB/s eta 0:00:01\r\u001b[K     |██████████████████████████████  | 1.1 MB 13.1 MB/s eta 0:00:01\r\u001b[K     |██████████████████████████████▍ | 1.1 MB 13.1 MB/s eta 0:00:01\r\u001b[K     |██████████████████████████████▋ | 1.1 MB 13.1 MB/s eta 0:00:01\r\u001b[K     |███████████████████████████████ | 1.1 MB 13.1 MB/s eta 0:00:01\r\u001b[K     |███████████████████████████████▏| 1.1 MB 13.1 MB/s eta 0:00:01\r\u001b[K     |███████████████████████████████▌| 1.1 MB 13.1 MB/s eta 0:00:01\r\u001b[K     |███████████████████████████████▉| 1.1 MB 13.1 MB/s eta 0:00:01\r\u001b[K     |████████████████████████████████| 1.1 MB 13.1 MB/s \n",
            "\u001b[?25hRequirement already satisfied: typeguard>=2.7 in /usr/local/lib/python3.7/dist-packages (from tensorflow-addons) (2.7.1)\n",
            "Installing collected packages: tensorflow-addons\n",
            "Successfully installed tensorflow-addons-0.16.1\n"
          ]
        }
      ]
    },
    {
      "cell_type": "code",
      "source": [
        "import numpy as np\n",
        "import tensorflow as tf\n",
        "from tensorflow import keras\n",
        "from tensorflow.keras import layers\n",
        "import tensorflow_addons as tfa"
      ],
      "metadata": {
        "id": "RCyxKskHEVmc"
      },
      "execution_count": null,
      "outputs": []
    },
    {
      "cell_type": "code",
      "source": [
        "#Custom Metric to Get auc_roc during training \n",
        "from sklearn.metrics import roc_auc_score\n",
        "def auroc(y_true, y_pred):\n",
        "    return tf.py_function(roc_auc_score, (y_true, y_pred), tf.double)"
      ],
      "metadata": {
        "id": "AEZywOAxGdXb"
      },
      "execution_count": null,
      "outputs": []
    },
    {
      "cell_type": "code",
      "source": [
        "#Custom Data Generator \n",
        "class CustomDataGen(tf.keras.utils.Sequence):\n",
        "    \n",
        "    def __init__(self, x, y,\n",
        "                 batch_size,\n",
        "                 input_size=(32, 32, 3),\n",
        "                 shuffle=True):\n",
        "      \n",
        "      self.x = train_x \n",
        "      self.y = train_y \n",
        "\n",
        "      self.batch_size = batch_size\n",
        "      self.shuffle = shuffle\n",
        "\n",
        "      self.input_size = input_size\n",
        "\n",
        "\n",
        "    def __getitem__(self, index):\n",
        "      return self.x[index*self.batch_size : (index+1)*self.batch_size], self.y[index*self.batch_size : (index+1)*self.batch_size]\n",
        "\n",
        "    def __len__(self):\n",
        "      return len(self.x) // self.batch_size\n",
        "\n",
        "\n",
        "    def on_epoch_end(self):\n",
        "      'Updates indexes after each epoch'\n",
        "      self.indexes = np.arange(len(self.x))\n",
        "      if self.shuffle == True:\n",
        "          np.random.shuffle(self.indexes)"
      ],
      "metadata": {
        "id": "ZhKcb_VuGed6"
      },
      "execution_count": null,
      "outputs": []
    },
    {
      "cell_type": "code",
      "source": [
        "batch_size = 8192"
      ],
      "metadata": {
        "id": "nFNskC37NXmC"
      },
      "execution_count": null,
      "outputs": []
    },
    {
      "cell_type": "code",
      "source": [
        "train_gen = CustomDataGen(train_x, train_y, batch_size)\n",
        "val_gen = CustomDataGen(test_x, test_y, batch_size)"
      ],
      "metadata": {
        "id": "Ns86_i00GnSQ"
      },
      "execution_count": null,
      "outputs": []
    },
    {
      "cell_type": "code",
      "source": [
        "num_classes = 1\n",
        "input_shape = (32, 32, 2)"
      ],
      "metadata": {
        "id": "6DqmbADeEYkA"
      },
      "execution_count": null,
      "outputs": []
    },
    {
      "cell_type": "code",
      "source": [
        "learning_rate = 0.001\n",
        "weight_decay = 0.0001\n",
        "num_epochs = 100\n",
        "image_size = 32  # We'll resize input images to this size\n",
        "patch_size = 16  # Size of the patches to be extract from the input images\n",
        "num_patches = (image_size // patch_size) ** 2\n",
        "projection_dim = 64\n",
        "num_heads = 8\n",
        "transformer_units = [\n",
        "    projection_dim * 2,\n",
        "    projection_dim,\n",
        "]  # Size of the transformer layers\n",
        "transformer_layers = 4\n",
        "mlp_head_units = [32, 16] #[2048, 1024]  # Size of the dense layers of the final classifier"
      ],
      "metadata": {
        "id": "HcZqF6ZBEnZR"
      },
      "execution_count": null,
      "outputs": []
    },
    {
      "cell_type": "code",
      "source": [
        "def mlp(x, hidden_units, dropout_rate):\n",
        "    for units in hidden_units:\n",
        "        x = layers.Dense(units, activation=tf.nn.gelu)(x)\n",
        "        x = layers.Dropout(dropout_rate)(x)\n",
        "    return x"
      ],
      "metadata": {
        "id": "sLKJ9VPhEqvL"
      },
      "execution_count": null,
      "outputs": []
    },
    {
      "cell_type": "code",
      "source": [
        "class Patches(layers.Layer):\n",
        "    def __init__(self, patch_size):\n",
        "        super(Patches, self).__init__()\n",
        "        self.patch_size = patch_size\n",
        "        # self.patch_conv = layers.Conv2D(projection_dim, patch_size, patch_size)\n",
        "\n",
        "    def call(self, images):\n",
        "        batch_size = tf.shape(images)[0]\n",
        "        patches = tf.image.extract_patches(\n",
        "            images=images,\n",
        "            sizes=[1, self.patch_size, self.patch_size, 1],\n",
        "            strides=[1, self.patch_size, self.patch_size, 1],\n",
        "            rates=[1, 1, 1, 1],\n",
        "            padding=\"VALID\",\n",
        "        )\n",
        "        patch_dims = patches.shape[-1]\n",
        "        # patches = self.patch_conv(images)\n",
        "        patch_dims = patches.shape[-1]\n",
        "        patches = tf.reshape(patches, [batch_size, -1, patch_dims])\n",
        "        # print(patches.shape)\n",
        "        return patches"
      ],
      "metadata": {
        "id": "Sb3Y9WM1Fjqk"
      },
      "execution_count": null,
      "outputs": []
    },
    {
      "cell_type": "code",
      "source": [
        "class PatchEncoder(layers.Layer):\n",
        "    def __init__(self, num_patches, projection_dim):\n",
        "        super(PatchEncoder, self).__init__()\n",
        "        self.num_patches = num_patches\n",
        "        self.projection = layers.Dense(units=projection_dim)\n",
        "        self.position_embedding = layers.Embedding(\n",
        "            input_dim=num_patches, output_dim=projection_dim\n",
        "        )\n",
        "\n",
        "    def call(self, patch):\n",
        "        positions = tf.range(start=0, limit=self.num_patches, delta=1)\n",
        "        encoded = self.projection(patch) + self.position_embedding(positions)\n",
        "        return encoded\n"
      ],
      "metadata": {
        "id": "GjknRvrxFr52"
      },
      "execution_count": null,
      "outputs": []
    },
    {
      "cell_type": "code",
      "source": [
        "from tensorflow.python.ops.gen_math_ops import sigmoid\n",
        "def create_vit_classifier():\n",
        "    inputs = layers.Input(shape=input_shape)\n",
        "    # Augment data.\n",
        "    # augmented = data_augmentation(inputs)\n",
        "    # Create patches.\n",
        "    patches = Patches(patch_size)(inputs)\n",
        "    # Encode patches.\n",
        "    encoded_patches = PatchEncoder(num_patches, projection_dim)(patches)\n",
        "\n",
        "    # Create multiple layers of the Transformer block.\n",
        "    for _ in range(transformer_layers):\n",
        "        # Layer normalization 1.\n",
        "        x1 = layers.LayerNormalization(epsilon=1e-6)(encoded_patches)\n",
        "        # Create a multi-head attention layer.\n",
        "        attention_output = layers.MultiHeadAttention(\n",
        "            num_heads=num_heads, key_dim=projection_dim, dropout=0.1\n",
        "        )(x1, x1)\n",
        "        # Skip connection 1.\n",
        "        x2 = layers.Add()([attention_output, encoded_patches])\n",
        "        # Layer normalization 2.\n",
        "        x3 = layers.LayerNormalization(epsilon=1e-6)(x2)\n",
        "        # MLP.\n",
        "        x3 = mlp(x3, hidden_units=transformer_units, dropout_rate=0.1)\n",
        "        # Skip connection 2.\n",
        "        encoded_patches = layers.Add()([x3, x2])\n",
        "\n",
        "    # Create a [batch_size, projection_dim] tensor.\n",
        "    representation = layers.LayerNormalization(epsilon=1e-6)(encoded_patches)\n",
        "    # representation = layers.Flatten()(representation)\n",
        "    # print(representation.shape)\n",
        "    representation = tf.math.reduce_mean(representation, axis = 1)\n",
        "    # print(representation.shape)\n",
        "    # representation = layers.Dropout(0.5)(representation)\n",
        "    # Add MLP.\n",
        "    features = mlp(representation, hidden_units=mlp_head_units, dropout_rate=0)\n",
        "    # Classify outputs.\n",
        "    prob = layers.Dense(num_classes, activation=sigmoid)(features)\n",
        "    # Create the Keras model.\n",
        "    model = keras.Model(inputs=inputs, outputs=prob)\n",
        "    return model"
      ],
      "metadata": {
        "id": "zpP6vdzXFwQO"
      },
      "execution_count": null,
      "outputs": []
    },
    {
      "cell_type": "code",
      "source": [
        "# optimizer = tfa.optimizers.AdamW(\n",
        "#         learning_rate=learning_rate, weight_decay=weight_decay\n",
        "#     )\n",
        "\n",
        "first_decay_steps = 1000\n",
        "lr_decayed_fn = (\n",
        "  tf.keras.optimizers.schedules.CosineDecayRestarts(\n",
        "      first_decay_steps = first_decay_steps,\n",
        "      initial_learning_rate=learning_rate,\n",
        "      t_mul=500,\n",
        "      m_mul=2.0,\n",
        "      alpha=0.0,\n",
        "      \n",
        "      )\n",
        "  )\n",
        "\n",
        "reduce_lr = tf.keras.callbacks.ReduceLROnPlateau(\n",
        "    monitor='val_auroc',\n",
        "    factor=0.1,\n",
        "    patience=2,\n",
        "    verbose=1,\n",
        "    mode='max',\n",
        "    min_delta=0.001,\n",
        "    cooldown=0,\n",
        "    min_lr=0\n",
        ")\n",
        "\n",
        "\n",
        "optimizer = tf.keras.optimizers.Adam(\n",
        "        learning_rate = learning_rate #, weight_decay=weight_decay    \n",
        ")\n",
        "\n",
        "vit = create_vit_classifier()\n",
        "\n",
        "vit.compile(\n",
        "    optimizer=optimizer,\n",
        "    loss=tf.keras.losses.BinaryCrossentropy(),\n",
        "    metrics=[\n",
        "        'accuracy',\n",
        "        auroc\n",
        "    ],\n",
        ")"
      ],
      "metadata": {
        "id": "-nM2uWyNF5Dd"
      },
      "execution_count": null,
      "outputs": []
    },
    {
      "cell_type": "code",
      "source": [
        "checkpoint_callback_vit = tf.keras.callbacks.ModelCheckpoint(\n",
        "    filepath = 'models/task1_tf_vit_model.ckpt',\n",
        "    monitor='val_auroc',\n",
        "    verbose=0,\n",
        "    save_best_only=True,\n",
        "    save_weights_only=False,\n",
        "    mode='max',\n",
        "    save_freq='epoch',\n",
        "    options=None,\n",
        "    initial_value_threshold=None,\n",
        ")"
      ],
      "metadata": {
        "id": "2koXEsrahKJj"
      },
      "execution_count": null,
      "outputs": []
    },
    {
      "cell_type": "code",
      "source": [
        "history_vit = vit.fit(train_gen, validation_data = val_gen, epochs = 100, callbacks=[checkpoint_callback_vit])"
      ],
      "metadata": {
        "colab": {
          "base_uri": "https://localhost:8080/"
        },
        "id": "-JyzzjHsHsi3",
        "outputId": "bde96630-526e-4f8e-8614-0651fd53d09b"
      },
      "execution_count": null,
      "outputs": [
        {
          "metadata": {
            "tags": null
          },
          "name": "stdout",
          "output_type": "stream",
          "text": [
            "Epoch 1/100\n",
            "48/48 [==============================] - ETA: 0s - loss: 0.6867 - accuracy: 0.5491 - auroc: 0.5714"
          ]
        },
        {
          "metadata": {
            "tags": null
          },
          "name": "stderr",
          "output_type": "stream",
          "text": [
            "WARNING:absl:Found untraced functions such as dense_3_layer_call_fn, dense_3_layer_call_and_return_conditional_losses, embedding_layer_call_fn, embedding_layer_call_and_return_conditional_losses, query_layer_call_fn while saving (showing 5 of 52). These functions will not be directly callable after loading.\n"
          ]
        },
        {
          "metadata": {
            "tags": null
          },
          "name": "stdout",
          "output_type": "stream",
          "text": [
            "INFO:tensorflow:Assets written to: models/task1_tf_vit_model.ckpt/assets\n"
          ]
        },
        {
          "metadata": {
            "tags": null
          },
          "name": "stderr",
          "output_type": "stream",
          "text": [
            "INFO:tensorflow:Assets written to: models/task1_tf_vit_model.ckpt/assets\n"
          ]
        },
        {
          "metadata": {
            "tags": null
          },
          "name": "stdout",
          "output_type": "stream",
          "text": [
            "48/48 [==============================] - 31s 530ms/step - loss: 0.6867 - accuracy: 0.5491 - auroc: 0.5714 - val_loss: 0.6609 - val_accuracy: 0.6068 - val_auroc: 0.6437\n",
            "Epoch 2/100\n",
            "48/48 [==============================] - ETA: 0s - loss: 0.6514 - accuracy: 0.6221 - auroc: 0.6587"
          ]
        },
        {
          "metadata": {
            "tags": null
          },
          "name": "stderr",
          "output_type": "stream",
          "text": [
            "WARNING:absl:Found untraced functions such as dense_3_layer_call_fn, dense_3_layer_call_and_return_conditional_losses, embedding_layer_call_fn, embedding_layer_call_and_return_conditional_losses, query_layer_call_fn while saving (showing 5 of 52). These functions will not be directly callable after loading.\n"
          ]
        },
        {
          "metadata": {
            "tags": null
          },
          "name": "stdout",
          "output_type": "stream",
          "text": [
            "INFO:tensorflow:Assets written to: models/task1_tf_vit_model.ckpt/assets\n"
          ]
        },
        {
          "metadata": {
            "tags": null
          },
          "name": "stderr",
          "output_type": "stream",
          "text": [
            "INFO:tensorflow:Assets written to: models/task1_tf_vit_model.ckpt/assets\n"
          ]
        },
        {
          "metadata": {
            "tags": null
          },
          "name": "stdout",
          "output_type": "stream",
          "text": [
            "48/48 [==============================] - 26s 542ms/step - loss: 0.6514 - accuracy: 0.6221 - auroc: 0.6587 - val_loss: 0.6429 - val_accuracy: 0.6320 - val_auroc: 0.6755\n",
            "Epoch 3/100\n",
            "48/48 [==============================] - ETA: 0s - loss: 0.6391 - accuracy: 0.6388 - auroc: 0.6818"
          ]
        },
        {
          "metadata": {
            "tags": null
          },
          "name": "stderr",
          "output_type": "stream",
          "text": [
            "WARNING:absl:Found untraced functions such as dense_3_layer_call_fn, dense_3_layer_call_and_return_conditional_losses, embedding_layer_call_fn, embedding_layer_call_and_return_conditional_losses, query_layer_call_fn while saving (showing 5 of 52). These functions will not be directly callable after loading.\n"
          ]
        },
        {
          "metadata": {
            "tags": null
          },
          "name": "stdout",
          "output_type": "stream",
          "text": [
            "INFO:tensorflow:Assets written to: models/task1_tf_vit_model.ckpt/assets\n"
          ]
        },
        {
          "metadata": {
            "tags": null
          },
          "name": "stderr",
          "output_type": "stream",
          "text": [
            "INFO:tensorflow:Assets written to: models/task1_tf_vit_model.ckpt/assets\n"
          ]
        },
        {
          "metadata": {
            "tags": null
          },
          "name": "stdout",
          "output_type": "stream",
          "text": [
            "48/48 [==============================] - 26s 539ms/step - loss: 0.6391 - accuracy: 0.6388 - auroc: 0.6818 - val_loss: 0.6302 - val_accuracy: 0.6498 - val_auroc: 0.6954\n",
            "Epoch 4/100\n",
            "48/48 [==============================] - ETA: 0s - loss: 0.6258 - accuracy: 0.6546 - auroc: 0.7040"
          ]
        },
        {
          "metadata": {
            "tags": null
          },
          "name": "stderr",
          "output_type": "stream",
          "text": [
            "WARNING:absl:Found untraced functions such as dense_3_layer_call_fn, dense_3_layer_call_and_return_conditional_losses, embedding_layer_call_fn, embedding_layer_call_and_return_conditional_losses, query_layer_call_fn while saving (showing 5 of 52). These functions will not be directly callable after loading.\n"
          ]
        },
        {
          "metadata": {
            "tags": null
          },
          "name": "stdout",
          "output_type": "stream",
          "text": [
            "INFO:tensorflow:Assets written to: models/task1_tf_vit_model.ckpt/assets\n"
          ]
        },
        {
          "metadata": {
            "tags": null
          },
          "name": "stderr",
          "output_type": "stream",
          "text": [
            "INFO:tensorflow:Assets written to: models/task1_tf_vit_model.ckpt/assets\n"
          ]
        },
        {
          "metadata": {
            "tags": null
          },
          "name": "stdout",
          "output_type": "stream",
          "text": [
            "48/48 [==============================] - 30s 640ms/step - loss: 0.6258 - accuracy: 0.6546 - auroc: 0.7040 - val_loss: 0.6141 - val_accuracy: 0.6677 - val_auroc: 0.7199\n",
            "Epoch 5/100\n",
            "48/48 [==============================] - ETA: 0s - loss: 0.6144 - accuracy: 0.6683 - auroc: 0.7229"
          ]
        },
        {
          "metadata": {
            "tags": null
          },
          "name": "stderr",
          "output_type": "stream",
          "text": [
            "WARNING:absl:Found untraced functions such as dense_3_layer_call_fn, dense_3_layer_call_and_return_conditional_losses, embedding_layer_call_fn, embedding_layer_call_and_return_conditional_losses, query_layer_call_fn while saving (showing 5 of 52). These functions will not be directly callable after loading.\n"
          ]
        },
        {
          "metadata": {
            "tags": null
          },
          "name": "stdout",
          "output_type": "stream",
          "text": [
            "INFO:tensorflow:Assets written to: models/task1_tf_vit_model.ckpt/assets\n"
          ]
        },
        {
          "metadata": {
            "tags": null
          },
          "name": "stderr",
          "output_type": "stream",
          "text": [
            "INFO:tensorflow:Assets written to: models/task1_tf_vit_model.ckpt/assets\n"
          ]
        },
        {
          "metadata": {
            "tags": null
          },
          "name": "stdout",
          "output_type": "stream",
          "text": [
            "48/48 [==============================] - 26s 545ms/step - loss: 0.6144 - accuracy: 0.6683 - auroc: 0.7229 - val_loss: 0.6025 - val_accuracy: 0.6814 - val_auroc: 0.7341\n",
            "Epoch 6/100\n",
            "48/48 [==============================] - ETA: 0s - loss: 0.6037 - accuracy: 0.6804 - auroc: 0.7348"
          ]
        },
        {
          "metadata": {
            "tags": null
          },
          "name": "stderr",
          "output_type": "stream",
          "text": [
            "WARNING:absl:Found untraced functions such as dense_3_layer_call_fn, dense_3_layer_call_and_return_conditional_losses, embedding_layer_call_fn, embedding_layer_call_and_return_conditional_losses, query_layer_call_fn while saving (showing 5 of 52). These functions will not be directly callable after loading.\n"
          ]
        },
        {
          "metadata": {
            "tags": null
          },
          "name": "stdout",
          "output_type": "stream",
          "text": [
            "INFO:tensorflow:Assets written to: models/task1_tf_vit_model.ckpt/assets\n"
          ]
        },
        {
          "metadata": {
            "tags": null
          },
          "name": "stderr",
          "output_type": "stream",
          "text": [
            "INFO:tensorflow:Assets written to: models/task1_tf_vit_model.ckpt/assets\n"
          ]
        },
        {
          "metadata": {
            "tags": null
          },
          "name": "stdout",
          "output_type": "stream",
          "text": [
            "48/48 [==============================] - 26s 550ms/step - loss: 0.6037 - accuracy: 0.6804 - auroc: 0.7348 - val_loss: 0.5953 - val_accuracy: 0.6886 - val_auroc: 0.7454\n",
            "Epoch 7/100\n",
            "48/48 [==============================] - ETA: 0s - loss: 0.5979 - accuracy: 0.6860 - auroc: 0.7429"
          ]
        },
        {
          "metadata": {
            "tags": null
          },
          "name": "stderr",
          "output_type": "stream",
          "text": [
            "WARNING:absl:Found untraced functions such as dense_3_layer_call_fn, dense_3_layer_call_and_return_conditional_losses, embedding_layer_call_fn, embedding_layer_call_and_return_conditional_losses, query_layer_call_fn while saving (showing 5 of 52). These functions will not be directly callable after loading.\n"
          ]
        },
        {
          "metadata": {
            "tags": null
          },
          "name": "stdout",
          "output_type": "stream",
          "text": [
            "INFO:tensorflow:Assets written to: models/task1_tf_vit_model.ckpt/assets\n"
          ]
        },
        {
          "metadata": {
            "tags": null
          },
          "name": "stderr",
          "output_type": "stream",
          "text": [
            "INFO:tensorflow:Assets written to: models/task1_tf_vit_model.ckpt/assets\n"
          ]
        },
        {
          "metadata": {
            "tags": null
          },
          "name": "stdout",
          "output_type": "stream",
          "text": [
            "48/48 [==============================] - 26s 538ms/step - loss: 0.5979 - accuracy: 0.6860 - auroc: 0.7429 - val_loss: 0.5925 - val_accuracy: 0.6893 - val_auroc: 0.7534\n",
            "Epoch 8/100\n",
            "48/48 [==============================] - ETA: 0s - loss: 0.5921 - accuracy: 0.6913 - auroc: 0.7496"
          ]
        },
        {
          "metadata": {
            "tags": null
          },
          "name": "stderr",
          "output_type": "stream",
          "text": [
            "WARNING:absl:Found untraced functions such as dense_3_layer_call_fn, dense_3_layer_call_and_return_conditional_losses, embedding_layer_call_fn, embedding_layer_call_and_return_conditional_losses, query_layer_call_fn while saving (showing 5 of 52). These functions will not be directly callable after loading.\n"
          ]
        },
        {
          "metadata": {
            "tags": null
          },
          "name": "stdout",
          "output_type": "stream",
          "text": [
            "INFO:tensorflow:Assets written to: models/task1_tf_vit_model.ckpt/assets\n"
          ]
        },
        {
          "metadata": {
            "tags": null
          },
          "name": "stderr",
          "output_type": "stream",
          "text": [
            "INFO:tensorflow:Assets written to: models/task1_tf_vit_model.ckpt/assets\n"
          ]
        },
        {
          "metadata": {
            "tags": null
          },
          "name": "stdout",
          "output_type": "stream",
          "text": [
            "48/48 [==============================] - 26s 545ms/step - loss: 0.5921 - accuracy: 0.6913 - auroc: 0.7496 - val_loss: 0.5853 - val_accuracy: 0.6978 - val_auroc: 0.7567\n",
            "Epoch 9/100\n",
            "48/48 [==============================] - ETA: 0s - loss: 0.5888 - accuracy: 0.6943 - auroc: 0.7528"
          ]
        },
        {
          "metadata": {
            "tags": null
          },
          "name": "stderr",
          "output_type": "stream",
          "text": [
            "WARNING:absl:Found untraced functions such as dense_3_layer_call_fn, dense_3_layer_call_and_return_conditional_losses, embedding_layer_call_fn, embedding_layer_call_and_return_conditional_losses, query_layer_call_fn while saving (showing 5 of 52). These functions will not be directly callable after loading.\n"
          ]
        },
        {
          "metadata": {
            "tags": null
          },
          "name": "stdout",
          "output_type": "stream",
          "text": [
            "INFO:tensorflow:Assets written to: models/task1_tf_vit_model.ckpt/assets\n"
          ]
        },
        {
          "metadata": {
            "tags": null
          },
          "name": "stderr",
          "output_type": "stream",
          "text": [
            "INFO:tensorflow:Assets written to: models/task1_tf_vit_model.ckpt/assets\n"
          ]
        },
        {
          "metadata": {
            "tags": null
          },
          "name": "stdout",
          "output_type": "stream",
          "text": [
            "48/48 [==============================] - 26s 538ms/step - loss: 0.5888 - accuracy: 0.6943 - auroc: 0.7528 - val_loss: 0.5789 - val_accuracy: 0.7032 - val_auroc: 0.7630\n",
            "Epoch 10/100\n",
            "48/48 [==============================] - ETA: 0s - loss: 0.5831 - accuracy: 0.6991 - auroc: 0.7590"
          ]
        },
        {
          "metadata": {
            "tags": null
          },
          "name": "stderr",
          "output_type": "stream",
          "text": [
            "WARNING:absl:Found untraced functions such as dense_3_layer_call_fn, dense_3_layer_call_and_return_conditional_losses, embedding_layer_call_fn, embedding_layer_call_and_return_conditional_losses, query_layer_call_fn while saving (showing 5 of 52). These functions will not be directly callable after loading.\n"
          ]
        },
        {
          "metadata": {
            "tags": null
          },
          "name": "stdout",
          "output_type": "stream",
          "text": [
            "INFO:tensorflow:Assets written to: models/task1_tf_vit_model.ckpt/assets\n"
          ]
        },
        {
          "metadata": {
            "tags": null
          },
          "name": "stderr",
          "output_type": "stream",
          "text": [
            "INFO:tensorflow:Assets written to: models/task1_tf_vit_model.ckpt/assets\n"
          ]
        },
        {
          "metadata": {
            "tags": null
          },
          "name": "stdout",
          "output_type": "stream",
          "text": [
            "48/48 [==============================] - 26s 536ms/step - loss: 0.5831 - accuracy: 0.6991 - auroc: 0.7590 - val_loss: 0.5782 - val_accuracy: 0.7038 - val_auroc: 0.7639\n",
            "Epoch 11/100\n",
            "48/48 [==============================] - ETA: 0s - loss: 0.5811 - accuracy: 0.7010 - auroc: 0.7617"
          ]
        },
        {
          "metadata": {
            "tags": null
          },
          "name": "stderr",
          "output_type": "stream",
          "text": [
            "WARNING:absl:Found untraced functions such as dense_3_layer_call_fn, dense_3_layer_call_and_return_conditional_losses, embedding_layer_call_fn, embedding_layer_call_and_return_conditional_losses, query_layer_call_fn while saving (showing 5 of 52). These functions will not be directly callable after loading.\n"
          ]
        },
        {
          "metadata": {
            "tags": null
          },
          "name": "stdout",
          "output_type": "stream",
          "text": [
            "INFO:tensorflow:Assets written to: models/task1_tf_vit_model.ckpt/assets\n"
          ]
        },
        {
          "metadata": {
            "tags": null
          },
          "name": "stderr",
          "output_type": "stream",
          "text": [
            "INFO:tensorflow:Assets written to: models/task1_tf_vit_model.ckpt/assets\n"
          ]
        },
        {
          "metadata": {
            "tags": null
          },
          "name": "stdout",
          "output_type": "stream",
          "text": [
            "48/48 [==============================] - 26s 540ms/step - loss: 0.5811 - accuracy: 0.7010 - auroc: 0.7617 - val_loss: 0.5734 - val_accuracy: 0.7078 - val_auroc: 0.7693\n",
            "Epoch 12/100\n",
            "48/48 [==============================] - ETA: 0s - loss: 0.5786 - accuracy: 0.7028 - auroc: 0.7646"
          ]
        },
        {
          "metadata": {
            "tags": null
          },
          "name": "stderr",
          "output_type": "stream",
          "text": [
            "WARNING:absl:Found untraced functions such as dense_3_layer_call_fn, dense_3_layer_call_and_return_conditional_losses, embedding_layer_call_fn, embedding_layer_call_and_return_conditional_losses, query_layer_call_fn while saving (showing 5 of 52). These functions will not be directly callable after loading.\n"
          ]
        },
        {
          "metadata": {
            "tags": null
          },
          "name": "stdout",
          "output_type": "stream",
          "text": [
            "INFO:tensorflow:Assets written to: models/task1_tf_vit_model.ckpt/assets\n"
          ]
        },
        {
          "metadata": {
            "tags": null
          },
          "name": "stderr",
          "output_type": "stream",
          "text": [
            "INFO:tensorflow:Assets written to: models/task1_tf_vit_model.ckpt/assets\n"
          ]
        },
        {
          "metadata": {
            "tags": null
          },
          "name": "stdout",
          "output_type": "stream",
          "text": [
            "48/48 [==============================] - 26s 537ms/step - loss: 0.5786 - accuracy: 0.7028 - auroc: 0.7646 - val_loss: 0.5698 - val_accuracy: 0.7099 - val_auroc: 0.7730\n",
            "Epoch 13/100\n",
            "48/48 [==============================] - ETA: 0s - loss: 0.5759 - accuracy: 0.7047 - auroc: 0.7675"
          ]
        },
        {
          "metadata": {
            "tags": null
          },
          "name": "stderr",
          "output_type": "stream",
          "text": [
            "WARNING:absl:Found untraced functions such as dense_3_layer_call_fn, dense_3_layer_call_and_return_conditional_losses, embedding_layer_call_fn, embedding_layer_call_and_return_conditional_losses, query_layer_call_fn while saving (showing 5 of 52). These functions will not be directly callable after loading.\n"
          ]
        },
        {
          "metadata": {
            "tags": null
          },
          "name": "stdout",
          "output_type": "stream",
          "text": [
            "INFO:tensorflow:Assets written to: models/task1_tf_vit_model.ckpt/assets\n"
          ]
        },
        {
          "metadata": {
            "tags": null
          },
          "name": "stderr",
          "output_type": "stream",
          "text": [
            "INFO:tensorflow:Assets written to: models/task1_tf_vit_model.ckpt/assets\n"
          ]
        },
        {
          "metadata": {
            "tags": null
          },
          "name": "stdout",
          "output_type": "stream",
          "text": [
            "48/48 [==============================] - 26s 539ms/step - loss: 0.5759 - accuracy: 0.7047 - auroc: 0.7675 - val_loss: 0.5680 - val_accuracy: 0.7116 - val_auroc: 0.7752\n",
            "Epoch 14/100\n",
            "48/48 [==============================] - ETA: 0s - loss: 0.5748 - accuracy: 0.7059 - auroc: 0.7688"
          ]
        },
        {
          "metadata": {
            "tags": null
          },
          "name": "stderr",
          "output_type": "stream",
          "text": [
            "WARNING:absl:Found untraced functions such as dense_3_layer_call_fn, dense_3_layer_call_and_return_conditional_losses, embedding_layer_call_fn, embedding_layer_call_and_return_conditional_losses, query_layer_call_fn while saving (showing 5 of 52). These functions will not be directly callable after loading.\n"
          ]
        },
        {
          "metadata": {
            "tags": null
          },
          "name": "stdout",
          "output_type": "stream",
          "text": [
            "INFO:tensorflow:Assets written to: models/task1_tf_vit_model.ckpt/assets\n"
          ]
        },
        {
          "metadata": {
            "tags": null
          },
          "name": "stderr",
          "output_type": "stream",
          "text": [
            "INFO:tensorflow:Assets written to: models/task1_tf_vit_model.ckpt/assets\n"
          ]
        },
        {
          "metadata": {
            "tags": null
          },
          "name": "stdout",
          "output_type": "stream",
          "text": [
            "48/48 [==============================] - 26s 537ms/step - loss: 0.5748 - accuracy: 0.7059 - auroc: 0.7688 - val_loss: 0.5675 - val_accuracy: 0.7121 - val_auroc: 0.7753\n",
            "Epoch 15/100\n",
            "48/48 [==============================] - ETA: 0s - loss: 0.5723 - accuracy: 0.7085 - auroc: 0.7714"
          ]
        },
        {
          "metadata": {
            "tags": null
          },
          "name": "stderr",
          "output_type": "stream",
          "text": [
            "WARNING:absl:Found untraced functions such as dense_3_layer_call_fn, dense_3_layer_call_and_return_conditional_losses, embedding_layer_call_fn, embedding_layer_call_and_return_conditional_losses, query_layer_call_fn while saving (showing 5 of 52). These functions will not be directly callable after loading.\n"
          ]
        },
        {
          "metadata": {
            "tags": null
          },
          "name": "stdout",
          "output_type": "stream",
          "text": [
            "INFO:tensorflow:Assets written to: models/task1_tf_vit_model.ckpt/assets\n"
          ]
        },
        {
          "metadata": {
            "tags": null
          },
          "name": "stderr",
          "output_type": "stream",
          "text": [
            "INFO:tensorflow:Assets written to: models/task1_tf_vit_model.ckpt/assets\n"
          ]
        },
        {
          "metadata": {
            "tags": null
          },
          "name": "stdout",
          "output_type": "stream",
          "text": [
            "48/48 [==============================] - 26s 542ms/step - loss: 0.5723 - accuracy: 0.7085 - auroc: 0.7714 - val_loss: 0.5656 - val_accuracy: 0.7134 - val_auroc: 0.7779\n",
            "Epoch 16/100\n",
            "48/48 [==============================] - ETA: 0s - loss: 0.5708 - accuracy: 0.7086 - auroc: 0.7731"
          ]
        },
        {
          "metadata": {
            "tags": null
          },
          "name": "stderr",
          "output_type": "stream",
          "text": [
            "WARNING:absl:Found untraced functions such as dense_3_layer_call_fn, dense_3_layer_call_and_return_conditional_losses, embedding_layer_call_fn, embedding_layer_call_and_return_conditional_losses, query_layer_call_fn while saving (showing 5 of 52). These functions will not be directly callable after loading.\n"
          ]
        },
        {
          "metadata": {
            "tags": null
          },
          "name": "stdout",
          "output_type": "stream",
          "text": [
            "INFO:tensorflow:Assets written to: models/task1_tf_vit_model.ckpt/assets\n"
          ]
        },
        {
          "metadata": {
            "tags": null
          },
          "name": "stderr",
          "output_type": "stream",
          "text": [
            "INFO:tensorflow:Assets written to: models/task1_tf_vit_model.ckpt/assets\n"
          ]
        },
        {
          "metadata": {
            "tags": null
          },
          "name": "stdout",
          "output_type": "stream",
          "text": [
            "48/48 [==============================] - 26s 535ms/step - loss: 0.5708 - accuracy: 0.7086 - auroc: 0.7731 - val_loss: 0.5618 - val_accuracy: 0.7164 - val_auroc: 0.7813\n",
            "Epoch 17/100\n",
            "48/48 [==============================] - ETA: 0s - loss: 0.5695 - accuracy: 0.7107 - auroc: 0.7739"
          ]
        },
        {
          "metadata": {
            "tags": null
          },
          "name": "stderr",
          "output_type": "stream",
          "text": [
            "WARNING:absl:Found untraced functions such as dense_3_layer_call_fn, dense_3_layer_call_and_return_conditional_losses, embedding_layer_call_fn, embedding_layer_call_and_return_conditional_losses, query_layer_call_fn while saving (showing 5 of 52). These functions will not be directly callable after loading.\n"
          ]
        },
        {
          "metadata": {
            "tags": null
          },
          "name": "stdout",
          "output_type": "stream",
          "text": [
            "INFO:tensorflow:Assets written to: models/task1_tf_vit_model.ckpt/assets\n"
          ]
        },
        {
          "metadata": {
            "tags": null
          },
          "name": "stderr",
          "output_type": "stream",
          "text": [
            "INFO:tensorflow:Assets written to: models/task1_tf_vit_model.ckpt/assets\n"
          ]
        },
        {
          "metadata": {
            "tags": null
          },
          "name": "stdout",
          "output_type": "stream",
          "text": [
            "48/48 [==============================] - 26s 538ms/step - loss: 0.5695 - accuracy: 0.7107 - auroc: 0.7739 - val_loss: 0.5627 - val_accuracy: 0.7156 - val_auroc: 0.7818\n",
            "Epoch 18/100\n",
            "48/48 [==============================] - ETA: 0s - loss: 0.5666 - accuracy: 0.7123 - auroc: 0.7768"
          ]
        },
        {
          "metadata": {
            "tags": null
          },
          "name": "stderr",
          "output_type": "stream",
          "text": [
            "WARNING:absl:Found untraced functions such as dense_3_layer_call_fn, dense_3_layer_call_and_return_conditional_losses, embedding_layer_call_fn, embedding_layer_call_and_return_conditional_losses, query_layer_call_fn while saving (showing 5 of 52). These functions will not be directly callable after loading.\n"
          ]
        },
        {
          "metadata": {
            "tags": null
          },
          "name": "stdout",
          "output_type": "stream",
          "text": [
            "INFO:tensorflow:Assets written to: models/task1_tf_vit_model.ckpt/assets\n"
          ]
        },
        {
          "metadata": {
            "tags": null
          },
          "name": "stderr",
          "output_type": "stream",
          "text": [
            "INFO:tensorflow:Assets written to: models/task1_tf_vit_model.ckpt/assets\n"
          ]
        },
        {
          "metadata": {
            "tags": null
          },
          "name": "stdout",
          "output_type": "stream",
          "text": [
            "48/48 [==============================] - 26s 538ms/step - loss: 0.5666 - accuracy: 0.7123 - auroc: 0.7768 - val_loss: 0.5577 - val_accuracy: 0.7198 - val_auroc: 0.7850\n",
            "Epoch 19/100\n",
            "48/48 [==============================] - 18s 379ms/step - loss: 0.5655 - accuracy: 0.7134 - auroc: 0.7782 - val_loss: 0.5587 - val_accuracy: 0.7185 - val_auroc: 0.7841\n",
            "Epoch 20/100\n",
            "48/48 [==============================] - 18s 379ms/step - loss: 0.5633 - accuracy: 0.7152 - auroc: 0.7801 - val_loss: 0.5594 - val_accuracy: 0.7191 - val_auroc: 0.7840\n",
            "Epoch 21/100\n",
            "48/48 [==============================] - ETA: 0s - loss: 0.5624 - accuracy: 0.7159 - auroc: 0.7815"
          ]
        },
        {
          "metadata": {
            "tags": null
          },
          "name": "stderr",
          "output_type": "stream",
          "text": [
            "WARNING:absl:Found untraced functions such as dense_3_layer_call_fn, dense_3_layer_call_and_return_conditional_losses, embedding_layer_call_fn, embedding_layer_call_and_return_conditional_losses, query_layer_call_fn while saving (showing 5 of 52). These functions will not be directly callable after loading.\n"
          ]
        },
        {
          "metadata": {
            "tags": null
          },
          "name": "stdout",
          "output_type": "stream",
          "text": [
            "INFO:tensorflow:Assets written to: models/task1_tf_vit_model.ckpt/assets\n"
          ]
        },
        {
          "metadata": {
            "tags": null
          },
          "name": "stderr",
          "output_type": "stream",
          "text": [
            "INFO:tensorflow:Assets written to: models/task1_tf_vit_model.ckpt/assets\n"
          ]
        },
        {
          "metadata": {
            "tags": null
          },
          "name": "stdout",
          "output_type": "stream",
          "text": [
            "48/48 [==============================] - 25s 535ms/step - loss: 0.5624 - accuracy: 0.7159 - auroc: 0.7815 - val_loss: 0.5538 - val_accuracy: 0.7227 - val_auroc: 0.7888\n",
            "Epoch 22/100\n",
            "48/48 [==============================] - 18s 377ms/step - loss: 0.5613 - accuracy: 0.7169 - auroc: 0.7825 - val_loss: 0.5567 - val_accuracy: 0.7202 - val_auroc: 0.7880\n",
            "Epoch 23/100\n",
            "48/48 [==============================] - ETA: 0s - loss: 0.5598 - accuracy: 0.7180 - auroc: 0.7839"
          ]
        },
        {
          "metadata": {
            "tags": null
          },
          "name": "stderr",
          "output_type": "stream",
          "text": [
            "WARNING:absl:Found untraced functions such as dense_3_layer_call_fn, dense_3_layer_call_and_return_conditional_losses, embedding_layer_call_fn, embedding_layer_call_and_return_conditional_losses, query_layer_call_fn while saving (showing 5 of 52). These functions will not be directly callable after loading.\n"
          ]
        },
        {
          "metadata": {
            "tags": null
          },
          "name": "stdout",
          "output_type": "stream",
          "text": [
            "INFO:tensorflow:Assets written to: models/task1_tf_vit_model.ckpt/assets\n"
          ]
        },
        {
          "metadata": {
            "tags": null
          },
          "name": "stderr",
          "output_type": "stream",
          "text": [
            "INFO:tensorflow:Assets written to: models/task1_tf_vit_model.ckpt/assets\n"
          ]
        },
        {
          "metadata": {
            "tags": null
          },
          "name": "stdout",
          "output_type": "stream",
          "text": [
            "48/48 [==============================] - 26s 541ms/step - loss: 0.5598 - accuracy: 0.7180 - auroc: 0.7839 - val_loss: 0.5529 - val_accuracy: 0.7229 - val_auroc: 0.7904\n",
            "Epoch 24/100\n",
            "48/48 [==============================] - ETA: 0s - loss: 0.5583 - accuracy: 0.7197 - auroc: 0.7851"
          ]
        },
        {
          "metadata": {
            "tags": null
          },
          "name": "stderr",
          "output_type": "stream",
          "text": [
            "WARNING:absl:Found untraced functions such as dense_3_layer_call_fn, dense_3_layer_call_and_return_conditional_losses, embedding_layer_call_fn, embedding_layer_call_and_return_conditional_losses, query_layer_call_fn while saving (showing 5 of 52). These functions will not be directly callable after loading.\n"
          ]
        },
        {
          "metadata": {
            "tags": null
          },
          "name": "stdout",
          "output_type": "stream",
          "text": [
            "INFO:tensorflow:Assets written to: models/task1_tf_vit_model.ckpt/assets\n"
          ]
        },
        {
          "metadata": {
            "tags": null
          },
          "name": "stderr",
          "output_type": "stream",
          "text": [
            "INFO:tensorflow:Assets written to: models/task1_tf_vit_model.ckpt/assets\n"
          ]
        },
        {
          "metadata": {
            "tags": null
          },
          "name": "stdout",
          "output_type": "stream",
          "text": [
            "48/48 [==============================] - 26s 535ms/step - loss: 0.5583 - accuracy: 0.7197 - auroc: 0.7851 - val_loss: 0.5531 - val_accuracy: 0.7234 - val_auroc: 0.7917\n",
            "Epoch 25/100\n",
            "48/48 [==============================] - ETA: 0s - loss: 0.5582 - accuracy: 0.7190 - auroc: 0.7860"
          ]
        },
        {
          "metadata": {
            "tags": null
          },
          "name": "stderr",
          "output_type": "stream",
          "text": [
            "WARNING:absl:Found untraced functions such as dense_3_layer_call_fn, dense_3_layer_call_and_return_conditional_losses, embedding_layer_call_fn, embedding_layer_call_and_return_conditional_losses, query_layer_call_fn while saving (showing 5 of 52). These functions will not be directly callable after loading.\n"
          ]
        },
        {
          "metadata": {
            "tags": null
          },
          "name": "stdout",
          "output_type": "stream",
          "text": [
            "INFO:tensorflow:Assets written to: models/task1_tf_vit_model.ckpt/assets\n"
          ]
        },
        {
          "metadata": {
            "tags": null
          },
          "name": "stderr",
          "output_type": "stream",
          "text": [
            "INFO:tensorflow:Assets written to: models/task1_tf_vit_model.ckpt/assets\n"
          ]
        },
        {
          "metadata": {
            "tags": null
          },
          "name": "stdout",
          "output_type": "stream",
          "text": [
            "48/48 [==============================] - 26s 538ms/step - loss: 0.5582 - accuracy: 0.7190 - auroc: 0.7860 - val_loss: 0.5568 - val_accuracy: 0.7189 - val_auroc: 0.7924\n",
            "Epoch 26/100\n",
            "48/48 [==============================] - ETA: 0s - loss: 0.5571 - accuracy: 0.7196 - auroc: 0.7873"
          ]
        },
        {
          "metadata": {
            "tags": null
          },
          "name": "stderr",
          "output_type": "stream",
          "text": [
            "WARNING:absl:Found untraced functions such as dense_3_layer_call_fn, dense_3_layer_call_and_return_conditional_losses, embedding_layer_call_fn, embedding_layer_call_and_return_conditional_losses, query_layer_call_fn while saving (showing 5 of 52). These functions will not be directly callable after loading.\n"
          ]
        },
        {
          "metadata": {
            "tags": null
          },
          "name": "stdout",
          "output_type": "stream",
          "text": [
            "INFO:tensorflow:Assets written to: models/task1_tf_vit_model.ckpt/assets\n"
          ]
        },
        {
          "metadata": {
            "tags": null
          },
          "name": "stderr",
          "output_type": "stream",
          "text": [
            "INFO:tensorflow:Assets written to: models/task1_tf_vit_model.ckpt/assets\n"
          ]
        },
        {
          "metadata": {
            "tags": null
          },
          "name": "stdout",
          "output_type": "stream",
          "text": [
            "48/48 [==============================] - 26s 537ms/step - loss: 0.5571 - accuracy: 0.7196 - auroc: 0.7873 - val_loss: 0.5488 - val_accuracy: 0.7266 - val_auroc: 0.7950\n",
            "Epoch 27/100\n",
            "48/48 [==============================] - ETA: 0s - loss: 0.5538 - accuracy: 0.7230 - auroc: 0.7897"
          ]
        },
        {
          "metadata": {
            "tags": null
          },
          "name": "stderr",
          "output_type": "stream",
          "text": [
            "WARNING:absl:Found untraced functions such as dense_3_layer_call_fn, dense_3_layer_call_and_return_conditional_losses, embedding_layer_call_fn, embedding_layer_call_and_return_conditional_losses, query_layer_call_fn while saving (showing 5 of 52). These functions will not be directly callable after loading.\n"
          ]
        },
        {
          "metadata": {
            "tags": null
          },
          "name": "stdout",
          "output_type": "stream",
          "text": [
            "INFO:tensorflow:Assets written to: models/task1_tf_vit_model.ckpt/assets\n"
          ]
        },
        {
          "metadata": {
            "tags": null
          },
          "name": "stderr",
          "output_type": "stream",
          "text": [
            "INFO:tensorflow:Assets written to: models/task1_tf_vit_model.ckpt/assets\n"
          ]
        },
        {
          "metadata": {
            "tags": null
          },
          "name": "stdout",
          "output_type": "stream",
          "text": [
            "48/48 [==============================] - 26s 536ms/step - loss: 0.5538 - accuracy: 0.7230 - auroc: 0.7897 - val_loss: 0.5461 - val_accuracy: 0.7285 - val_auroc: 0.7968\n",
            "Epoch 28/100\n",
            "48/48 [==============================] - ETA: 0s - loss: 0.5545 - accuracy: 0.7221 - auroc: 0.7895"
          ]
        },
        {
          "metadata": {
            "tags": null
          },
          "name": "stderr",
          "output_type": "stream",
          "text": [
            "WARNING:absl:Found untraced functions such as dense_3_layer_call_fn, dense_3_layer_call_and_return_conditional_losses, embedding_layer_call_fn, embedding_layer_call_and_return_conditional_losses, query_layer_call_fn while saving (showing 5 of 52). These functions will not be directly callable after loading.\n"
          ]
        },
        {
          "metadata": {
            "tags": null
          },
          "name": "stdout",
          "output_type": "stream",
          "text": [
            "INFO:tensorflow:Assets written to: models/task1_tf_vit_model.ckpt/assets\n"
          ]
        },
        {
          "metadata": {
            "tags": null
          },
          "name": "stderr",
          "output_type": "stream",
          "text": [
            "INFO:tensorflow:Assets written to: models/task1_tf_vit_model.ckpt/assets\n"
          ]
        },
        {
          "metadata": {
            "tags": null
          },
          "name": "stdout",
          "output_type": "stream",
          "text": [
            "48/48 [==============================] - 26s 538ms/step - loss: 0.5545 - accuracy: 0.7221 - auroc: 0.7895 - val_loss: 0.5451 - val_accuracy: 0.7287 - val_auroc: 0.7979\n",
            "Epoch 29/100\n",
            "48/48 [==============================] - ETA: 0s - loss: 0.5513 - accuracy: 0.7242 - auroc: 0.7921"
          ]
        },
        {
          "metadata": {
            "tags": null
          },
          "name": "stderr",
          "output_type": "stream",
          "text": [
            "WARNING:absl:Found untraced functions such as dense_3_layer_call_fn, dense_3_layer_call_and_return_conditional_losses, embedding_layer_call_fn, embedding_layer_call_and_return_conditional_losses, query_layer_call_fn while saving (showing 5 of 52). These functions will not be directly callable after loading.\n"
          ]
        },
        {
          "metadata": {
            "tags": null
          },
          "name": "stdout",
          "output_type": "stream",
          "text": [
            "INFO:tensorflow:Assets written to: models/task1_tf_vit_model.ckpt/assets\n"
          ]
        },
        {
          "metadata": {
            "tags": null
          },
          "name": "stderr",
          "output_type": "stream",
          "text": [
            "INFO:tensorflow:Assets written to: models/task1_tf_vit_model.ckpt/assets\n"
          ]
        },
        {
          "metadata": {
            "tags": null
          },
          "name": "stdout",
          "output_type": "stream",
          "text": [
            "48/48 [==============================] - 26s 542ms/step - loss: 0.5513 - accuracy: 0.7242 - auroc: 0.7921 - val_loss: 0.5433 - val_accuracy: 0.7299 - val_auroc: 0.7990\n",
            "Epoch 30/100\n",
            "48/48 [==============================] - ETA: 0s - loss: 0.5508 - accuracy: 0.7247 - auroc: 0.7924"
          ]
        },
        {
          "metadata": {
            "tags": null
          },
          "name": "stderr",
          "output_type": "stream",
          "text": [
            "WARNING:absl:Found untraced functions such as dense_3_layer_call_fn, dense_3_layer_call_and_return_conditional_losses, embedding_layer_call_fn, embedding_layer_call_and_return_conditional_losses, query_layer_call_fn while saving (showing 5 of 52). These functions will not be directly callable after loading.\n"
          ]
        },
        {
          "metadata": {
            "tags": null
          },
          "name": "stdout",
          "output_type": "stream",
          "text": [
            "INFO:tensorflow:Assets written to: models/task1_tf_vit_model.ckpt/assets\n"
          ]
        },
        {
          "metadata": {
            "tags": null
          },
          "name": "stderr",
          "output_type": "stream",
          "text": [
            "INFO:tensorflow:Assets written to: models/task1_tf_vit_model.ckpt/assets\n"
          ]
        },
        {
          "metadata": {
            "tags": null
          },
          "name": "stdout",
          "output_type": "stream",
          "text": [
            "48/48 [==============================] - 26s 538ms/step - loss: 0.5508 - accuracy: 0.7247 - auroc: 0.7924 - val_loss: 0.5422 - val_accuracy: 0.7310 - val_auroc: 0.8003\n",
            "Epoch 31/100\n",
            "48/48 [==============================] - ETA: 0s - loss: 0.5500 - accuracy: 0.7254 - auroc: 0.7933"
          ]
        },
        {
          "metadata": {
            "tags": null
          },
          "name": "stderr",
          "output_type": "stream",
          "text": [
            "WARNING:absl:Found untraced functions such as dense_3_layer_call_fn, dense_3_layer_call_and_return_conditional_losses, embedding_layer_call_fn, embedding_layer_call_and_return_conditional_losses, query_layer_call_fn while saving (showing 5 of 52). These functions will not be directly callable after loading.\n"
          ]
        },
        {
          "metadata": {
            "tags": null
          },
          "name": "stdout",
          "output_type": "stream",
          "text": [
            "INFO:tensorflow:Assets written to: models/task1_tf_vit_model.ckpt/assets\n"
          ]
        },
        {
          "metadata": {
            "tags": null
          },
          "name": "stderr",
          "output_type": "stream",
          "text": [
            "INFO:tensorflow:Assets written to: models/task1_tf_vit_model.ckpt/assets\n"
          ]
        },
        {
          "metadata": {
            "tags": null
          },
          "name": "stdout",
          "output_type": "stream",
          "text": [
            "48/48 [==============================] - 26s 538ms/step - loss: 0.5500 - accuracy: 0.7254 - auroc: 0.7933 - val_loss: 0.5408 - val_accuracy: 0.7321 - val_auroc: 0.8017\n",
            "Epoch 32/100\n",
            "48/48 [==============================] - ETA: 0s - loss: 0.5492 - accuracy: 0.7261 - auroc: 0.7942"
          ]
        },
        {
          "metadata": {
            "tags": null
          },
          "name": "stderr",
          "output_type": "stream",
          "text": [
            "WARNING:absl:Found untraced functions such as dense_3_layer_call_fn, dense_3_layer_call_and_return_conditional_losses, embedding_layer_call_fn, embedding_layer_call_and_return_conditional_losses, query_layer_call_fn while saving (showing 5 of 52). These functions will not be directly callable after loading.\n"
          ]
        },
        {
          "metadata": {
            "tags": null
          },
          "name": "stdout",
          "output_type": "stream",
          "text": [
            "INFO:tensorflow:Assets written to: models/task1_tf_vit_model.ckpt/assets\n"
          ]
        },
        {
          "metadata": {
            "tags": null
          },
          "name": "stderr",
          "output_type": "stream",
          "text": [
            "INFO:tensorflow:Assets written to: models/task1_tf_vit_model.ckpt/assets\n"
          ]
        },
        {
          "metadata": {
            "tags": null
          },
          "name": "stdout",
          "output_type": "stream",
          "text": [
            "48/48 [==============================] - 26s 541ms/step - loss: 0.5492 - accuracy: 0.7261 - auroc: 0.7942 - val_loss: 0.5370 - val_accuracy: 0.7348 - val_auroc: 0.8047\n",
            "Epoch 33/100\n",
            "48/48 [==============================] - ETA: 0s - loss: 0.5472 - accuracy: 0.7275 - auroc: 0.7961"
          ]
        },
        {
          "metadata": {
            "tags": null
          },
          "name": "stderr",
          "output_type": "stream",
          "text": [
            "WARNING:absl:Found untraced functions such as dense_3_layer_call_fn, dense_3_layer_call_and_return_conditional_losses, embedding_layer_call_fn, embedding_layer_call_and_return_conditional_losses, query_layer_call_fn while saving (showing 5 of 52). These functions will not be directly callable after loading.\n"
          ]
        },
        {
          "metadata": {
            "tags": null
          },
          "name": "stdout",
          "output_type": "stream",
          "text": [
            "INFO:tensorflow:Assets written to: models/task1_tf_vit_model.ckpt/assets\n"
          ]
        },
        {
          "metadata": {
            "tags": null
          },
          "name": "stderr",
          "output_type": "stream",
          "text": [
            "INFO:tensorflow:Assets written to: models/task1_tf_vit_model.ckpt/assets\n"
          ]
        },
        {
          "metadata": {
            "tags": null
          },
          "name": "stdout",
          "output_type": "stream",
          "text": [
            "48/48 [==============================] - 26s 539ms/step - loss: 0.5472 - accuracy: 0.7275 - auroc: 0.7961 - val_loss: 0.5369 - val_accuracy: 0.7348 - val_auroc: 0.8050\n",
            "Epoch 34/100\n",
            "48/48 [==============================] - ETA: 0s - loss: 0.5464 - accuracy: 0.7282 - auroc: 0.7964"
          ]
        },
        {
          "metadata": {
            "tags": null
          },
          "name": "stderr",
          "output_type": "stream",
          "text": [
            "WARNING:absl:Found untraced functions such as dense_3_layer_call_fn, dense_3_layer_call_and_return_conditional_losses, embedding_layer_call_fn, embedding_layer_call_and_return_conditional_losses, query_layer_call_fn while saving (showing 5 of 52). These functions will not be directly callable after loading.\n"
          ]
        },
        {
          "metadata": {
            "tags": null
          },
          "name": "stdout",
          "output_type": "stream",
          "text": [
            "INFO:tensorflow:Assets written to: models/task1_tf_vit_model.ckpt/assets\n"
          ]
        },
        {
          "metadata": {
            "tags": null
          },
          "name": "stderr",
          "output_type": "stream",
          "text": [
            "INFO:tensorflow:Assets written to: models/task1_tf_vit_model.ckpt/assets\n"
          ]
        },
        {
          "metadata": {
            "tags": null
          },
          "name": "stdout",
          "output_type": "stream",
          "text": [
            "48/48 [==============================] - 26s 538ms/step - loss: 0.5464 - accuracy: 0.7282 - auroc: 0.7964 - val_loss: 0.5371 - val_accuracy: 0.7353 - val_auroc: 0.8057\n",
            "Epoch 35/100\n",
            "48/48 [==============================] - ETA: 0s - loss: 0.5445 - accuracy: 0.7298 - auroc: 0.7987"
          ]
        },
        {
          "metadata": {
            "tags": null
          },
          "name": "stderr",
          "output_type": "stream",
          "text": [
            "WARNING:absl:Found untraced functions such as dense_3_layer_call_fn, dense_3_layer_call_and_return_conditional_losses, embedding_layer_call_fn, embedding_layer_call_and_return_conditional_losses, query_layer_call_fn while saving (showing 5 of 52). These functions will not be directly callable after loading.\n"
          ]
        },
        {
          "metadata": {
            "tags": null
          },
          "name": "stdout",
          "output_type": "stream",
          "text": [
            "INFO:tensorflow:Assets written to: models/task1_tf_vit_model.ckpt/assets\n"
          ]
        },
        {
          "metadata": {
            "tags": null
          },
          "name": "stderr",
          "output_type": "stream",
          "text": [
            "INFO:tensorflow:Assets written to: models/task1_tf_vit_model.ckpt/assets\n"
          ]
        },
        {
          "metadata": {
            "tags": null
          },
          "name": "stdout",
          "output_type": "stream",
          "text": [
            "48/48 [==============================] - 26s 538ms/step - loss: 0.5445 - accuracy: 0.7298 - auroc: 0.7987 - val_loss: 0.5322 - val_accuracy: 0.7380 - val_auroc: 0.8092\n",
            "Epoch 36/100\n",
            "48/48 [==============================] - ETA: 0s - loss: 0.5435 - accuracy: 0.7299 - auroc: 0.7992"
          ]
        },
        {
          "metadata": {
            "tags": null
          },
          "name": "stderr",
          "output_type": "stream",
          "text": [
            "WARNING:absl:Found untraced functions such as dense_3_layer_call_fn, dense_3_layer_call_and_return_conditional_losses, embedding_layer_call_fn, embedding_layer_call_and_return_conditional_losses, query_layer_call_fn while saving (showing 5 of 52). These functions will not be directly callable after loading.\n"
          ]
        },
        {
          "metadata": {
            "tags": null
          },
          "name": "stdout",
          "output_type": "stream",
          "text": [
            "INFO:tensorflow:Assets written to: models/task1_tf_vit_model.ckpt/assets\n"
          ]
        },
        {
          "metadata": {
            "tags": null
          },
          "name": "stderr",
          "output_type": "stream",
          "text": [
            "INFO:tensorflow:Assets written to: models/task1_tf_vit_model.ckpt/assets\n"
          ]
        },
        {
          "metadata": {
            "tags": null
          },
          "name": "stdout",
          "output_type": "stream",
          "text": [
            "48/48 [==============================] - 26s 535ms/step - loss: 0.5435 - accuracy: 0.7299 - auroc: 0.7992 - val_loss: 0.5297 - val_accuracy: 0.7397 - val_auroc: 0.8111\n",
            "Epoch 37/100\n",
            "48/48 [==============================] - ETA: 0s - loss: 0.5415 - accuracy: 0.7315 - auroc: 0.8009"
          ]
        },
        {
          "metadata": {
            "tags": null
          },
          "name": "stderr",
          "output_type": "stream",
          "text": [
            "WARNING:absl:Found untraced functions such as dense_3_layer_call_fn, dense_3_layer_call_and_return_conditional_losses, embedding_layer_call_fn, embedding_layer_call_and_return_conditional_losses, query_layer_call_fn while saving (showing 5 of 52). These functions will not be directly callable after loading.\n"
          ]
        },
        {
          "metadata": {
            "tags": null
          },
          "name": "stdout",
          "output_type": "stream",
          "text": [
            "INFO:tensorflow:Assets written to: models/task1_tf_vit_model.ckpt/assets\n"
          ]
        },
        {
          "metadata": {
            "tags": null
          },
          "name": "stderr",
          "output_type": "stream",
          "text": [
            "INFO:tensorflow:Assets written to: models/task1_tf_vit_model.ckpt/assets\n"
          ]
        },
        {
          "metadata": {
            "tags": null
          },
          "name": "stdout",
          "output_type": "stream",
          "text": [
            "48/48 [==============================] - 26s 539ms/step - loss: 0.5415 - accuracy: 0.7315 - auroc: 0.8009 - val_loss: 0.5286 - val_accuracy: 0.7405 - val_auroc: 0.8126\n",
            "Epoch 38/100\n",
            "48/48 [==============================] - 18s 378ms/step - loss: 0.5409 - accuracy: 0.7314 - auroc: 0.8016 - val_loss: 0.5309 - val_accuracy: 0.7380 - val_auroc: 0.8103\n",
            "Epoch 39/100\n",
            "48/48 [==============================] - ETA: 0s - loss: 0.5415 - accuracy: 0.7314 - auroc: 0.8019"
          ]
        },
        {
          "metadata": {
            "tags": null
          },
          "name": "stderr",
          "output_type": "stream",
          "text": [
            "WARNING:absl:Found untraced functions such as dense_3_layer_call_fn, dense_3_layer_call_and_return_conditional_losses, embedding_layer_call_fn, embedding_layer_call_and_return_conditional_losses, query_layer_call_fn while saving (showing 5 of 52). These functions will not be directly callable after loading.\n"
          ]
        },
        {
          "metadata": {
            "tags": null
          },
          "name": "stdout",
          "output_type": "stream",
          "text": [
            "INFO:tensorflow:Assets written to: models/task1_tf_vit_model.ckpt/assets\n"
          ]
        },
        {
          "metadata": {
            "tags": null
          },
          "name": "stderr",
          "output_type": "stream",
          "text": [
            "INFO:tensorflow:Assets written to: models/task1_tf_vit_model.ckpt/assets\n"
          ]
        },
        {
          "metadata": {
            "tags": null
          },
          "name": "stdout",
          "output_type": "stream",
          "text": [
            "48/48 [==============================] - 26s 538ms/step - loss: 0.5415 - accuracy: 0.7314 - auroc: 0.8019 - val_loss: 0.5269 - val_accuracy: 0.7413 - val_auroc: 0.8140\n",
            "Epoch 40/100\n",
            "48/48 [==============================] - 18s 375ms/step - loss: 0.5385 - accuracy: 0.7329 - auroc: 0.8038 - val_loss: 0.5268 - val_accuracy: 0.7420 - val_auroc: 0.8140\n",
            "Epoch 41/100\n",
            "48/48 [==============================] - ETA: 0s - loss: 0.5364 - accuracy: 0.7348 - auroc: 0.8058"
          ]
        },
        {
          "metadata": {
            "tags": null
          },
          "name": "stderr",
          "output_type": "stream",
          "text": [
            "WARNING:absl:Found untraced functions such as dense_3_layer_call_fn, dense_3_layer_call_and_return_conditional_losses, embedding_layer_call_fn, embedding_layer_call_and_return_conditional_losses, query_layer_call_fn while saving (showing 5 of 52). These functions will not be directly callable after loading.\n"
          ]
        },
        {
          "metadata": {
            "tags": null
          },
          "name": "stdout",
          "output_type": "stream",
          "text": [
            "INFO:tensorflow:Assets written to: models/task1_tf_vit_model.ckpt/assets\n"
          ]
        },
        {
          "metadata": {
            "tags": null
          },
          "name": "stderr",
          "output_type": "stream",
          "text": [
            "INFO:tensorflow:Assets written to: models/task1_tf_vit_model.ckpt/assets\n"
          ]
        },
        {
          "metadata": {
            "tags": null
          },
          "name": "stdout",
          "output_type": "stream",
          "text": [
            "48/48 [==============================] - 26s 539ms/step - loss: 0.5364 - accuracy: 0.7348 - auroc: 0.8058 - val_loss: 0.5252 - val_accuracy: 0.7433 - val_auroc: 0.8162\n",
            "Epoch 42/100\n",
            "48/48 [==============================] - ETA: 0s - loss: 0.5353 - accuracy: 0.7356 - auroc: 0.8065"
          ]
        },
        {
          "metadata": {
            "tags": null
          },
          "name": "stderr",
          "output_type": "stream",
          "text": [
            "WARNING:absl:Found untraced functions such as dense_3_layer_call_fn, dense_3_layer_call_and_return_conditional_losses, embedding_layer_call_fn, embedding_layer_call_and_return_conditional_losses, query_layer_call_fn while saving (showing 5 of 52). These functions will not be directly callable after loading.\n"
          ]
        },
        {
          "metadata": {
            "tags": null
          },
          "name": "stdout",
          "output_type": "stream",
          "text": [
            "INFO:tensorflow:Assets written to: models/task1_tf_vit_model.ckpt/assets\n"
          ]
        },
        {
          "metadata": {
            "tags": null
          },
          "name": "stderr",
          "output_type": "stream",
          "text": [
            "INFO:tensorflow:Assets written to: models/task1_tf_vit_model.ckpt/assets\n"
          ]
        },
        {
          "metadata": {
            "tags": null
          },
          "name": "stdout",
          "output_type": "stream",
          "text": [
            "48/48 [==============================] - 26s 535ms/step - loss: 0.5353 - accuracy: 0.7356 - auroc: 0.8065 - val_loss: 0.5213 - val_accuracy: 0.7449 - val_auroc: 0.8187\n",
            "Epoch 43/100\n",
            "48/48 [==============================] - 18s 380ms/step - loss: 0.5342 - accuracy: 0.7362 - auroc: 0.8078 - val_loss: 0.5220 - val_accuracy: 0.7437 - val_auroc: 0.8186\n",
            "Epoch 44/100\n",
            "48/48 [==============================] - ETA: 0s - loss: 0.5337 - accuracy: 0.7365 - auroc: 0.8080"
          ]
        },
        {
          "metadata": {
            "tags": null
          },
          "name": "stderr",
          "output_type": "stream",
          "text": [
            "WARNING:absl:Found untraced functions such as dense_3_layer_call_fn, dense_3_layer_call_and_return_conditional_losses, embedding_layer_call_fn, embedding_layer_call_and_return_conditional_losses, query_layer_call_fn while saving (showing 5 of 52). These functions will not be directly callable after loading.\n"
          ]
        },
        {
          "metadata": {
            "tags": null
          },
          "name": "stdout",
          "output_type": "stream",
          "text": [
            "INFO:tensorflow:Assets written to: models/task1_tf_vit_model.ckpt/assets\n"
          ]
        },
        {
          "metadata": {
            "tags": null
          },
          "name": "stderr",
          "output_type": "stream",
          "text": [
            "INFO:tensorflow:Assets written to: models/task1_tf_vit_model.ckpt/assets\n"
          ]
        },
        {
          "metadata": {
            "tags": null
          },
          "name": "stdout",
          "output_type": "stream",
          "text": [
            "48/48 [==============================] - 26s 541ms/step - loss: 0.5337 - accuracy: 0.7365 - auroc: 0.8080 - val_loss: 0.5181 - val_accuracy: 0.7484 - val_auroc: 0.8213\n",
            "Epoch 45/100\n",
            "48/48 [==============================] - ETA: 0s - loss: 0.5333 - accuracy: 0.7365 - auroc: 0.8090"
          ]
        },
        {
          "metadata": {
            "tags": null
          },
          "name": "stderr",
          "output_type": "stream",
          "text": [
            "WARNING:absl:Found untraced functions such as dense_3_layer_call_fn, dense_3_layer_call_and_return_conditional_losses, embedding_layer_call_fn, embedding_layer_call_and_return_conditional_losses, query_layer_call_fn while saving (showing 5 of 52). These functions will not be directly callable after loading.\n"
          ]
        },
        {
          "metadata": {
            "tags": null
          },
          "name": "stdout",
          "output_type": "stream",
          "text": [
            "INFO:tensorflow:Assets written to: models/task1_tf_vit_model.ckpt/assets\n"
          ]
        },
        {
          "metadata": {
            "tags": null
          },
          "name": "stderr",
          "output_type": "stream",
          "text": [
            "INFO:tensorflow:Assets written to: models/task1_tf_vit_model.ckpt/assets\n"
          ]
        },
        {
          "metadata": {
            "tags": null
          },
          "name": "stdout",
          "output_type": "stream",
          "text": [
            "48/48 [==============================] - 25s 534ms/step - loss: 0.5333 - accuracy: 0.7365 - auroc: 0.8090 - val_loss: 0.5169 - val_accuracy: 0.7490 - val_auroc: 0.8225\n",
            "Epoch 46/100\n",
            "48/48 [==============================] - ETA: 0s - loss: 0.5309 - accuracy: 0.7387 - auroc: 0.8105"
          ]
        },
        {
          "metadata": {
            "tags": null
          },
          "name": "stderr",
          "output_type": "stream",
          "text": [
            "WARNING:absl:Found untraced functions such as dense_3_layer_call_fn, dense_3_layer_call_and_return_conditional_losses, embedding_layer_call_fn, embedding_layer_call_and_return_conditional_losses, query_layer_call_fn while saving (showing 5 of 52). These functions will not be directly callable after loading.\n"
          ]
        },
        {
          "metadata": {
            "tags": null
          },
          "name": "stdout",
          "output_type": "stream",
          "text": [
            "INFO:tensorflow:Assets written to: models/task1_tf_vit_model.ckpt/assets\n"
          ]
        },
        {
          "metadata": {
            "tags": null
          },
          "name": "stderr",
          "output_type": "stream",
          "text": [
            "INFO:tensorflow:Assets written to: models/task1_tf_vit_model.ckpt/assets\n"
          ]
        },
        {
          "metadata": {
            "tags": null
          },
          "name": "stdout",
          "output_type": "stream",
          "text": [
            "48/48 [==============================] - 26s 537ms/step - loss: 0.5309 - accuracy: 0.7387 - auroc: 0.8105 - val_loss: 0.5148 - val_accuracy: 0.7480 - val_auroc: 0.8255\n",
            "Epoch 47/100\n",
            "48/48 [==============================] - ETA: 0s - loss: 0.5292 - accuracy: 0.7391 - auroc: 0.8120"
          ]
        },
        {
          "metadata": {
            "tags": null
          },
          "name": "stderr",
          "output_type": "stream",
          "text": [
            "WARNING:absl:Found untraced functions such as dense_3_layer_call_fn, dense_3_layer_call_and_return_conditional_losses, embedding_layer_call_fn, embedding_layer_call_and_return_conditional_losses, query_layer_call_fn while saving (showing 5 of 52). These functions will not be directly callable after loading.\n"
          ]
        },
        {
          "metadata": {
            "tags": null
          },
          "name": "stdout",
          "output_type": "stream",
          "text": [
            "INFO:tensorflow:Assets written to: models/task1_tf_vit_model.ckpt/assets\n"
          ]
        },
        {
          "metadata": {
            "tags": null
          },
          "name": "stderr",
          "output_type": "stream",
          "text": [
            "INFO:tensorflow:Assets written to: models/task1_tf_vit_model.ckpt/assets\n"
          ]
        },
        {
          "metadata": {
            "tags": null
          },
          "name": "stdout",
          "output_type": "stream",
          "text": [
            "48/48 [==============================] - 26s 538ms/step - loss: 0.5292 - accuracy: 0.7391 - auroc: 0.8120 - val_loss: 0.5106 - val_accuracy: 0.7527 - val_auroc: 0.8267\n",
            "Epoch 48/100\n",
            "48/48 [==============================] - 18s 377ms/step - loss: 0.5298 - accuracy: 0.7390 - auroc: 0.8123 - val_loss: 0.5138 - val_accuracy: 0.7514 - val_auroc: 0.8255\n",
            "Epoch 49/100\n",
            "48/48 [==============================] - ETA: 0s - loss: 0.5285 - accuracy: 0.7398 - auroc: 0.8127"
          ]
        },
        {
          "metadata": {
            "tags": null
          },
          "name": "stderr",
          "output_type": "stream",
          "text": [
            "WARNING:absl:Found untraced functions such as dense_3_layer_call_fn, dense_3_layer_call_and_return_conditional_losses, embedding_layer_call_fn, embedding_layer_call_and_return_conditional_losses, query_layer_call_fn while saving (showing 5 of 52). These functions will not be directly callable after loading.\n"
          ]
        },
        {
          "metadata": {
            "tags": null
          },
          "name": "stdout",
          "output_type": "stream",
          "text": [
            "INFO:tensorflow:Assets written to: models/task1_tf_vit_model.ckpt/assets\n"
          ]
        },
        {
          "metadata": {
            "tags": null
          },
          "name": "stderr",
          "output_type": "stream",
          "text": [
            "INFO:tensorflow:Assets written to: models/task1_tf_vit_model.ckpt/assets\n"
          ]
        },
        {
          "metadata": {
            "tags": null
          },
          "name": "stdout",
          "output_type": "stream",
          "text": [
            "48/48 [==============================] - 26s 545ms/step - loss: 0.5285 - accuracy: 0.7398 - auroc: 0.8127 - val_loss: 0.5096 - val_accuracy: 0.7528 - val_auroc: 0.8277\n",
            "Epoch 50/100\n",
            "48/48 [==============================] - ETA: 0s - loss: 0.5255 - accuracy: 0.7419 - auroc: 0.8149"
          ]
        },
        {
          "metadata": {
            "tags": null
          },
          "name": "stderr",
          "output_type": "stream",
          "text": [
            "WARNING:absl:Found untraced functions such as dense_3_layer_call_fn, dense_3_layer_call_and_return_conditional_losses, embedding_layer_call_fn, embedding_layer_call_and_return_conditional_losses, query_layer_call_fn while saving (showing 5 of 52). These functions will not be directly callable after loading.\n"
          ]
        },
        {
          "metadata": {
            "tags": null
          },
          "name": "stdout",
          "output_type": "stream",
          "text": [
            "INFO:tensorflow:Assets written to: models/task1_tf_vit_model.ckpt/assets\n"
          ]
        },
        {
          "metadata": {
            "tags": null
          },
          "name": "stderr",
          "output_type": "stream",
          "text": [
            "INFO:tensorflow:Assets written to: models/task1_tf_vit_model.ckpt/assets\n"
          ]
        },
        {
          "metadata": {
            "tags": null
          },
          "name": "stdout",
          "output_type": "stream",
          "text": [
            "48/48 [==============================] - 25s 534ms/step - loss: 0.5255 - accuracy: 0.7419 - auroc: 0.8149 - val_loss: 0.5071 - val_accuracy: 0.7543 - val_auroc: 0.8305\n",
            "Epoch 51/100\n",
            "48/48 [==============================] - 18s 379ms/step - loss: 0.5244 - accuracy: 0.7425 - auroc: 0.8159 - val_loss: 0.5084 - val_accuracy: 0.7529 - val_auroc: 0.8299\n",
            "Epoch 52/100\n",
            "48/48 [==============================] - ETA: 0s - loss: 0.5235 - accuracy: 0.7427 - auroc: 0.8169"
          ]
        },
        {
          "metadata": {
            "tags": null
          },
          "name": "stderr",
          "output_type": "stream",
          "text": [
            "WARNING:absl:Found untraced functions such as dense_3_layer_call_fn, dense_3_layer_call_and_return_conditional_losses, embedding_layer_call_fn, embedding_layer_call_and_return_conditional_losses, query_layer_call_fn while saving (showing 5 of 52). These functions will not be directly callable after loading.\n"
          ]
        },
        {
          "metadata": {
            "tags": null
          },
          "name": "stdout",
          "output_type": "stream",
          "text": [
            "INFO:tensorflow:Assets written to: models/task1_tf_vit_model.ckpt/assets\n"
          ]
        },
        {
          "metadata": {
            "tags": null
          },
          "name": "stderr",
          "output_type": "stream",
          "text": [
            "INFO:tensorflow:Assets written to: models/task1_tf_vit_model.ckpt/assets\n"
          ]
        },
        {
          "metadata": {
            "tags": null
          },
          "name": "stdout",
          "output_type": "stream",
          "text": [
            "48/48 [==============================] - 26s 542ms/step - loss: 0.5235 - accuracy: 0.7427 - auroc: 0.8169 - val_loss: 0.5077 - val_accuracy: 0.7535 - val_auroc: 0.8312\n",
            "Epoch 53/100\n",
            "48/48 [==============================] - ETA: 0s - loss: 0.5229 - accuracy: 0.7427 - auroc: 0.8175"
          ]
        },
        {
          "metadata": {
            "tags": null
          },
          "name": "stderr",
          "output_type": "stream",
          "text": [
            "WARNING:absl:Found untraced functions such as dense_3_layer_call_fn, dense_3_layer_call_and_return_conditional_losses, embedding_layer_call_fn, embedding_layer_call_and_return_conditional_losses, query_layer_call_fn while saving (showing 5 of 52). These functions will not be directly callable after loading.\n"
          ]
        },
        {
          "metadata": {
            "tags": null
          },
          "name": "stdout",
          "output_type": "stream",
          "text": [
            "INFO:tensorflow:Assets written to: models/task1_tf_vit_model.ckpt/assets\n"
          ]
        },
        {
          "metadata": {
            "tags": null
          },
          "name": "stderr",
          "output_type": "stream",
          "text": [
            "INFO:tensorflow:Assets written to: models/task1_tf_vit_model.ckpt/assets\n"
          ]
        },
        {
          "metadata": {
            "tags": null
          },
          "name": "stdout",
          "output_type": "stream",
          "text": [
            "48/48 [==============================] - 25s 535ms/step - loss: 0.5229 - accuracy: 0.7427 - auroc: 0.8175 - val_loss: 0.5017 - val_accuracy: 0.7577 - val_auroc: 0.8335\n",
            "Epoch 54/100\n",
            "48/48 [==============================] - ETA: 0s - loss: 0.5196 - accuracy: 0.7456 - auroc: 0.8200"
          ]
        },
        {
          "metadata": {
            "tags": null
          },
          "name": "stderr",
          "output_type": "stream",
          "text": [
            "WARNING:absl:Found untraced functions such as dense_3_layer_call_fn, dense_3_layer_call_and_return_conditional_losses, embedding_layer_call_fn, embedding_layer_call_and_return_conditional_losses, query_layer_call_fn while saving (showing 5 of 52). These functions will not be directly callable after loading.\n"
          ]
        },
        {
          "metadata": {
            "tags": null
          },
          "name": "stdout",
          "output_type": "stream",
          "text": [
            "INFO:tensorflow:Assets written to: models/task1_tf_vit_model.ckpt/assets\n"
          ]
        },
        {
          "metadata": {
            "tags": null
          },
          "name": "stderr",
          "output_type": "stream",
          "text": [
            "INFO:tensorflow:Assets written to: models/task1_tf_vit_model.ckpt/assets\n"
          ]
        },
        {
          "metadata": {
            "tags": null
          },
          "name": "stdout",
          "output_type": "stream",
          "text": [
            "48/48 [==============================] - 26s 539ms/step - loss: 0.5196 - accuracy: 0.7456 - auroc: 0.8200 - val_loss: 0.5019 - val_accuracy: 0.7570 - val_auroc: 0.8360\n",
            "Epoch 55/100\n",
            "48/48 [==============================] - 18s 379ms/step - loss: 0.5190 - accuracy: 0.7460 - auroc: 0.8202 - val_loss: 0.5010 - val_accuracy: 0.7577 - val_auroc: 0.8355\n",
            "Epoch 56/100\n",
            "48/48 [==============================] - ETA: 0s - loss: 0.5182 - accuracy: 0.7463 - auroc: 0.8213"
          ]
        },
        {
          "metadata": {
            "tags": null
          },
          "name": "stderr",
          "output_type": "stream",
          "text": [
            "WARNING:absl:Found untraced functions such as dense_3_layer_call_fn, dense_3_layer_call_and_return_conditional_losses, embedding_layer_call_fn, embedding_layer_call_and_return_conditional_losses, query_layer_call_fn while saving (showing 5 of 52). These functions will not be directly callable after loading.\n"
          ]
        },
        {
          "metadata": {
            "tags": null
          },
          "name": "stdout",
          "output_type": "stream",
          "text": [
            "INFO:tensorflow:Assets written to: models/task1_tf_vit_model.ckpt/assets\n"
          ]
        },
        {
          "metadata": {
            "tags": null
          },
          "name": "stderr",
          "output_type": "stream",
          "text": [
            "INFO:tensorflow:Assets written to: models/task1_tf_vit_model.ckpt/assets\n"
          ]
        },
        {
          "metadata": {
            "tags": null
          },
          "name": "stdout",
          "output_type": "stream",
          "text": [
            "48/48 [==============================] - 26s 542ms/step - loss: 0.5182 - accuracy: 0.7463 - auroc: 0.8213 - val_loss: 0.4976 - val_accuracy: 0.7596 - val_auroc: 0.8392\n",
            "Epoch 57/100\n",
            "48/48 [==============================] - ETA: 0s - loss: 0.5159 - accuracy: 0.7481 - auroc: 0.8231"
          ]
        },
        {
          "metadata": {
            "tags": null
          },
          "name": "stderr",
          "output_type": "stream",
          "text": [
            "WARNING:absl:Found untraced functions such as dense_3_layer_call_fn, dense_3_layer_call_and_return_conditional_losses, embedding_layer_call_fn, embedding_layer_call_and_return_conditional_losses, query_layer_call_fn while saving (showing 5 of 52). These functions will not be directly callable after loading.\n"
          ]
        },
        {
          "metadata": {
            "tags": null
          },
          "name": "stdout",
          "output_type": "stream",
          "text": [
            "INFO:tensorflow:Assets written to: models/task1_tf_vit_model.ckpt/assets\n"
          ]
        },
        {
          "metadata": {
            "tags": null
          },
          "name": "stderr",
          "output_type": "stream",
          "text": [
            "INFO:tensorflow:Assets written to: models/task1_tf_vit_model.ckpt/assets\n"
          ]
        },
        {
          "metadata": {
            "tags": null
          },
          "name": "stdout",
          "output_type": "stream",
          "text": [
            "48/48 [==============================] - 25s 534ms/step - loss: 0.5159 - accuracy: 0.7481 - auroc: 0.8231 - val_loss: 0.4947 - val_accuracy: 0.7616 - val_auroc: 0.8398\n",
            "Epoch 58/100\n",
            "48/48 [==============================] - ETA: 0s - loss: 0.5149 - accuracy: 0.7481 - auroc: 0.8236"
          ]
        },
        {
          "metadata": {
            "tags": null
          },
          "name": "stderr",
          "output_type": "stream",
          "text": [
            "WARNING:absl:Found untraced functions such as dense_3_layer_call_fn, dense_3_layer_call_and_return_conditional_losses, embedding_layer_call_fn, embedding_layer_call_and_return_conditional_losses, query_layer_call_fn while saving (showing 5 of 52). These functions will not be directly callable after loading.\n"
          ]
        },
        {
          "metadata": {
            "tags": null
          },
          "name": "stdout",
          "output_type": "stream",
          "text": [
            "INFO:tensorflow:Assets written to: models/task1_tf_vit_model.ckpt/assets\n"
          ]
        },
        {
          "metadata": {
            "tags": null
          },
          "name": "stderr",
          "output_type": "stream",
          "text": [
            "INFO:tensorflow:Assets written to: models/task1_tf_vit_model.ckpt/assets\n"
          ]
        },
        {
          "metadata": {
            "tags": null
          },
          "name": "stdout",
          "output_type": "stream",
          "text": [
            "48/48 [==============================] - 26s 542ms/step - loss: 0.5149 - accuracy: 0.7481 - auroc: 0.8236 - val_loss: 0.4920 - val_accuracy: 0.7634 - val_auroc: 0.8411\n",
            "Epoch 59/100\n",
            "48/48 [==============================] - ETA: 0s - loss: 0.5130 - accuracy: 0.7499 - auroc: 0.8249"
          ]
        },
        {
          "metadata": {
            "tags": null
          },
          "name": "stderr",
          "output_type": "stream",
          "text": [
            "WARNING:absl:Found untraced functions such as dense_3_layer_call_fn, dense_3_layer_call_and_return_conditional_losses, embedding_layer_call_fn, embedding_layer_call_and_return_conditional_losses, query_layer_call_fn while saving (showing 5 of 52). These functions will not be directly callable after loading.\n"
          ]
        },
        {
          "metadata": {
            "tags": null
          },
          "name": "stdout",
          "output_type": "stream",
          "text": [
            "INFO:tensorflow:Assets written to: models/task1_tf_vit_model.ckpt/assets\n"
          ]
        },
        {
          "metadata": {
            "tags": null
          },
          "name": "stderr",
          "output_type": "stream",
          "text": [
            "INFO:tensorflow:Assets written to: models/task1_tf_vit_model.ckpt/assets\n"
          ]
        },
        {
          "metadata": {
            "tags": null
          },
          "name": "stdout",
          "output_type": "stream",
          "text": [
            "48/48 [==============================] - 26s 536ms/step - loss: 0.5130 - accuracy: 0.7499 - auroc: 0.8249 - val_loss: 0.4899 - val_accuracy: 0.7644 - val_auroc: 0.8428\n",
            "Epoch 60/100\n",
            "48/48 [==============================] - ETA: 0s - loss: 0.5125 - accuracy: 0.7499 - auroc: 0.8255"
          ]
        },
        {
          "metadata": {
            "tags": null
          },
          "name": "stderr",
          "output_type": "stream",
          "text": [
            "WARNING:absl:Found untraced functions such as dense_3_layer_call_fn, dense_3_layer_call_and_return_conditional_losses, embedding_layer_call_fn, embedding_layer_call_and_return_conditional_losses, query_layer_call_fn while saving (showing 5 of 52). These functions will not be directly callable after loading.\n"
          ]
        },
        {
          "metadata": {
            "tags": null
          },
          "name": "stdout",
          "output_type": "stream",
          "text": [
            "INFO:tensorflow:Assets written to: models/task1_tf_vit_model.ckpt/assets\n"
          ]
        },
        {
          "metadata": {
            "tags": null
          },
          "name": "stderr",
          "output_type": "stream",
          "text": [
            "INFO:tensorflow:Assets written to: models/task1_tf_vit_model.ckpt/assets\n"
          ]
        },
        {
          "metadata": {
            "tags": null
          },
          "name": "stdout",
          "output_type": "stream",
          "text": [
            "48/48 [==============================] - 26s 535ms/step - loss: 0.5125 - accuracy: 0.7499 - auroc: 0.8255 - val_loss: 0.4872 - val_accuracy: 0.7670 - val_auroc: 0.8452\n",
            "Epoch 61/100\n",
            "48/48 [==============================] - 18s 379ms/step - loss: 0.5113 - accuracy: 0.7508 - auroc: 0.8264 - val_loss: 0.4873 - val_accuracy: 0.7662 - val_auroc: 0.8444\n",
            "Epoch 62/100\n",
            "48/48 [==============================] - 18s 380ms/step - loss: 0.5098 - accuracy: 0.7511 - auroc: 0.8274 - val_loss: 0.4892 - val_accuracy: 0.7647 - val_auroc: 0.8438\n",
            "Epoch 63/100\n",
            "48/48 [==============================] - 18s 378ms/step - loss: 0.5084 - accuracy: 0.7527 - auroc: 0.8287 - val_loss: 0.4887 - val_accuracy: 0.7648 - val_auroc: 0.8446\n",
            "Epoch 64/100\n",
            "48/48 [==============================] - ETA: 0s - loss: 0.5087 - accuracy: 0.7519 - auroc: 0.8290"
          ]
        },
        {
          "metadata": {
            "tags": null
          },
          "name": "stderr",
          "output_type": "stream",
          "text": [
            "WARNING:absl:Found untraced functions such as dense_3_layer_call_fn, dense_3_layer_call_and_return_conditional_losses, embedding_layer_call_fn, embedding_layer_call_and_return_conditional_losses, query_layer_call_fn while saving (showing 5 of 52). These functions will not be directly callable after loading.\n"
          ]
        },
        {
          "metadata": {
            "tags": null
          },
          "name": "stdout",
          "output_type": "stream",
          "text": [
            "INFO:tensorflow:Assets written to: models/task1_tf_vit_model.ckpt/assets\n"
          ]
        },
        {
          "metadata": {
            "tags": null
          },
          "name": "stderr",
          "output_type": "stream",
          "text": [
            "INFO:tensorflow:Assets written to: models/task1_tf_vit_model.ckpt/assets\n"
          ]
        },
        {
          "metadata": {
            "tags": null
          },
          "name": "stdout",
          "output_type": "stream",
          "text": [
            "48/48 [==============================] - 25s 536ms/step - loss: 0.5087 - accuracy: 0.7519 - auroc: 0.8290 - val_loss: 0.4810 - val_accuracy: 0.7712 - val_auroc: 0.8500\n",
            "Epoch 65/100\n",
            "48/48 [==============================] - 18s 376ms/step - loss: 0.5062 - accuracy: 0.7542 - auroc: 0.8302 - val_loss: 0.4845 - val_accuracy: 0.7685 - val_auroc: 0.8475\n",
            "Epoch 66/100\n",
            "48/48 [==============================] - ETA: 0s - loss: 0.5057 - accuracy: 0.7539 - auroc: 0.8310"
          ]
        },
        {
          "metadata": {
            "tags": null
          },
          "name": "stderr",
          "output_type": "stream",
          "text": [
            "WARNING:absl:Found untraced functions such as dense_3_layer_call_fn, dense_3_layer_call_and_return_conditional_losses, embedding_layer_call_fn, embedding_layer_call_and_return_conditional_losses, query_layer_call_fn while saving (showing 5 of 52). These functions will not be directly callable after loading.\n"
          ]
        },
        {
          "metadata": {
            "tags": null
          },
          "name": "stdout",
          "output_type": "stream",
          "text": [
            "INFO:tensorflow:Assets written to: models/task1_tf_vit_model.ckpt/assets\n"
          ]
        },
        {
          "metadata": {
            "tags": null
          },
          "name": "stderr",
          "output_type": "stream",
          "text": [
            "INFO:tensorflow:Assets written to: models/task1_tf_vit_model.ckpt/assets\n"
          ]
        },
        {
          "metadata": {
            "tags": null
          },
          "name": "stdout",
          "output_type": "stream",
          "text": [
            "48/48 [==============================] - 26s 540ms/step - loss: 0.5057 - accuracy: 0.7539 - auroc: 0.8310 - val_loss: 0.4770 - val_accuracy: 0.7721 - val_auroc: 0.8516\n",
            "Epoch 67/100\n",
            "48/48 [==============================] - ETA: 0s - loss: 0.5021 - accuracy: 0.7569 - auroc: 0.8332"
          ]
        },
        {
          "metadata": {
            "tags": null
          },
          "name": "stderr",
          "output_type": "stream",
          "text": [
            "WARNING:absl:Found untraced functions such as dense_3_layer_call_fn, dense_3_layer_call_and_return_conditional_losses, embedding_layer_call_fn, embedding_layer_call_and_return_conditional_losses, query_layer_call_fn while saving (showing 5 of 52). These functions will not be directly callable after loading.\n"
          ]
        },
        {
          "metadata": {
            "tags": null
          },
          "name": "stdout",
          "output_type": "stream",
          "text": [
            "INFO:tensorflow:Assets written to: models/task1_tf_vit_model.ckpt/assets\n"
          ]
        },
        {
          "metadata": {
            "tags": null
          },
          "name": "stderr",
          "output_type": "stream",
          "text": [
            "INFO:tensorflow:Assets written to: models/task1_tf_vit_model.ckpt/assets\n"
          ]
        },
        {
          "metadata": {
            "tags": null
          },
          "name": "stdout",
          "output_type": "stream",
          "text": [
            "48/48 [==============================] - 26s 537ms/step - loss: 0.5021 - accuracy: 0.7569 - auroc: 0.8332 - val_loss: 0.4747 - val_accuracy: 0.7741 - val_auroc: 0.8536\n",
            "Epoch 68/100\n",
            "48/48 [==============================] - ETA: 0s - loss: 0.5022 - accuracy: 0.7565 - auroc: 0.8335"
          ]
        },
        {
          "metadata": {
            "tags": null
          },
          "name": "stderr",
          "output_type": "stream",
          "text": [
            "WARNING:absl:Found untraced functions such as dense_3_layer_call_fn, dense_3_layer_call_and_return_conditional_losses, embedding_layer_call_fn, embedding_layer_call_and_return_conditional_losses, query_layer_call_fn while saving (showing 5 of 52). These functions will not be directly callable after loading.\n"
          ]
        },
        {
          "metadata": {
            "tags": null
          },
          "name": "stdout",
          "output_type": "stream",
          "text": [
            "INFO:tensorflow:Assets written to: models/task1_tf_vit_model.ckpt/assets\n"
          ]
        },
        {
          "metadata": {
            "tags": null
          },
          "name": "stderr",
          "output_type": "stream",
          "text": [
            "INFO:tensorflow:Assets written to: models/task1_tf_vit_model.ckpt/assets\n"
          ]
        },
        {
          "metadata": {
            "tags": null
          },
          "name": "stdout",
          "output_type": "stream",
          "text": [
            "48/48 [==============================] - 26s 538ms/step - loss: 0.5022 - accuracy: 0.7565 - auroc: 0.8335 - val_loss: 0.4730 - val_accuracy: 0.7760 - val_auroc: 0.8555\n",
            "Epoch 69/100\n",
            "48/48 [==============================] - ETA: 0s - loss: 0.5006 - accuracy: 0.7574 - auroc: 0.8347"
          ]
        },
        {
          "metadata": {
            "tags": null
          },
          "name": "stderr",
          "output_type": "stream",
          "text": [
            "WARNING:absl:Found untraced functions such as dense_3_layer_call_fn, dense_3_layer_call_and_return_conditional_losses, embedding_layer_call_fn, embedding_layer_call_and_return_conditional_losses, query_layer_call_fn while saving (showing 5 of 52). These functions will not be directly callable after loading.\n"
          ]
        },
        {
          "metadata": {
            "tags": null
          },
          "name": "stdout",
          "output_type": "stream",
          "text": [
            "INFO:tensorflow:Assets written to: models/task1_tf_vit_model.ckpt/assets\n"
          ]
        },
        {
          "metadata": {
            "tags": null
          },
          "name": "stderr",
          "output_type": "stream",
          "text": [
            "INFO:tensorflow:Assets written to: models/task1_tf_vit_model.ckpt/assets\n"
          ]
        },
        {
          "metadata": {
            "tags": null
          },
          "name": "stdout",
          "output_type": "stream",
          "text": [
            "48/48 [==============================] - 26s 542ms/step - loss: 0.5006 - accuracy: 0.7574 - auroc: 0.8347 - val_loss: 0.4713 - val_accuracy: 0.7761 - val_auroc: 0.8559\n",
            "Epoch 70/100\n",
            "48/48 [==============================] - ETA: 0s - loss: 0.4987 - accuracy: 0.7586 - auroc: 0.8361"
          ]
        },
        {
          "metadata": {
            "tags": null
          },
          "name": "stderr",
          "output_type": "stream",
          "text": [
            "WARNING:absl:Found untraced functions such as dense_3_layer_call_fn, dense_3_layer_call_and_return_conditional_losses, embedding_layer_call_fn, embedding_layer_call_and_return_conditional_losses, query_layer_call_fn while saving (showing 5 of 52). These functions will not be directly callable after loading.\n"
          ]
        },
        {
          "metadata": {
            "tags": null
          },
          "name": "stdout",
          "output_type": "stream",
          "text": [
            "INFO:tensorflow:Assets written to: models/task1_tf_vit_model.ckpt/assets\n"
          ]
        },
        {
          "metadata": {
            "tags": null
          },
          "name": "stderr",
          "output_type": "stream",
          "text": [
            "INFO:tensorflow:Assets written to: models/task1_tf_vit_model.ckpt/assets\n"
          ]
        },
        {
          "metadata": {
            "tags": null
          },
          "name": "stdout",
          "output_type": "stream",
          "text": [
            "48/48 [==============================] - 26s 538ms/step - loss: 0.4987 - accuracy: 0.7586 - auroc: 0.8361 - val_loss: 0.4716 - val_accuracy: 0.7775 - val_auroc: 0.8571\n",
            "Epoch 71/100\n",
            "48/48 [==============================] - ETA: 0s - loss: 0.4976 - accuracy: 0.7592 - auroc: 0.8367"
          ]
        },
        {
          "metadata": {
            "tags": null
          },
          "name": "stderr",
          "output_type": "stream",
          "text": [
            "WARNING:absl:Found untraced functions such as dense_3_layer_call_fn, dense_3_layer_call_and_return_conditional_losses, embedding_layer_call_fn, embedding_layer_call_and_return_conditional_losses, query_layer_call_fn while saving (showing 5 of 52). These functions will not be directly callable after loading.\n"
          ]
        },
        {
          "metadata": {
            "tags": null
          },
          "name": "stdout",
          "output_type": "stream",
          "text": [
            "INFO:tensorflow:Assets written to: models/task1_tf_vit_model.ckpt/assets\n"
          ]
        },
        {
          "metadata": {
            "tags": null
          },
          "name": "stderr",
          "output_type": "stream",
          "text": [
            "INFO:tensorflow:Assets written to: models/task1_tf_vit_model.ckpt/assets\n"
          ]
        },
        {
          "metadata": {
            "tags": null
          },
          "name": "stdout",
          "output_type": "stream",
          "text": [
            "48/48 [==============================] - 26s 540ms/step - loss: 0.4976 - accuracy: 0.7592 - auroc: 0.8367 - val_loss: 0.4671 - val_accuracy: 0.7789 - val_auroc: 0.8593\n",
            "Epoch 72/100\n",
            "48/48 [==============================] - ETA: 0s - loss: 0.4967 - accuracy: 0.7600 - auroc: 0.8374"
          ]
        },
        {
          "metadata": {
            "tags": null
          },
          "name": "stderr",
          "output_type": "stream",
          "text": [
            "WARNING:absl:Found untraced functions such as dense_3_layer_call_fn, dense_3_layer_call_and_return_conditional_losses, embedding_layer_call_fn, embedding_layer_call_and_return_conditional_losses, query_layer_call_fn while saving (showing 5 of 52). These functions will not be directly callable after loading.\n"
          ]
        },
        {
          "metadata": {
            "tags": null
          },
          "name": "stdout",
          "output_type": "stream",
          "text": [
            "INFO:tensorflow:Assets written to: models/task1_tf_vit_model.ckpt/assets\n"
          ]
        },
        {
          "metadata": {
            "tags": null
          },
          "name": "stderr",
          "output_type": "stream",
          "text": [
            "INFO:tensorflow:Assets written to: models/task1_tf_vit_model.ckpt/assets\n"
          ]
        },
        {
          "metadata": {
            "tags": null
          },
          "name": "stdout",
          "output_type": "stream",
          "text": [
            "48/48 [==============================] - 26s 539ms/step - loss: 0.4967 - accuracy: 0.7600 - auroc: 0.8374 - val_loss: 0.4649 - val_accuracy: 0.7799 - val_auroc: 0.8600\n",
            "Epoch 73/100\n",
            "48/48 [==============================] - ETA: 0s - loss: 0.4949 - accuracy: 0.7615 - auroc: 0.8388"
          ]
        },
        {
          "metadata": {
            "tags": null
          },
          "name": "stderr",
          "output_type": "stream",
          "text": [
            "WARNING:absl:Found untraced functions such as dense_3_layer_call_fn, dense_3_layer_call_and_return_conditional_losses, embedding_layer_call_fn, embedding_layer_call_and_return_conditional_losses, query_layer_call_fn while saving (showing 5 of 52). These functions will not be directly callable after loading.\n"
          ]
        },
        {
          "metadata": {
            "tags": null
          },
          "name": "stdout",
          "output_type": "stream",
          "text": [
            "INFO:tensorflow:Assets written to: models/task1_tf_vit_model.ckpt/assets\n"
          ]
        },
        {
          "metadata": {
            "tags": null
          },
          "name": "stderr",
          "output_type": "stream",
          "text": [
            "INFO:tensorflow:Assets written to: models/task1_tf_vit_model.ckpt/assets\n"
          ]
        },
        {
          "metadata": {
            "tags": null
          },
          "name": "stdout",
          "output_type": "stream",
          "text": [
            "48/48 [==============================] - 26s 540ms/step - loss: 0.4949 - accuracy: 0.7615 - auroc: 0.8388 - val_loss: 0.4639 - val_accuracy: 0.7803 - val_auroc: 0.8607\n",
            "Epoch 74/100\n",
            "48/48 [==============================] - ETA: 0s - loss: 0.4938 - accuracy: 0.7612 - auroc: 0.8396"
          ]
        },
        {
          "metadata": {
            "tags": null
          },
          "name": "stderr",
          "output_type": "stream",
          "text": [
            "WARNING:absl:Found untraced functions such as dense_3_layer_call_fn, dense_3_layer_call_and_return_conditional_losses, embedding_layer_call_fn, embedding_layer_call_and_return_conditional_losses, query_layer_call_fn while saving (showing 5 of 52). These functions will not be directly callable after loading.\n"
          ]
        },
        {
          "metadata": {
            "tags": null
          },
          "name": "stdout",
          "output_type": "stream",
          "text": [
            "INFO:tensorflow:Assets written to: models/task1_tf_vit_model.ckpt/assets\n"
          ]
        },
        {
          "metadata": {
            "tags": null
          },
          "name": "stderr",
          "output_type": "stream",
          "text": [
            "INFO:tensorflow:Assets written to: models/task1_tf_vit_model.ckpt/assets\n"
          ]
        },
        {
          "metadata": {
            "tags": null
          },
          "name": "stdout",
          "output_type": "stream",
          "text": [
            "48/48 [==============================] - 26s 539ms/step - loss: 0.4938 - accuracy: 0.7612 - auroc: 0.8396 - val_loss: 0.4620 - val_accuracy: 0.7828 - val_auroc: 0.8633\n",
            "Epoch 75/100\n",
            "48/48 [==============================] - 18s 379ms/step - loss: 0.4921 - accuracy: 0.7626 - auroc: 0.8406 - val_loss: 0.4610 - val_accuracy: 0.7820 - val_auroc: 0.8631\n",
            "Epoch 76/100\n",
            "48/48 [==============================] - ETA: 0s - loss: 0.4907 - accuracy: 0.7633 - auroc: 0.8419"
          ]
        },
        {
          "metadata": {
            "tags": null
          },
          "name": "stderr",
          "output_type": "stream",
          "text": [
            "WARNING:absl:Found untraced functions such as dense_3_layer_call_fn, dense_3_layer_call_and_return_conditional_losses, embedding_layer_call_fn, embedding_layer_call_and_return_conditional_losses, query_layer_call_fn while saving (showing 5 of 52). These functions will not be directly callable after loading.\n"
          ]
        },
        {
          "metadata": {
            "tags": null
          },
          "name": "stdout",
          "output_type": "stream",
          "text": [
            "INFO:tensorflow:Assets written to: models/task1_tf_vit_model.ckpt/assets\n"
          ]
        },
        {
          "metadata": {
            "tags": null
          },
          "name": "stderr",
          "output_type": "stream",
          "text": [
            "INFO:tensorflow:Assets written to: models/task1_tf_vit_model.ckpt/assets\n"
          ]
        },
        {
          "metadata": {
            "tags": null
          },
          "name": "stdout",
          "output_type": "stream",
          "text": [
            "48/48 [==============================] - 26s 537ms/step - loss: 0.4907 - accuracy: 0.7633 - auroc: 0.8419 - val_loss: 0.4586 - val_accuracy: 0.7832 - val_auroc: 0.8647\n",
            "Epoch 77/100\n",
            "48/48 [==============================] - ETA: 0s - loss: 0.4900 - accuracy: 0.7644 - auroc: 0.8424"
          ]
        },
        {
          "metadata": {
            "tags": null
          },
          "name": "stderr",
          "output_type": "stream",
          "text": [
            "WARNING:absl:Found untraced functions such as dense_3_layer_call_fn, dense_3_layer_call_and_return_conditional_losses, embedding_layer_call_fn, embedding_layer_call_and_return_conditional_losses, query_layer_call_fn while saving (showing 5 of 52). These functions will not be directly callable after loading.\n"
          ]
        },
        {
          "metadata": {
            "tags": null
          },
          "name": "stdout",
          "output_type": "stream",
          "text": [
            "INFO:tensorflow:Assets written to: models/task1_tf_vit_model.ckpt/assets\n"
          ]
        },
        {
          "metadata": {
            "tags": null
          },
          "name": "stderr",
          "output_type": "stream",
          "text": [
            "INFO:tensorflow:Assets written to: models/task1_tf_vit_model.ckpt/assets\n"
          ]
        },
        {
          "metadata": {
            "tags": null
          },
          "name": "stdout",
          "output_type": "stream",
          "text": [
            "48/48 [==============================] - 26s 536ms/step - loss: 0.4900 - accuracy: 0.7644 - auroc: 0.8424 - val_loss: 0.4581 - val_accuracy: 0.7840 - val_auroc: 0.8649\n",
            "Epoch 78/100\n",
            "48/48 [==============================] - ETA: 0s - loss: 0.4900 - accuracy: 0.7640 - auroc: 0.8427"
          ]
        },
        {
          "metadata": {
            "tags": null
          },
          "name": "stderr",
          "output_type": "stream",
          "text": [
            "WARNING:absl:Found untraced functions such as dense_3_layer_call_fn, dense_3_layer_call_and_return_conditional_losses, embedding_layer_call_fn, embedding_layer_call_and_return_conditional_losses, query_layer_call_fn while saving (showing 5 of 52). These functions will not be directly callable after loading.\n"
          ]
        },
        {
          "metadata": {
            "tags": null
          },
          "name": "stdout",
          "output_type": "stream",
          "text": [
            "INFO:tensorflow:Assets written to: models/task1_tf_vit_model.ckpt/assets\n"
          ]
        },
        {
          "metadata": {
            "tags": null
          },
          "name": "stderr",
          "output_type": "stream",
          "text": [
            "INFO:tensorflow:Assets written to: models/task1_tf_vit_model.ckpt/assets\n"
          ]
        },
        {
          "metadata": {
            "tags": null
          },
          "name": "stdout",
          "output_type": "stream",
          "text": [
            "48/48 [==============================] - 26s 542ms/step - loss: 0.4900 - accuracy: 0.7640 - auroc: 0.8427 - val_loss: 0.4581 - val_accuracy: 0.7848 - val_auroc: 0.8675\n",
            "Epoch 79/100\n",
            "48/48 [==============================] - ETA: 0s - loss: 0.4878 - accuracy: 0.7651 - auroc: 0.8445"
          ]
        },
        {
          "metadata": {
            "tags": null
          },
          "name": "stderr",
          "output_type": "stream",
          "text": [
            "WARNING:absl:Found untraced functions such as dense_3_layer_call_fn, dense_3_layer_call_and_return_conditional_losses, embedding_layer_call_fn, embedding_layer_call_and_return_conditional_losses, query_layer_call_fn while saving (showing 5 of 52). These functions will not be directly callable after loading.\n"
          ]
        },
        {
          "metadata": {
            "tags": null
          },
          "name": "stdout",
          "output_type": "stream",
          "text": [
            "INFO:tensorflow:Assets written to: models/task1_tf_vit_model.ckpt/assets\n"
          ]
        },
        {
          "metadata": {
            "tags": null
          },
          "name": "stderr",
          "output_type": "stream",
          "text": [
            "INFO:tensorflow:Assets written to: models/task1_tf_vit_model.ckpt/assets\n"
          ]
        },
        {
          "metadata": {
            "tags": null
          },
          "name": "stdout",
          "output_type": "stream",
          "text": [
            "48/48 [==============================] - 26s 538ms/step - loss: 0.4878 - accuracy: 0.7651 - auroc: 0.8445 - val_loss: 0.4499 - val_accuracy: 0.7888 - val_auroc: 0.8703\n",
            "Epoch 80/100\n",
            "48/48 [==============================] - ETA: 0s - loss: 0.4858 - accuracy: 0.7660 - auroc: 0.8454"
          ]
        },
        {
          "metadata": {
            "tags": null
          },
          "name": "stderr",
          "output_type": "stream",
          "text": [
            "WARNING:absl:Found untraced functions such as dense_3_layer_call_fn, dense_3_layer_call_and_return_conditional_losses, embedding_layer_call_fn, embedding_layer_call_and_return_conditional_losses, query_layer_call_fn while saving (showing 5 of 52). These functions will not be directly callable after loading.\n"
          ]
        },
        {
          "metadata": {
            "tags": null
          },
          "name": "stdout",
          "output_type": "stream",
          "text": [
            "INFO:tensorflow:Assets written to: models/task1_tf_vit_model.ckpt/assets\n"
          ]
        },
        {
          "metadata": {
            "tags": null
          },
          "name": "stderr",
          "output_type": "stream",
          "text": [
            "INFO:tensorflow:Assets written to: models/task1_tf_vit_model.ckpt/assets\n"
          ]
        },
        {
          "metadata": {
            "tags": null
          },
          "name": "stdout",
          "output_type": "stream",
          "text": [
            "48/48 [==============================] - 26s 536ms/step - loss: 0.4858 - accuracy: 0.7660 - auroc: 0.8454 - val_loss: 0.4509 - val_accuracy: 0.7890 - val_auroc: 0.8707\n",
            "Epoch 81/100\n",
            "48/48 [==============================] - 18s 380ms/step - loss: 0.4849 - accuracy: 0.7672 - auroc: 0.8463 - val_loss: 0.4521 - val_accuracy: 0.7866 - val_auroc: 0.8687\n",
            "Epoch 82/100\n",
            "48/48 [==============================] - ETA: 0s - loss: 0.4841 - accuracy: 0.7671 - auroc: 0.8467"
          ]
        },
        {
          "metadata": {
            "tags": null
          },
          "name": "stderr",
          "output_type": "stream",
          "text": [
            "WARNING:absl:Found untraced functions such as dense_3_layer_call_fn, dense_3_layer_call_and_return_conditional_losses, embedding_layer_call_fn, embedding_layer_call_and_return_conditional_losses, query_layer_call_fn while saving (showing 5 of 52). These functions will not be directly callable after loading.\n"
          ]
        },
        {
          "metadata": {
            "tags": null
          },
          "name": "stdout",
          "output_type": "stream",
          "text": [
            "INFO:tensorflow:Assets written to: models/task1_tf_vit_model.ckpt/assets\n"
          ]
        },
        {
          "metadata": {
            "tags": null
          },
          "name": "stderr",
          "output_type": "stream",
          "text": [
            "INFO:tensorflow:Assets written to: models/task1_tf_vit_model.ckpt/assets\n"
          ]
        },
        {
          "metadata": {
            "tags": null
          },
          "name": "stdout",
          "output_type": "stream",
          "text": [
            "48/48 [==============================] - 26s 540ms/step - loss: 0.4841 - accuracy: 0.7671 - auroc: 0.8467 - val_loss: 0.4463 - val_accuracy: 0.7907 - val_auroc: 0.8726\n",
            "Epoch 83/100\n",
            "48/48 [==============================] - ETA: 0s - loss: 0.4834 - accuracy: 0.7678 - auroc: 0.8471"
          ]
        },
        {
          "metadata": {
            "tags": null
          },
          "name": "stderr",
          "output_type": "stream",
          "text": [
            "WARNING:absl:Found untraced functions such as dense_3_layer_call_fn, dense_3_layer_call_and_return_conditional_losses, embedding_layer_call_fn, embedding_layer_call_and_return_conditional_losses, query_layer_call_fn while saving (showing 5 of 52). These functions will not be directly callable after loading.\n"
          ]
        },
        {
          "metadata": {
            "tags": null
          },
          "name": "stdout",
          "output_type": "stream",
          "text": [
            "INFO:tensorflow:Assets written to: models/task1_tf_vit_model.ckpt/assets\n"
          ]
        },
        {
          "metadata": {
            "tags": null
          },
          "name": "stderr",
          "output_type": "stream",
          "text": [
            "INFO:tensorflow:Assets written to: models/task1_tf_vit_model.ckpt/assets\n"
          ]
        },
        {
          "metadata": {
            "tags": null
          },
          "name": "stdout",
          "output_type": "stream",
          "text": [
            "48/48 [==============================] - 26s 535ms/step - loss: 0.4834 - accuracy: 0.7678 - auroc: 0.8471 - val_loss: 0.4429 - val_accuracy: 0.7922 - val_auroc: 0.8741\n",
            "Epoch 84/100\n",
            "48/48 [==============================] - ETA: 0s - loss: 0.4805 - accuracy: 0.7700 - auroc: 0.8491"
          ]
        },
        {
          "metadata": {
            "tags": null
          },
          "name": "stderr",
          "output_type": "stream",
          "text": [
            "WARNING:absl:Found untraced functions such as dense_3_layer_call_fn, dense_3_layer_call_and_return_conditional_losses, embedding_layer_call_fn, embedding_layer_call_and_return_conditional_losses, query_layer_call_fn while saving (showing 5 of 52). These functions will not be directly callable after loading.\n"
          ]
        },
        {
          "metadata": {
            "tags": null
          },
          "name": "stdout",
          "output_type": "stream",
          "text": [
            "INFO:tensorflow:Assets written to: models/task1_tf_vit_model.ckpt/assets\n"
          ]
        },
        {
          "metadata": {
            "tags": null
          },
          "name": "stderr",
          "output_type": "stream",
          "text": [
            "INFO:tensorflow:Assets written to: models/task1_tf_vit_model.ckpt/assets\n"
          ]
        },
        {
          "metadata": {
            "tags": null
          },
          "name": "stdout",
          "output_type": "stream",
          "text": [
            "48/48 [==============================] - 26s 538ms/step - loss: 0.4805 - accuracy: 0.7700 - auroc: 0.8491 - val_loss: 0.4435 - val_accuracy: 0.7928 - val_auroc: 0.8748\n",
            "Epoch 85/100\n",
            "48/48 [==============================] - ETA: 0s - loss: 0.4800 - accuracy: 0.7697 - auroc: 0.8498"
          ]
        },
        {
          "output_type": "stream",
          "name": "stderr",
          "text": [
            "WARNING:absl:Found untraced functions such as dense_3_layer_call_fn, dense_3_layer_call_and_return_conditional_losses, embedding_layer_call_fn, embedding_layer_call_and_return_conditional_losses, query_layer_call_fn while saving (showing 5 of 52). These functions will not be directly callable after loading.\n"
          ]
        },
        {
          "output_type": "stream",
          "name": "stdout",
          "text": [
            "INFO:tensorflow:Assets written to: models/task1_tf_vit_model.ckpt/assets\n"
          ]
        },
        {
          "output_type": "stream",
          "name": "stderr",
          "text": [
            "INFO:tensorflow:Assets written to: models/task1_tf_vit_model.ckpt/assets\n"
          ]
        },
        {
          "output_type": "stream",
          "name": "stdout",
          "text": [
            "\b\b\b\b\b\b\b\b\b\b\b\b\b\b\b\b\b\b\b\b\b\b\b\b\b\b\b\b\b\b\b\b\b\b\b\b\b\b\b\b\b\b\b\b\b\b\b\b\b\b\b\b\b\b\b\b\b\b\b\b\b\b\b\b\b\b\b\b\b\b\b\b\b\b\b\b\b\b\b\b\b\b\b\b\b\b\b\b\b\b\b\b\b\b\b\b\b\b\r48/48 [==============================] - 26s 535ms/step - loss: 0.4800 - accuracy: 0.7697 - auroc: 0.8498 - val_loss: 0.4422 - val_accuracy: 0.7936 - val_auroc: 0.8756\n",
            "Epoch 86/100\n",
            "48/48 [==============================] - 18s 377ms/step - loss: 0.4798 - accuracy: 0.7696 - auroc: 0.8503 - val_loss: 0.4453 - val_accuracy: 0.7906 - val_auroc: 0.8737\n",
            "Epoch 87/100\n",
            "48/48 [==============================] - ETA: 0s - loss: 0.4762 - accuracy: 0.7720 - auroc: 0.8523"
          ]
        },
        {
          "output_type": "stream",
          "name": "stderr",
          "text": [
            "WARNING:absl:Found untraced functions such as dense_3_layer_call_fn, dense_3_layer_call_and_return_conditional_losses, embedding_layer_call_fn, embedding_layer_call_and_return_conditional_losses, query_layer_call_fn while saving (showing 5 of 52). These functions will not be directly callable after loading.\n"
          ]
        },
        {
          "output_type": "stream",
          "name": "stdout",
          "text": [
            "INFO:tensorflow:Assets written to: models/task1_tf_vit_model.ckpt/assets\n"
          ]
        },
        {
          "output_type": "stream",
          "name": "stderr",
          "text": [
            "INFO:tensorflow:Assets written to: models/task1_tf_vit_model.ckpt/assets\n"
          ]
        },
        {
          "output_type": "stream",
          "name": "stdout",
          "text": [
            "\b\b\b\b\b\b\b\b\b\b\b\b\b\b\b\b\b\b\b\b\b\b\b\b\b\b\b\b\b\b\b\b\b\b\b\b\b\b\b\b\b\b\b\b\b\b\b\b\b\b\b\b\b\b\b\b\b\b\b\b\b\b\b\b\b\b\b\b\b\b\b\b\b\b\b\b\b\b\b\b\b\b\b\b\b\b\b\b\b\b\b\b\b\b\b\b\b\b\r48/48 [==============================] - 26s 540ms/step - loss: 0.4762 - accuracy: 0.7720 - auroc: 0.8523 - val_loss: 0.4384 - val_accuracy: 0.7963 - val_auroc: 0.8788\n",
            "Epoch 88/100\n",
            "48/48 [==============================] - ETA: 0s - loss: 0.4751 - accuracy: 0.7734 - auroc: 0.8530"
          ]
        },
        {
          "output_type": "stream",
          "name": "stderr",
          "text": [
            "WARNING:absl:Found untraced functions such as dense_3_layer_call_fn, dense_3_layer_call_and_return_conditional_losses, embedding_layer_call_fn, embedding_layer_call_and_return_conditional_losses, query_layer_call_fn while saving (showing 5 of 52). These functions will not be directly callable after loading.\n"
          ]
        },
        {
          "output_type": "stream",
          "name": "stdout",
          "text": [
            "INFO:tensorflow:Assets written to: models/task1_tf_vit_model.ckpt/assets\n"
          ]
        },
        {
          "output_type": "stream",
          "name": "stderr",
          "text": [
            "INFO:tensorflow:Assets written to: models/task1_tf_vit_model.ckpt/assets\n"
          ]
        },
        {
          "output_type": "stream",
          "name": "stdout",
          "text": [
            "\b\b\b\b\b\b\b\b\b\b\b\b\b\b\b\b\b\b\b\b\b\b\b\b\b\b\b\b\b\b\b\b\b\b\b\b\b\b\b\b\b\b\b\b\b\b\b\b\b\b\b\b\b\b\b\b\b\b\b\b\b\b\b\b\b\b\b\b\b\b\b\b\b\b\b\b\b\b\b\b\b\b\b\b\b\b\b\b\b\b\b\b\b\b\b\b\b\b\r48/48 [==============================] - 25s 533ms/step - loss: 0.4751 - accuracy: 0.7734 - auroc: 0.8530 - val_loss: 0.4358 - val_accuracy: 0.7974 - val_auroc: 0.8798\n",
            "Epoch 89/100\n",
            "48/48 [==============================] - ETA: 0s - loss: 0.4738 - accuracy: 0.7734 - auroc: 0.8537"
          ]
        },
        {
          "output_type": "stream",
          "name": "stderr",
          "text": [
            "WARNING:absl:Found untraced functions such as dense_3_layer_call_fn, dense_3_layer_call_and_return_conditional_losses, embedding_layer_call_fn, embedding_layer_call_and_return_conditional_losses, query_layer_call_fn while saving (showing 5 of 52). These functions will not be directly callable after loading.\n"
          ]
        },
        {
          "output_type": "stream",
          "name": "stdout",
          "text": [
            "INFO:tensorflow:Assets written to: models/task1_tf_vit_model.ckpt/assets\n"
          ]
        },
        {
          "output_type": "stream",
          "name": "stderr",
          "text": [
            "INFO:tensorflow:Assets written to: models/task1_tf_vit_model.ckpt/assets\n"
          ]
        },
        {
          "output_type": "stream",
          "name": "stdout",
          "text": [
            "\b\b\b\b\b\b\b\b\b\b\b\b\b\b\b\b\b\b\b\b\b\b\b\b\b\b\b\b\b\b\b\b\b\b\b\b\b\b\b\b\b\b\b\b\b\b\b\b\b\b\b\b\b\b\b\b\b\b\b\b\b\b\b\b\b\b\b\b\b\b\b\b\b\b\b\b\b\b\b\b\b\b\b\b\b\b\b\b\b\b\b\b\b\b\b\b\b\b\r48/48 [==============================] - 26s 537ms/step - loss: 0.4738 - accuracy: 0.7734 - auroc: 0.8537 - val_loss: 0.4368 - val_accuracy: 0.7984 - val_auroc: 0.8798\n",
            "Epoch 90/100\n",
            "48/48 [==============================] - 18s 380ms/step - loss: 0.4739 - accuracy: 0.7730 - auroc: 0.8538 - val_loss: 0.4364 - val_accuracy: 0.7958 - val_auroc: 0.8789\n",
            "Epoch 91/100\n",
            "48/48 [==============================] - 18s 380ms/step - loss: 0.4722 - accuracy: 0.7748 - auroc: 0.8550 - val_loss: 0.4362 - val_accuracy: 0.7952 - val_auroc: 0.8790\n",
            "Epoch 92/100\n",
            "48/48 [==============================] - ETA: 0s - loss: 0.4708 - accuracy: 0.7756 - auroc: 0.8561"
          ]
        },
        {
          "output_type": "stream",
          "name": "stderr",
          "text": [
            "WARNING:absl:Found untraced functions such as dense_3_layer_call_fn, dense_3_layer_call_and_return_conditional_losses, embedding_layer_call_fn, embedding_layer_call_and_return_conditional_losses, query_layer_call_fn while saving (showing 5 of 52). These functions will not be directly callable after loading.\n"
          ]
        },
        {
          "output_type": "stream",
          "name": "stdout",
          "text": [
            "INFO:tensorflow:Assets written to: models/task1_tf_vit_model.ckpt/assets\n"
          ]
        },
        {
          "output_type": "stream",
          "name": "stderr",
          "text": [
            "INFO:tensorflow:Assets written to: models/task1_tf_vit_model.ckpt/assets\n"
          ]
        },
        {
          "output_type": "stream",
          "name": "stdout",
          "text": [
            "\b\b\b\b\b\b\b\b\b\b\b\b\b\b\b\b\b\b\b\b\b\b\b\b\b\b\b\b\b\b\b\b\b\b\b\b\b\b\b\b\b\b\b\b\b\b\b\b\b\b\b\b\b\b\b\b\b\b\b\b\b\b\b\b\b\b\b\b\b\b\b\b\b\b\b\b\b\b\b\b\b\b\b\b\b\b\b\b\b\b\b\b\b\b\b\b\b\b\r48/48 [==============================] - 26s 537ms/step - loss: 0.4708 - accuracy: 0.7756 - auroc: 0.8561 - val_loss: 0.4304 - val_accuracy: 0.8010 - val_auroc: 0.8835\n",
            "Epoch 93/100\n",
            "48/48 [==============================] - 18s 377ms/step - loss: 0.4694 - accuracy: 0.7759 - auroc: 0.8570 - val_loss: 0.4360 - val_accuracy: 0.7961 - val_auroc: 0.8809\n",
            "Epoch 94/100\n",
            "48/48 [==============================] - ETA: 0s - loss: 0.4706 - accuracy: 0.7748 - auroc: 0.8565"
          ]
        },
        {
          "output_type": "stream",
          "name": "stderr",
          "text": [
            "WARNING:absl:Found untraced functions such as dense_3_layer_call_fn, dense_3_layer_call_and_return_conditional_losses, embedding_layer_call_fn, embedding_layer_call_and_return_conditional_losses, query_layer_call_fn while saving (showing 5 of 52). These functions will not be directly callable after loading.\n"
          ]
        },
        {
          "output_type": "stream",
          "name": "stdout",
          "text": [
            "INFO:tensorflow:Assets written to: models/task1_tf_vit_model.ckpt/assets\n"
          ]
        },
        {
          "output_type": "stream",
          "name": "stderr",
          "text": [
            "INFO:tensorflow:Assets written to: models/task1_tf_vit_model.ckpt/assets\n"
          ]
        },
        {
          "output_type": "stream",
          "name": "stdout",
          "text": [
            "\b\b\b\b\b\b\b\b\b\b\b\b\b\b\b\b\b\b\b\b\b\b\b\b\b\b\b\b\b\b\b\b\b\b\b\b\b\b\b\b\b\b\b\b\b\b\b\b\b\b\b\b\b\b\b\b\b\b\b\b\b\b\b\b\b\b\b\b\b\b\b\b\b\b\b\b\b\b\b\b\b\b\b\b\b\b\b\b\b\b\b\b\b\b\b\b\b\b\r48/48 [==============================] - 26s 540ms/step - loss: 0.4706 - accuracy: 0.7748 - auroc: 0.8565 - val_loss: 0.4247 - val_accuracy: 0.8041 - val_auroc: 0.8875\n",
            "Epoch 95/100\n",
            "48/48 [==============================] - ETA: 0s - loss: 0.4676 - accuracy: 0.7773 - auroc: 0.8585"
          ]
        },
        {
          "output_type": "stream",
          "name": "stderr",
          "text": [
            "WARNING:absl:Found untraced functions such as dense_3_layer_call_fn, dense_3_layer_call_and_return_conditional_losses, embedding_layer_call_fn, embedding_layer_call_and_return_conditional_losses, query_layer_call_fn while saving (showing 5 of 52). These functions will not be directly callable after loading.\n"
          ]
        },
        {
          "output_type": "stream",
          "name": "stdout",
          "text": [
            "INFO:tensorflow:Assets written to: models/task1_tf_vit_model.ckpt/assets\n"
          ]
        },
        {
          "output_type": "stream",
          "name": "stderr",
          "text": [
            "INFO:tensorflow:Assets written to: models/task1_tf_vit_model.ckpt/assets\n"
          ]
        },
        {
          "output_type": "stream",
          "name": "stdout",
          "text": [
            "\b\b\b\b\b\b\b\b\b\b\b\b\b\b\b\b\b\b\b\b\b\b\b\b\b\b\b\b\b\b\b\b\b\b\b\b\b\b\b\b\b\b\b\b\b\b\b\b\b\b\b\b\b\b\b\b\b\b\b\b\b\b\b\b\b\b\b\b\b\b\b\b\b\b\b\b\b\b\b\b\b\b\b\b\b\b\b\b\b\b\b\b\b\b\b\b\b\b\r48/48 [==============================] - 26s 536ms/step - loss: 0.4676 - accuracy: 0.7773 - auroc: 0.8585 - val_loss: 0.4260 - val_accuracy: 0.8041 - val_auroc: 0.8887\n",
            "Epoch 96/100\n",
            "48/48 [==============================] - 18s 380ms/step - loss: 0.4653 - accuracy: 0.7785 - auroc: 0.8596 - val_loss: 0.4220 - val_accuracy: 0.8065 - val_auroc: 0.8887\n",
            "Epoch 97/100\n",
            "48/48 [==============================] - 18s 381ms/step - loss: 0.4653 - accuracy: 0.7787 - auroc: 0.8596 - val_loss: 0.4215 - val_accuracy: 0.8044 - val_auroc: 0.8877\n",
            "Epoch 98/100\n",
            "48/48 [==============================] - ETA: 0s - loss: 0.4648 - accuracy: 0.7783 - auroc: 0.8603"
          ]
        },
        {
          "output_type": "stream",
          "name": "stderr",
          "text": [
            "WARNING:absl:Found untraced functions such as dense_3_layer_call_fn, dense_3_layer_call_and_return_conditional_losses, embedding_layer_call_fn, embedding_layer_call_and_return_conditional_losses, query_layer_call_fn while saving (showing 5 of 52). These functions will not be directly callable after loading.\n"
          ]
        },
        {
          "output_type": "stream",
          "name": "stdout",
          "text": [
            "INFO:tensorflow:Assets written to: models/task1_tf_vit_model.ckpt/assets\n"
          ]
        },
        {
          "output_type": "stream",
          "name": "stderr",
          "text": [
            "INFO:tensorflow:Assets written to: models/task1_tf_vit_model.ckpt/assets\n"
          ]
        },
        {
          "output_type": "stream",
          "name": "stdout",
          "text": [
            "\b\b\b\b\b\b\b\b\b\b\b\b\b\b\b\b\b\b\b\b\b\b\b\b\b\b\b\b\b\b\b\b\b\b\b\b\b\b\b\b\b\b\b\b\b\b\b\b\b\b\b\b\b\b\b\b\b\b\b\b\b\b\b\b\b\b\b\b\b\b\b\b\b\b\b\b\b\b\b\b\b\b\b\b\b\b\b\b\b\b\b\b\b\b\b\b\b\b\r48/48 [==============================] - 26s 537ms/step - loss: 0.4648 - accuracy: 0.7783 - auroc: 0.8603 - val_loss: 0.4170 - val_accuracy: 0.8083 - val_auroc: 0.8909\n",
            "Epoch 99/100\n",
            "48/48 [==============================] - 18s 374ms/step - loss: 0.4627 - accuracy: 0.7801 - auroc: 0.8615 - val_loss: 0.4170 - val_accuracy: 0.8068 - val_auroc: 0.8899\n",
            "Epoch 100/100\n",
            "48/48 [==============================] - ETA: 0s - loss: 0.4608 - accuracy: 0.7812 - auroc: 0.8626"
          ]
        },
        {
          "output_type": "stream",
          "name": "stderr",
          "text": [
            "WARNING:absl:Found untraced functions such as dense_3_layer_call_fn, dense_3_layer_call_and_return_conditional_losses, embedding_layer_call_fn, embedding_layer_call_and_return_conditional_losses, query_layer_call_fn while saving (showing 5 of 52). These functions will not be directly callable after loading.\n"
          ]
        },
        {
          "output_type": "stream",
          "name": "stdout",
          "text": [
            "INFO:tensorflow:Assets written to: models/task1_tf_vit_model.ckpt/assets\n"
          ]
        },
        {
          "output_type": "stream",
          "name": "stderr",
          "text": [
            "INFO:tensorflow:Assets written to: models/task1_tf_vit_model.ckpt/assets\n"
          ]
        },
        {
          "output_type": "stream",
          "name": "stdout",
          "text": [
            "\b\b\b\b\b\b\b\b\b\b\b\b\b\b\b\b\b\b\b\b\b\b\b\b\b\b\b\b\b\b\b\b\b\b\b\b\b\b\b\b\b\b\b\b\b\b\b\b\b\b\b\b\b\b\b\b\b\b\b\b\b\b\b\b\b\b\b\b\b\b\b\b\b\b\b\b\b\b\b\b\b\b\b\b\b\b\b\b\b\b\b\b\b\b\b\b\b\b\r48/48 [==============================] - 26s 537ms/step - loss: 0.4608 - accuracy: 0.7812 - auroc: 0.8626 - val_loss: 0.4130 - val_accuracy: 0.8106 - val_auroc: 0.8931\n"
          ]
        }
      ]
    },
    {
      "cell_type": "code",
      "source": [
        "#For Accuracy \n",
        "plt.plot(history_vit.history['accuracy'])\n",
        "plt.plot(history_vit.history['val_accuracy'])\n",
        "plt.title('model accuracy')\n",
        "plt.ylabel('accuracy')\n",
        "plt.xlabel('epoch')\n",
        "plt.legend(['train', 'test'], loc='upper left')\n",
        "plt.show()\n",
        "\n",
        "#For AUROC\n",
        "plt.plot(history_vit.history['auroc'])\n",
        "plt.plot(history_vit.history['val_auroc'])\n",
        "plt.title('model auroc')\n",
        "plt.ylabel('auroc')\n",
        "plt.xlabel('epoch')\n",
        "plt.legend(['train', 'test'], loc='upper left')\n",
        "plt.show()"
      ],
      "metadata": {
        "id": "ZsH7WKIG71Pg",
        "colab": {
          "base_uri": "https://localhost:8080/",
          "height": 573
        },
        "outputId": "0fa04fe9-1e04-4206-a412-3ff37cc15478"
      },
      "execution_count": null,
      "outputs": [
        {
          "output_type": "display_data",
          "data": {
            "text/plain": [
              "<Figure size 432x288 with 1 Axes>"
            ],
            "image/png": "[encoded data removed]"
          },
          "metadata": {
            "needs_background": "light"
          }
        },
        {
          "output_type": "display_data",
          "data": {
            "text/plain": [
              "<Figure size 432x288 with 1 Axes>"
            ],
            "image/png": "[encoded data removed]"
          },
          "metadata": {
            "needs_background": "light"
          }
        }
      ]
    },
    {
      "cell_type": "code",
      "source": [
        ""
      ],
      "metadata": {
        "id": "aKEMtbGBrR1f"
      },
      "execution_count": null,
      "outputs": []
    }
  ]
}