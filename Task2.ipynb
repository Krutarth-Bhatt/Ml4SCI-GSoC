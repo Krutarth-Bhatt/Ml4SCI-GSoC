{
  "cells": [
    {
      "cell_type": "markdown",
      "source": [
        "<h3> <b> Submission Details:\n",
        "<ul>\n",
        "<li> Name : Krutarth Bhatt\n",
        "<li> Current Occupation : MS in Computer Science Student at Arizona State University. \n",
        "<li> Submitted with title: Vision Transformers with Capsule Networks for End-to-End Particle Reconstruction for CMS Experiment\n",
        "<li> My <a href='https://www.linkedin.com/in/krutarth-bhatt/'>LinkedIn<a> "
      ],
      "metadata": {
        "id": "5QLY0CgskYCY"
      }
    },
    {
      "cell_type": "markdown",
      "metadata": {
        "id": "qVPUQ39rJHne"
      },
      "source": [
        "<h3> <b> For this task I have used data from 2 files provided in on the cern website those are:\n",
        "<ul> \n",
        "<li> QCDToGGQQ_IMGjet_RH1all_jet0_run0_n36272.test.snappy.parquet\n",
        "<li> QCDToGGQQ_IMGjet_RH1all_jet0_run1_n47540.test.snappy.parquet\n",
        "</ul>\n",
        " "
      ]
    },
    {
      "cell_type": "markdown",
      "metadata": {
        "id": "-53GEAquKK8W"
      },
      "source": [
        "<h3> <b>Problems faced and their solutions:\n",
        "<ul>\n",
        "<li> Due to the large datasets in one file, the files cannot be loaded and opened on google colab. For this, I loaded the files in my local extracted images and labels and stored them on local and then uploaded all those data to google drivc.\n",
        "<li> Another problem faced was with integration of google drive with google colab. Here google colab is not able to read files stored on google drive due to large number of files in a single folder. Solution for this I found is to store small number of images in different folders instead of populating them in one.  "
      ]
    },
    {
      "cell_type": "markdown",
      "metadata": {
        "id": "VT9uo8_nLqci"
      },
      "source": [
        "<h3> <b> Approach:\n",
        "<ul>\n",
        "<li> Here, I have used the approach of transfer learning. I have loaded a pretrained VGG16 on imagenet dataset and used as a feature extractor.  \n",
        "<li> Also, I have kept skip connections in the network so as to facilitate better flow of gradients. "
      ]
    },
    {
      "cell_type": "code",
      "execution_count": null,
      "metadata": {
        "colab": {
          "base_uri": "https://localhost:8080/"
        },
        "id": "rFDTTkqVw_uf",
        "outputId": "b21ad012-5fac-44ed-a992-d52090692def"
      },
      "outputs": [
        {
          "name": "stdout",
          "output_type": "stream",
          "text": [
            "Mounted at /content/drive\n"
          ]
        }
      ],
      "source": [
        "from google.colab import drive\n",
        "drive.mount('/content/drive')"
      ]
    },
    {
      "cell_type": "code",
      "execution_count": null,
      "metadata": {
        "colab": {
          "base_uri": "https://localhost:8080/"
        },
        "id": "gSAv5v-N79Hd",
        "outputId": "23a61420-db30-4ead-cdfb-534c859f7bc9"
      },
      "outputs": [
        {
          "name": "stdout",
          "output_type": "stream",
          "text": [
            "/content\n"
          ]
        }
      ],
      "source": [
        "cd /content"
      ]
    },
    {
      "cell_type": "code",
      "execution_count": null,
      "metadata": {
        "colab": {
          "base_uri": "https://localhost:8080/"
        },
        "id": "bDsKKIM63HRL",
        "outputId": "61237a62-d8ee-4841-8bd6-0c5955aed29f"
      },
      "outputs": [
        {
          "name": "stdout",
          "output_type": "stream",
          "text": [
            "\u001b[0m\u001b[01;34mdrive\u001b[0m/  \u001b[01;34msample_data\u001b[0m/  task2_imgs.zip\n"
          ]
        }
      ],
      "source": [
        "ls"
      ]
    },
    {
      "cell_type": "code",
      "execution_count": null,
      "metadata": {
        "id": "cvKyVZ2mOP8o"
      },
      "outputs": [],
      "source": [
        "!unzip task2_imgs.zip"
      ]
    },
    {
      "cell_type": "code",
      "execution_count": null,
      "metadata": {
        "colab": {
          "base_uri": "https://localhost:8080/"
        },
        "id": "vqX_GfT18yCq",
        "outputId": "c16bc803-c5cb-4b0a-a0c5-706169f7da70"
      },
      "outputs": [
        {
          "name": "stdout",
          "output_type": "stream",
          "text": [
            "/content/drive/MyDrive/ML4Sci/Task2\n"
          ]
        }
      ],
      "source": [
        "cd /content/drive/MyDrive/ML4Sci/Task2"
      ]
    },
    {
      "cell_type": "code",
      "execution_count": null,
      "metadata": {
        "id": "AUT3oUkVAE1N"
      },
      "outputs": [],
      "source": [
        "import os\n",
        "import h5py    \n",
        "import numpy as np \n",
        "import pandas as pd\n",
        "from sklearn.utils import shuffle\n",
        "import cv2\n",
        "from google.colab.patches import cv2_imshow\n",
        "import matplotlib.pyplot as plt \n",
        "import pickle \n",
        "import cv2"
      ]
    },
    {
      "cell_type": "code",
      "execution_count": null,
      "metadata": {
        "colab": {
          "base_uri": "https://localhost:8080/",
          "height": 423
        },
        "id": "7acd0oL7WTHR",
        "outputId": "8c07c1dd-4a3d-42ad-c3e2-7ce2eb233a31"
      },
      "outputs": [
        {
          "data": {
            "text/html": [
              "\n",
              "  <div id=\"df-6fd777e8-1f61-4bdf-9b4f-9472e363e6fa\">\n",
              "    <div class=\"colab-df-container\">\n",
              "      <div>\n",
              "<style scoped>\n",
              "    .dataframe tbody tr th:only-of-type {\n",
              "        vertical-align: middle;\n",
              "    }\n",
              "\n",
              "    .dataframe tbody tr th {\n",
              "        vertical-align: top;\n",
              "    }\n",
              "\n",
              "    .dataframe thead th {\n",
              "        text-align: right;\n",
              "    }\n",
              "</style>\n",
              "<table border=\"1\" class=\"dataframe\">\n",
              "  <thead>\n",
              "    <tr style=\"text-align: right;\">\n",
              "      <th></th>\n",
              "      <th>img</th>\n",
              "      <th>y</th>\n",
              "    </tr>\n",
              "  </thead>\n",
              "  <tbody>\n",
              "    <tr>\n",
              "      <th>0</th>\n",
              "      <td>task2_imgs/74/img_37216.png</td>\n",
              "      <td>1.0</td>\n",
              "    </tr>\n",
              "    <tr>\n",
              "      <th>1</th>\n",
              "      <td>task2_imgs/38/img_19049.png</td>\n",
              "      <td>0.0</td>\n",
              "    </tr>\n",
              "    <tr>\n",
              "      <th>2</th>\n",
              "      <td>task2_imgs/146/img_73173.png</td>\n",
              "      <td>0.0</td>\n",
              "    </tr>\n",
              "    <tr>\n",
              "      <th>3</th>\n",
              "      <td>task2_imgs/145/img_72837.png</td>\n",
              "      <td>0.0</td>\n",
              "    </tr>\n",
              "    <tr>\n",
              "      <th>4</th>\n",
              "      <td>task2_imgs/92/img_46274.png</td>\n",
              "      <td>1.0</td>\n",
              "    </tr>\n",
              "    <tr>\n",
              "      <th>...</th>\n",
              "      <td>...</td>\n",
              "      <td>...</td>\n",
              "    </tr>\n",
              "    <tr>\n",
              "      <th>83807</th>\n",
              "      <td>task2_imgs/12/img_6235.png</td>\n",
              "      <td>1.0</td>\n",
              "    </tr>\n",
              "    <tr>\n",
              "      <th>83808</th>\n",
              "      <td>task2_imgs/124/img_62138.png</td>\n",
              "      <td>0.0</td>\n",
              "    </tr>\n",
              "    <tr>\n",
              "      <th>83809</th>\n",
              "      <td>task2_imgs/21/img_10640.png</td>\n",
              "      <td>0.0</td>\n",
              "    </tr>\n",
              "    <tr>\n",
              "      <th>83810</th>\n",
              "      <td>task2_imgs/139/img_69653.png</td>\n",
              "      <td>1.0</td>\n",
              "    </tr>\n",
              "    <tr>\n",
              "      <th>83811</th>\n",
              "      <td>task2_imgs/127/img_63689.png</td>\n",
              "      <td>1.0</td>\n",
              "    </tr>\n",
              "  </tbody>\n",
              "</table>\n",
              "<p>83812 rows × 2 columns</p>\n",
              "</div>\n",
              "      <button class=\"colab-df-convert\" onclick=\"convertToInteractive('df-6fd777e8-1f61-4bdf-9b4f-9472e363e6fa')\"\n",
              "              title=\"Convert this dataframe to an interactive table.\"\n",
              "              style=\"display:none;\">\n",
              "        \n",
              "  <svg xmlns=\"http://www.w3.org/2000/svg\" height=\"24px\"viewBox=\"0 0 24 24\"\n",
              "       width=\"24px\">\n",
              "    <path d=\"M0 0h24v24H0V0z\" fill=\"none\"/>\n",
              "    <path d=\"M18.56 5.44l.94 2.06.94-2.06 2.06-.94-2.06-.94-.94-2.06-.94 2.06-2.06.94zm-11 1L8.5 8.5l.94-2.06 2.06-.94-2.06-.94L8.5 2.5l-.94 2.06-2.06.94zm10 10l.94 2.06.94-2.06 2.06-.94-2.06-.94-.94-2.06-.94 2.06-2.06.94z\"/><path d=\"M17.41 7.96l-1.37-1.37c-.4-.4-.92-.59-1.43-.59-.52 0-1.04.2-1.43.59L10.3 9.45l-7.72 7.72c-.78.78-.78 2.05 0 2.83L4 21.41c.39.39.9.59 1.41.59.51 0 1.02-.2 1.41-.59l7.78-7.78 2.81-2.81c.8-.78.8-2.07 0-2.86zM5.41 20L4 18.59l7.72-7.72 1.47 1.35L5.41 20z\"/>\n",
              "  </svg>\n",
              "      </button>\n",
              "      \n",
              "  <style>\n",
              "    .colab-df-container {\n",
              "      display:flex;\n",
              "      flex-wrap:wrap;\n",
              "      gap: 12px;\n",
              "    }\n",
              "\n",
              "    .colab-df-convert {\n",
              "      background-color: #E8F0FE;\n",
              "      border: none;\n",
              "      border-radius: 50%;\n",
              "      cursor: pointer;\n",
              "      display: none;\n",
              "      fill: #1967D2;\n",
              "      height: 32px;\n",
              "      padding: 0 0 0 0;\n",
              "      width: 32px;\n",
              "    }\n",
              "\n",
              "    .colab-df-convert:hover {\n",
              "      background-color: #E2EBFA;\n",
              "      box-shadow: 0px 1px 2px rgba(60, 64, 67, 0.3), 0px 1px 3px 1px rgba(60, 64, 67, 0.15);\n",
              "      fill: #174EA6;\n",
              "    }\n",
              "\n",
              "    [theme=dark] .colab-df-convert {\n",
              "      background-color: #3B4455;\n",
              "      fill: #D2E3FC;\n",
              "    }\n",
              "\n",
              "    [theme=dark] .colab-df-convert:hover {\n",
              "      background-color: #434B5C;\n",
              "      box-shadow: 0px 1px 3px 1px rgba(0, 0, 0, 0.15);\n",
              "      filter: drop-shadow(0px 1px 2px rgba(0, 0, 0, 0.3));\n",
              "      fill: #FFFFFF;\n",
              "    }\n",
              "  </style>\n",
              "\n",
              "      <script>\n",
              "        const buttonEl =\n",
              "          document.querySelector('#df-6fd777e8-1f61-4bdf-9b4f-9472e363e6fa button.colab-df-convert');\n",
              "        buttonEl.style.display =\n",
              "          google.colab.kernel.accessAllowed ? 'block' : 'none';\n",
              "\n",
              "        async function convertToInteractive(key) {\n",
              "          const element = document.querySelector('#df-6fd777e8-1f61-4bdf-9b4f-9472e363e6fa');\n",
              "          const dataTable =\n",
              "            await google.colab.kernel.invokeFunction('convertToInteractive',\n",
              "                                                     [key], {});\n",
              "          if (!dataTable) return;\n",
              "\n",
              "          const docLinkHtml = 'Like what you see? Visit the ' +\n",
              "            '<a target=\"_blank\" href=https://colab.research.google.com/notebooks/data_table.ipynb>data table notebook</a>'\n",
              "            + ' to learn more about interactive tables.';\n",
              "          element.innerHTML = '';\n",
              "          dataTable['output_type'] = 'display_data';\n",
              "          await google.colab.output.renderOutput(dataTable, element);\n",
              "          const docLink = document.createElement('div');\n",
              "          docLink.innerHTML = docLinkHtml;\n",
              "          element.appendChild(docLink);\n",
              "        }\n",
              "      </script>\n",
              "    </div>\n",
              "  </div>\n",
              "  "
            ],
            "text/plain": [
              "                                img    y\n",
              "0       task2_imgs/74/img_37216.png  1.0\n",
              "1       task2_imgs/38/img_19049.png  0.0\n",
              "2      task2_imgs/146/img_73173.png  0.0\n",
              "3      task2_imgs/145/img_72837.png  0.0\n",
              "4       task2_imgs/92/img_46274.png  1.0\n",
              "...                             ...  ...\n",
              "83807    task2_imgs/12/img_6235.png  1.0\n",
              "83808  task2_imgs/124/img_62138.png  0.0\n",
              "83809   task2_imgs/21/img_10640.png  0.0\n",
              "83810  task2_imgs/139/img_69653.png  1.0\n",
              "83811  task2_imgs/127/img_63689.png  1.0\n",
              "\n",
              "[83812 rows x 2 columns]"
            ]
          },
          "execution_count": 10,
          "metadata": {},
          "output_type": "execute_result"
        }
      ],
      "source": [
        "img_lable = pd.read_csv('Img_Label_New3.csv')\n",
        "img_lable.reset_index(drop=True, inplace=True)\n",
        "img_lable = img_lable[['img', 'y']]\n",
        "img_lable = shuffle(img_lable)\n",
        "img_lable.reset_index(drop=True, inplace=True)\n",
        "\n",
        "img_lable"
      ]
    },
    {
      "cell_type": "code",
      "execution_count": null,
      "metadata": {
        "id": "bTVcrbbBawhu"
      },
      "outputs": [],
      "source": [
        "split_ratio = 0.8\n",
        "train_samples = int(0.8*len(img_lable))\n",
        "\n",
        "train_df = img_lable[:train_samples]\n",
        "train_df.reset_index(drop=True, inplace=True)\n",
        "\n",
        "test_df = img_lable[train_samples:]\n",
        "test_df.reset_index(drop=True, inplace=True)"
      ]
    },
    {
      "cell_type": "code",
      "execution_count": null,
      "metadata": {
        "id": "o0zYj09ZW9Q0"
      },
      "outputs": [],
      "source": [
        "import tensorflow as tf\n",
        "\n",
        "from tensorflow.keras.layers import Dense, Flatten, Conv2D\n",
        "from tensorflow.keras import Model\n",
        "\n",
        "tf.random.set_seed(0)"
      ]
    },
    {
      "cell_type": "code",
      "execution_count": null,
      "metadata": {
        "colab": {
          "base_uri": "https://localhost:8080/"
        },
        "id": "9dxnxfqg1UTI",
        "outputId": "5e1e35fa-509f-42ca-cc54-2b2adc3761b6"
      },
      "outputs": [
        {
          "name": "stdout",
          "output_type": "stream",
          "text": [
            "Downloading data from https://storage.googleapis.com/tensorflow/keras-applications/vgg16/vgg16_weights_tf_dim_ordering_tf_kernels_notop.h5\n",
            "58892288/58889256 [==============================] - 0s 0us/step\n",
            "58900480/58889256 [==============================] - 0s 0us/step\n"
          ]
        }
      ],
      "source": [
        "#Simple CNN \n",
        "class CNN_Model(Model):\n",
        "  def __init__(self):\n",
        "    super(CNN_Model, self).__init__()\n",
        "    \n",
        "    \n",
        "    self.vgg_base = tf.keras.applications.vgg16.VGG16(\n",
        "        include_top=False,\n",
        "        weights='imagenet',\n",
        "        input_tensor=None,\n",
        "        input_shape=(125, 125, 3),\n",
        "        pooling=None,\n",
        "    )\n",
        "    self.vgg_base.trainable = False\n",
        "\n",
        "    self.flatten = Flatten()\n",
        "\n",
        "    self.do = tf.keras.layers.Dropout(0.3) \n",
        "    self.d2 = Dense(4608, activation='relu')\n",
        "\n",
        "    self.d3 = Dense(1, activation='sigmoid')\n",
        "\n",
        "    \n",
        "\n",
        "  def call(self, x):\n",
        "    x = self.vgg_base(x)\n",
        "    x = self.flatten(x)\n",
        "    \n",
        "    x_ = self.d2(x)\n",
        "    x += x_\n",
        "    x = self.do(x)\n",
        "\n",
        "    x = self.d3(x)\n",
        "\n",
        "    return x\n",
        "\n",
        "# Create an instance of the model\n",
        "model = CNN_Model()"
      ]
    },
    {
      "cell_type": "code",
      "execution_count": null,
      "metadata": {
        "id": "iUJrgbirXbbE"
      },
      "outputs": [],
      "source": [
        "#Custom Metric to Get auc_roc during training \n",
        "from sklearn.metrics import roc_auc_score\n",
        "def auroc(y_true, y_pred):\n",
        "    return tf.py_function(roc_auc_score, (y_true, y_pred), tf.double)"
      ]
    },
    {
      "cell_type": "code",
      "execution_count": null,
      "metadata": {
        "id": "Ehn1M5qqXfMv"
      },
      "outputs": [],
      "source": [
        "#Custom Data Generator \n",
        "class CustomDataGen(tf.keras.utils.Sequence):\n",
        "    \n",
        "    def __init__(self, data_df,\n",
        "                 batch_size,\n",
        "                 input_size=(125, 125, 3),\n",
        "                 shuffle=True):\n",
        "      \n",
        "      self.data_df = data_df \n",
        "\n",
        "      self.batch_size = batch_size\n",
        "      self.shuffle = shuffle\n",
        "\n",
        "      self.input_size = input_size\n",
        "\n",
        "\n",
        "    def __getitem__(self, index):\n",
        "      x = []\n",
        "      y = []\n",
        "      for i in range(index*self.batch_size , (index+1)*self.batch_size):\n",
        "        img = cv2.imread('/content/'+self.data_df['img'][i])\n",
        "        x.append(img)\n",
        "        if img is None:\n",
        "          print('task2_imgs/'+self.data_df['img'][i])\n",
        "        y.append(self.data_df['y'][i])\n",
        "\n",
        "      x = np.array(x, dtype=float)\n",
        "      # print(x.shape)\n",
        "      y = np.array(y)\n",
        "\n",
        "      return x, y\n",
        "\n",
        "    def __len__(self):\n",
        "      return len(self.data_df) // self.batch_size\n",
        "\n",
        "\n",
        "    def on_epoch_end(self):\n",
        "      'Updates indexes after each epoch'\n",
        "      self.indexes = np.arange(len(self.data_df))\n",
        "      if self.shuffle == True:\n",
        "          np.random.shuffle(self.indexes)"
      ]
    },
    {
      "cell_type": "markdown",
      "metadata": {
        "id": "rmNbyo_xaig8"
      },
      "source": [
        "#Training The Model"
      ]
    },
    {
      "cell_type": "code",
      "execution_count": null,
      "metadata": {
        "id": "2khhING4aUvX"
      },
      "outputs": [],
      "source": [
        "train_gen = CustomDataGen(train_df, 512)\n",
        "val_gen = CustomDataGen(test_df, 512)"
      ]
    },
    {
      "cell_type": "code",
      "execution_count": null,
      "metadata": {
        "colab": {
          "base_uri": "https://localhost:8080/"
        },
        "id": "S8gOao87C3RY",
        "outputId": "570760a8-0bbd-4e9f-dd7e-01876a9ac8f2"
      },
      "outputs": [
        {
          "data": {
            "text/plain": [
              "130"
            ]
          },
          "execution_count": 18,
          "metadata": {},
          "output_type": "execute_result"
        }
      ],
      "source": [
        "len(train_gen)"
      ]
    },
    {
      "cell_type": "code",
      "execution_count": null,
      "metadata": {
        "id": "kz3798o7aY1O"
      },
      "outputs": [],
      "source": [
        "model.compile(optimizer=tf.keras.optimizers.Adam(learning_rate=0.0008),\n",
        "              loss=tf.keras.losses.BinaryCrossentropy(),\n",
        "              metrics=['accuracy', auroc])"
      ]
    },
    {
      "cell_type": "code",
      "execution_count": null,
      "metadata": {
        "id": "QGMVQNfzabrt"
      },
      "outputs": [],
      "source": [
        "checkpoint_callback = tf.keras.callbacks.ModelCheckpoint(\n",
        "    filepath = 'models/task2_tf_model.ckpt',\n",
        "    monitor='val_auroc',\n",
        "    verbose=0,\n",
        "    save_best_only=True,\n",
        "    save_weights_only=False,\n",
        "    mode='max',\n",
        "    save_freq='epoch',\n",
        "    options=None,\n",
        "    initial_value_threshold=None,\n",
        ")"
      ]
    },
    {
      "cell_type": "code",
      "execution_count": null,
      "metadata": {
        "colab": {
          "background_save": true,
          "base_uri": "https://localhost:8080/"
        },
        "id": "AEfGmvTmafK_",
        "outputId": "f856090d-70e6-43a0-b94b-12d5b3b1a4d7"
      },
      "outputs": [
        {
          "name": "stdout",
          "output_type": "stream",
          "text": [
            "Epoch 1/15\n",
            "130/130 [==============================] - ETA: 0s - loss: 0.7860 - accuracy: 0.6461 - auroc: 0.7216INFO:tensorflow:Assets written to: models/task2_tf_model.ckpt/assets\n",
            "130/130 [==============================] - 295s 2s/step - loss: 0.7860 - accuracy: 0.6461 - auroc: 0.7216 - val_loss: 0.5940 - val_accuracy: 0.6905 - val_auroc: 0.7629\n",
            "Epoch 2/15\n",
            "130/130 [==============================] - ETA: 0s - loss: 0.5906 - accuracy: 0.6923 - auroc: 0.7566INFO:tensorflow:Assets written to: models/task2_tf_model.ckpt/assets\n",
            "130/130 [==============================] - 291s 2s/step - loss: 0.5906 - accuracy: 0.6923 - auroc: 0.7566 - val_loss: 0.5758 - val_accuracy: 0.7076 - val_auroc: 0.7703\n",
            "Epoch 3/15\n",
            "130/130 [==============================] - ETA: 0s - loss: 0.5814 - accuracy: 0.7004 - auroc: 0.7661INFO:tensorflow:Assets written to: models/task2_tf_model.ckpt/assets\n",
            "130/130 [==============================] - 291s 2s/step - loss: 0.5814 - accuracy: 0.7004 - auroc: 0.7661 - val_loss: 0.5746 - val_accuracy: 0.7077 - val_auroc: 0.7740\n",
            "Epoch 4/15\n",
            "130/130 [==============================] - ETA: 0s - loss: 0.5783 - accuracy: 0.7043 - auroc: 0.7708INFO:tensorflow:Assets written to: models/task2_tf_model.ckpt/assets\n",
            "130/130 [==============================] - 291s 2s/step - loss: 0.5783 - accuracy: 0.7043 - auroc: 0.7708 - val_loss: 0.5731 - val_accuracy: 0.7092 - val_auroc: 0.7755\n",
            "Epoch 5/15\n",
            "130/130 [==============================] - ETA: 0s - loss: 0.5761 - accuracy: 0.7048 - auroc: 0.7725INFO:tensorflow:Assets written to: models/task2_tf_model.ckpt/assets\n",
            "130/130 [==============================] - 291s 2s/step - loss: 0.5761 - accuracy: 0.7048 - auroc: 0.7725 - val_loss: 0.5855 - val_accuracy: 0.6968 - val_auroc: 0.7760\n",
            "Epoch 6/15\n",
            "130/130 [==============================] - ETA: 0s - loss: 0.5731 - accuracy: 0.7088 - auroc: 0.7752INFO:tensorflow:Assets written to: models/task2_tf_model.ckpt/assets\n",
            "130/130 [==============================] - 290s 2s/step - loss: 0.5731 - accuracy: 0.7088 - auroc: 0.7752 - val_loss: 0.5709 - val_accuracy: 0.7115 - val_auroc: 0.7779\n",
            "Epoch 7/15\n",
            "130/130 [==============================] - 287s 2s/step - loss: 0.5730 - accuracy: 0.7090 - auroc: 0.7758 - val_loss: 0.5704 - val_accuracy: 0.7125 - val_auroc: 0.7770\n",
            "Epoch 8/15\n",
            "130/130 [==============================] - 286s 2s/step - loss: 0.5721 - accuracy: 0.7093 - auroc: 0.7771 - val_loss: 0.5741 - val_accuracy: 0.7075 - val_auroc: 0.7774\n",
            "Epoch 9/15\n",
            "130/130 [==============================] - ETA: 0s - loss: 0.5739 - accuracy: 0.7071 - auroc: 0.7776INFO:tensorflow:Assets written to: models/task2_tf_model.ckpt/assets\n",
            "130/130 [==============================] - 291s 2s/step - loss: 0.5739 - accuracy: 0.7071 - auroc: 0.7776 - val_loss: 0.5691 - val_accuracy: 0.7125 - val_auroc: 0.7790\n",
            "Epoch 10/15\n",
            "130/130 [==============================] - 286s 2s/step - loss: 0.5722 - accuracy: 0.7080 - auroc: 0.7790 - val_loss: 0.5720 - val_accuracy: 0.7121 - val_auroc: 0.7771\n",
            "Epoch 11/15\n",
            "130/130 [==============================] - 287s 2s/step - loss: 0.5686 - accuracy: 0.7118 - auroc: 0.7801 - val_loss: 0.5714 - val_accuracy: 0.7104 - val_auroc: 0.7790\n",
            "Epoch 12/15\n",
            "130/130 [==============================] - 287s 2s/step - loss: 0.5673 - accuracy: 0.7130 - auroc: 0.7808 - val_loss: 0.5807 - val_accuracy: 0.7033 - val_auroc: 0.7786\n",
            "Epoch 13/15\n",
            "130/130 [==============================] - 286s 2s/step - loss: 0.5727 - accuracy: 0.7072 - auroc: 0.7804 - val_loss: 0.5750 - val_accuracy: 0.7076 - val_auroc: 0.7789\n",
            "Epoch 14/15\n",
            "130/130 [==============================] - ETA: 0s - loss: 0.5676 - accuracy: 0.7101 - auroc: 0.7815INFO:tensorflow:Assets written to: models/task2_tf_model.ckpt/assets\n",
            "130/130 [==============================] - 290s 2s/step - loss: 0.5676 - accuracy: 0.7101 - auroc: 0.7815 - val_loss: 0.5680 - val_accuracy: 0.7156 - val_auroc: 0.7801\n",
            "Epoch 15/15\n",
            "130/130 [==============================] - 287s 2s/step - loss: 0.5667 - accuracy: 0.7119 - auroc: 0.7823 - val_loss: 0.5688 - val_accuracy: 0.7136 - val_auroc: 0.7796\n"
          ]
        }
      ],
      "source": [
        "history = model.fit(train_gen, validation_data = val_gen, epochs = 15, callbacks=[checkpoint_callback])"
      ]
    },
    {
      "cell_type": "code",
      "execution_count": null,
      "metadata": {
        "colab": {
          "background_save": true
        },
        "id": "6qpsdrPULwKa",
        "outputId": "82dec3f7-d380-4395-f03e-84142487f7cc"
      },
      "outputs": [
        {
          "data": {
            "image/png": "[encoded data removed]",
            "text/plain": [
              "<Figure size 432x288 with 1 Axes>"
            ]
          },
          "metadata": {},
          "output_type": "display_data"
        },
        {
          "data": {
            "image/png": "[encoded data removed]",
            "text/plain": [
              "<Figure size 432x288 with 1 Axes>"
            ]
          },
          "metadata": {},
          "output_type": "display_data"
        }
      ],
      "source": [
        "plt.plot(history.history['accuracy'])\n",
        "plt.plot(history.history['val_accuracy'])\n",
        "plt.title('model accuracy')\n",
        "plt.ylabel('accuracy')\n",
        "plt.xlabel('epoch')\n",
        "plt.legend(['train', 'test'], loc='upper left')\n",
        "plt.show()\n",
        "\n",
        "#For AUROC\n",
        "plt.plot(history.history['auroc'])\n",
        "plt.plot(history.history['val_auroc'])\n",
        "plt.title('model auroc')\n",
        "plt.ylabel('auroc')\n",
        "plt.xlabel('epoch')\n",
        "plt.legend(['train', 'test'], loc='upper left')\n",
        "plt.show()"
      ]
    },
    {
      "cell_type": "code",
      "execution_count": null,
      "metadata": {
        "id": "VMDbpt_gMyAn"
      },
      "outputs": [],
      "source": [
        ""
      ]
    }
  ],
  "metadata": {
    "accelerator": "GPU",
    "colab": {
      "collapsed_sections": [],
      "name": "Task2.ipynb",
      "provenance": []
    },
    "kernelspec": {
      "display_name": "Python 3",
      "name": "python3"
    },
    "language_info": {
      "name": "python"
    }
  },
  "nbformat": 4,
  "nbformat_minor": 0
}